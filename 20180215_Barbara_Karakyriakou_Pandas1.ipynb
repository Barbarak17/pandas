{
 "cells": [
  {
   "cell_type": "markdown",
   "metadata": {},
   "source": [
    "### Your Name Here: Barbara Karakyriakou"
   ]
  },
  {
   "cell_type": "markdown",
   "metadata": {},
   "source": [
    "PSET2 is designed to advance your data exploration and manipulation skills with the Pandas library.  Before you get started please review and understand our Academic Integrity policy.  We understand that for some of your work you may have to use external sorces.  Please cite and be a good acedemic citizen. Remember that All homework assignments, quizzes and exams must be your independent work!"
   ]
  },
  {
   "cell_type": "markdown",
   "metadata": {},
   "source": [
    "## Problem 1: "
   ]
  },
  {
   "cell_type": "markdown",
   "metadata": {},
   "source": [
    "# Exploring Pandas at Wal-Mart*\n",
    "\n",
    "We're going to explore some features of Pandas using at this dataset of Wal-Mart stores that opened since 1962. \n",
    "\n",
    "#### *You can't find actual pandas at Wal-Mart.\n",
    "\n"
   ]
  },
  {
   "cell_type": "markdown",
   "metadata": {},
   "source": [
    "### Information about the dataset\n",
    "You can find the data in the file walmart.csv (source: https://github.com/plotly/datasets) The file has over 2000 records of Wal-Marts and Supercenters that have opened in the US since 1962. The dataset has the following columns:\n",
    "<ul>\n",
    "<li><b>storenum:</b> The store number</li>\n",
    "<li><b>OPENDATE:</b> The opening date of the store in MM/DD/YYYY format</li>\n",
    "<li><b>date_super:</b> The date that the store was converted into a supercenter in MM/DD/YYYY format. There may be empty values if the store was not converted into a supercenter</li>\n",
    "<li><b>conversion:</b> The number of conversions from Wal-Mart to Supercenter that the store has gone through. </li>\n",
    "<li><b>STREETADDR:</b> The store's street address</li>\n",
    "<li><b>STRCITY:</b> The store's city</li>\n",
    "<li><b>STRSTATE:</b> The store's state</li>\n",
    "<li><b>ZIPCODE:</b> The store's zipcode</li>\n",
    "<li><b>type_store:</b> The type of store. Possible values are Wal-mart and SuperCenter</li>\n",
    "<li><b>LAT:</b> The store's latitude</li>\n",
    "<li><b>LON:</b> The store's longitude</li>\n",
    "<li><b>MONTH:</b> The month the store opened</li>\n",
    "<li><b>DAY:</b> The day the store opened</li>\n",
    "<li><b>YEAR:</b> The year the store opened</li>\n",
    "</ul>\n"
   ]
  },
  {
   "cell_type": "markdown",
   "metadata": {},
   "source": [
    "### Part 1: Getting the data\n",
    "You should have downloaded walmart.csv from the assignment. Now we need to load it into a dataframe. "
   ]
  },
  {
   "cell_type": "code",
   "execution_count": 2,
   "metadata": {},
   "outputs": [],
   "source": [
    "import numpy as np\n",
    "import pandas as pd\n",
    "### Part 2: Exploring the dataimport pandas as pd\n",
    "\n",
    "# load walmart.csv into a dataframe. Hint: use the read_csv function\n",
    "walmart = pd.read_csv(\"walmart.csv\")"
   ]
  },
  {
   "cell_type": "markdown",
   "metadata": {},
   "source": [
    "### Part 2: Exploring the data"
   ]
  },
  {
   "cell_type": "markdown",
   "metadata": {},
   "source": [
    "Let's take a look at what this data looks like. Display the first 10 rows of this dataset using Data slicing. "
   ]
  },
  {
   "cell_type": "code",
   "execution_count": 3,
   "metadata": {},
   "outputs": [
    {
     "data": {
      "text/html": [
       "<div>\n",
       "<style scoped>\n",
       "    .dataframe tbody tr th:only-of-type {\n",
       "        vertical-align: middle;\n",
       "    }\n",
       "\n",
       "    .dataframe tbody tr th {\n",
       "        vertical-align: top;\n",
       "    }\n",
       "\n",
       "    .dataframe thead th {\n",
       "        text-align: right;\n",
       "    }\n",
       "</style>\n",
       "<table border=\"1\" class=\"dataframe\">\n",
       "  <thead>\n",
       "    <tr style=\"text-align: right;\">\n",
       "      <th></th>\n",
       "      <th>storenum</th>\n",
       "      <th>OPENDATE</th>\n",
       "      <th>date_super</th>\n",
       "      <th>conversion</th>\n",
       "      <th>STREETADDR</th>\n",
       "      <th>STRCITY</th>\n",
       "      <th>STRSTATE</th>\n",
       "      <th>ZIPCODE</th>\n",
       "      <th>type_store</th>\n",
       "      <th>LAT</th>\n",
       "      <th>LON</th>\n",
       "      <th>MONTH</th>\n",
       "      <th>DAY</th>\n",
       "      <th>YEAR</th>\n",
       "    </tr>\n",
       "  </thead>\n",
       "  <tbody>\n",
       "    <tr>\n",
       "      <td>0</td>\n",
       "      <td>1</td>\n",
       "      <td>7/1/62</td>\n",
       "      <td>3/1/97</td>\n",
       "      <td>1.0</td>\n",
       "      <td>2110 WEST WALNUT</td>\n",
       "      <td>Rogers</td>\n",
       "      <td>AR</td>\n",
       "      <td>72756</td>\n",
       "      <td>Supercenter</td>\n",
       "      <td>36.342235</td>\n",
       "      <td>-94.07141</td>\n",
       "      <td>7</td>\n",
       "      <td>1</td>\n",
       "      <td>1962</td>\n",
       "    </tr>\n",
       "    <tr>\n",
       "      <td>1</td>\n",
       "      <td>2</td>\n",
       "      <td>8/1/64</td>\n",
       "      <td>3/1/96</td>\n",
       "      <td>1.0</td>\n",
       "      <td>1417 HWY 62/65 N</td>\n",
       "      <td>Harrison</td>\n",
       "      <td>AR</td>\n",
       "      <td>72601</td>\n",
       "      <td>Supercenter</td>\n",
       "      <td>36.236984</td>\n",
       "      <td>-93.09345</td>\n",
       "      <td>8</td>\n",
       "      <td>1</td>\n",
       "      <td>1964</td>\n",
       "    </tr>\n",
       "    <tr>\n",
       "      <td>2</td>\n",
       "      <td>4</td>\n",
       "      <td>8/1/65</td>\n",
       "      <td>3/1/02</td>\n",
       "      <td>1.0</td>\n",
       "      <td>2901 HWY 412 EAST</td>\n",
       "      <td>Siloam Springs</td>\n",
       "      <td>AR</td>\n",
       "      <td>72761</td>\n",
       "      <td>Supercenter</td>\n",
       "      <td>36.179905</td>\n",
       "      <td>-94.50208</td>\n",
       "      <td>8</td>\n",
       "      <td>1</td>\n",
       "      <td>1965</td>\n",
       "    </tr>\n",
       "    <tr>\n",
       "      <td>3</td>\n",
       "      <td>8</td>\n",
       "      <td>10/1/67</td>\n",
       "      <td>3/1/93</td>\n",
       "      <td>1.0</td>\n",
       "      <td>1621 NORTH BUSINESS 9</td>\n",
       "      <td>Morrilton</td>\n",
       "      <td>AR</td>\n",
       "      <td>72110</td>\n",
       "      <td>Supercenter</td>\n",
       "      <td>35.156491</td>\n",
       "      <td>-92.75858</td>\n",
       "      <td>10</td>\n",
       "      <td>1</td>\n",
       "      <td>1967</td>\n",
       "    </tr>\n",
       "    <tr>\n",
       "      <td>4</td>\n",
       "      <td>7</td>\n",
       "      <td>10/1/67</td>\n",
       "      <td>NaN</td>\n",
       "      <td>NaN</td>\n",
       "      <td>3801 CAMP ROBINSON RD.</td>\n",
       "      <td>North Little Rock</td>\n",
       "      <td>AR</td>\n",
       "      <td>72118</td>\n",
       "      <td>Wal-Mart</td>\n",
       "      <td>34.813269</td>\n",
       "      <td>-92.30229</td>\n",
       "      <td>10</td>\n",
       "      <td>1</td>\n",
       "      <td>1967</td>\n",
       "    </tr>\n",
       "    <tr>\n",
       "      <td>5</td>\n",
       "      <td>10</td>\n",
       "      <td>7/1/68</td>\n",
       "      <td>3/1/98</td>\n",
       "      <td>1.0</td>\n",
       "      <td>2020 SOUTH MUSKOGEE</td>\n",
       "      <td>Tahlequah</td>\n",
       "      <td>OK</td>\n",
       "      <td>74464</td>\n",
       "      <td>Supercenter</td>\n",
       "      <td>35.923658</td>\n",
       "      <td>-94.97185</td>\n",
       "      <td>7</td>\n",
       "      <td>1</td>\n",
       "      <td>1968</td>\n",
       "    </tr>\n",
       "    <tr>\n",
       "      <td>6</td>\n",
       "      <td>13</td>\n",
       "      <td>11/1/68</td>\n",
       "      <td>3/1/96</td>\n",
       "      <td>1.0</td>\n",
       "      <td>2705 GRAND AVE</td>\n",
       "      <td>Carthage</td>\n",
       "      <td>MO</td>\n",
       "      <td>64836</td>\n",
       "      <td>Supercenter</td>\n",
       "      <td>37.168985</td>\n",
       "      <td>-94.31164</td>\n",
       "      <td>11</td>\n",
       "      <td>1</td>\n",
       "      <td>1968</td>\n",
       "    </tr>\n",
       "    <tr>\n",
       "      <td>7</td>\n",
       "      <td>12</td>\n",
       "      <td>7/1/68</td>\n",
       "      <td>3/1/94</td>\n",
       "      <td>1.0</td>\n",
       "      <td>1500 LYNN RIGGS BLVD</td>\n",
       "      <td>Claremore</td>\n",
       "      <td>OK</td>\n",
       "      <td>74017</td>\n",
       "      <td>Supercenter</td>\n",
       "      <td>36.327143</td>\n",
       "      <td>-95.61192</td>\n",
       "      <td>7</td>\n",
       "      <td>1</td>\n",
       "      <td>1968</td>\n",
       "    </tr>\n",
       "    <tr>\n",
       "      <td>8</td>\n",
       "      <td>11</td>\n",
       "      <td>3/1/68</td>\n",
       "      <td>2/20/02</td>\n",
       "      <td>1.0</td>\n",
       "      <td>65 WAL-MART DRIVE</td>\n",
       "      <td>Mountain Home</td>\n",
       "      <td>AR</td>\n",
       "      <td>72653</td>\n",
       "      <td>Supercenter</td>\n",
       "      <td>36.329026</td>\n",
       "      <td>-92.35781</td>\n",
       "      <td>3</td>\n",
       "      <td>1</td>\n",
       "      <td>1968</td>\n",
       "    </tr>\n",
       "    <tr>\n",
       "      <td>9</td>\n",
       "      <td>9</td>\n",
       "      <td>3/1/68</td>\n",
       "      <td>3/1/00</td>\n",
       "      <td>1.0</td>\n",
       "      <td>1303 SOUTH MAIN</td>\n",
       "      <td>Sikeston</td>\n",
       "      <td>MO</td>\n",
       "      <td>63801</td>\n",
       "      <td>Supercenter</td>\n",
       "      <td>36.891163</td>\n",
       "      <td>-89.58355</td>\n",
       "      <td>3</td>\n",
       "      <td>1</td>\n",
       "      <td>1968</td>\n",
       "    </tr>\n",
       "  </tbody>\n",
       "</table>\n",
       "</div>"
      ],
      "text/plain": [
       "   storenum OPENDATE date_super  conversion              STREETADDR  \\\n",
       "0         1   7/1/62     3/1/97         1.0        2110 WEST WALNUT   \n",
       "1         2   8/1/64     3/1/96         1.0        1417 HWY 62/65 N   \n",
       "2         4   8/1/65     3/1/02         1.0       2901 HWY 412 EAST   \n",
       "3         8  10/1/67     3/1/93         1.0   1621 NORTH BUSINESS 9   \n",
       "4         7  10/1/67        NaN         NaN  3801 CAMP ROBINSON RD.   \n",
       "5        10   7/1/68     3/1/98         1.0     2020 SOUTH MUSKOGEE   \n",
       "6        13  11/1/68     3/1/96         1.0          2705 GRAND AVE   \n",
       "7        12   7/1/68     3/1/94         1.0    1500 LYNN RIGGS BLVD   \n",
       "8        11   3/1/68    2/20/02         1.0       65 WAL-MART DRIVE   \n",
       "9         9   3/1/68     3/1/00         1.0         1303 SOUTH MAIN   \n",
       "\n",
       "             STRCITY STRSTATE  ZIPCODE   type_store        LAT       LON  \\\n",
       "0             Rogers       AR    72756  Supercenter  36.342235 -94.07141   \n",
       "1           Harrison       AR    72601  Supercenter  36.236984 -93.09345   \n",
       "2     Siloam Springs       AR    72761  Supercenter  36.179905 -94.50208   \n",
       "3          Morrilton       AR    72110  Supercenter  35.156491 -92.75858   \n",
       "4  North Little Rock       AR    72118     Wal-Mart  34.813269 -92.30229   \n",
       "5          Tahlequah       OK    74464  Supercenter  35.923658 -94.97185   \n",
       "6           Carthage       MO    64836  Supercenter  37.168985 -94.31164   \n",
       "7          Claremore       OK    74017  Supercenter  36.327143 -95.61192   \n",
       "8      Mountain Home       AR    72653  Supercenter  36.329026 -92.35781   \n",
       "9           Sikeston       MO    63801  Supercenter  36.891163 -89.58355   \n",
       "\n",
       "   MONTH  DAY  YEAR  \n",
       "0      7    1  1962  \n",
       "1      8    1  1964  \n",
       "2      8    1  1965  \n",
       "3     10    1  1967  \n",
       "4     10    1  1967  \n",
       "5      7    1  1968  \n",
       "6     11    1  1968  \n",
       "7      7    1  1968  \n",
       "8      3    1  1968  \n",
       "9      3    1  1968  "
      ]
     },
     "execution_count": 3,
     "metadata": {},
     "output_type": "execute_result"
    }
   ],
   "source": [
    "# your code here\n",
    "\n",
    "# display first 10 rows of the walmart dataframe\n",
    "walmart.head(10)"
   ]
  },
  {
   "cell_type": "markdown",
   "metadata": {},
   "source": [
    "You can find a lot of information about a pandas dataframe. In the cell below, find the number of rows and columns that are in this dataset. <br><b>HINT:</b> Remember that NumPy is the foundation of Pandas, how would you find the number of rows and columns in a NumPy array?"
   ]
  },
  {
   "cell_type": "code",
   "execution_count": 4,
   "metadata": {},
   "outputs": [
    {
     "name": "stdout",
     "output_type": "stream",
     "text": [
      "This dataset has 2992 rows.\n",
      "This dataset has 14 columns.\n"
     ]
    }
   ],
   "source": [
    "# put your code here\n",
    "\n",
    "#number of rows\n",
    "walRow = walmart.shape[0]\n",
    "print(\"This dataset has\", walRow, \"rows.\")\n",
    "\n",
    "#number of columns\n",
    "walCol = walmart.shape[1]\n",
    "print(\"This dataset has\", walCol, \"columns.\")"
   ]
  },
  {
   "cell_type": "markdown",
   "metadata": {},
   "source": [
    "You can also display one or more columns of your choice. Display the type_store column."
   ]
  },
  {
   "cell_type": "code",
   "execution_count": 5,
   "metadata": {},
   "outputs": [
    {
     "data": {
      "text/html": [
       "<div>\n",
       "<style scoped>\n",
       "    .dataframe tbody tr th:only-of-type {\n",
       "        vertical-align: middle;\n",
       "    }\n",
       "\n",
       "    .dataframe tbody tr th {\n",
       "        vertical-align: top;\n",
       "    }\n",
       "\n",
       "    .dataframe thead th {\n",
       "        text-align: right;\n",
       "    }\n",
       "</style>\n",
       "<table border=\"1\" class=\"dataframe\">\n",
       "  <thead>\n",
       "    <tr style=\"text-align: right;\">\n",
       "      <th></th>\n",
       "      <th>type_store</th>\n",
       "    </tr>\n",
       "  </thead>\n",
       "  <tbody>\n",
       "    <tr>\n",
       "      <td>0</td>\n",
       "      <td>Supercenter</td>\n",
       "    </tr>\n",
       "    <tr>\n",
       "      <td>1</td>\n",
       "      <td>Supercenter</td>\n",
       "    </tr>\n",
       "    <tr>\n",
       "      <td>2</td>\n",
       "      <td>Supercenter</td>\n",
       "    </tr>\n",
       "    <tr>\n",
       "      <td>3</td>\n",
       "      <td>Supercenter</td>\n",
       "    </tr>\n",
       "    <tr>\n",
       "      <td>4</td>\n",
       "      <td>Wal-Mart</td>\n",
       "    </tr>\n",
       "    <tr>\n",
       "      <td>...</td>\n",
       "      <td>...</td>\n",
       "    </tr>\n",
       "    <tr>\n",
       "      <td>2987</td>\n",
       "      <td>Supercenter</td>\n",
       "    </tr>\n",
       "    <tr>\n",
       "      <td>2988</td>\n",
       "      <td>Supercenter</td>\n",
       "    </tr>\n",
       "    <tr>\n",
       "      <td>2989</td>\n",
       "      <td>Wal-Mart</td>\n",
       "    </tr>\n",
       "    <tr>\n",
       "      <td>2990</td>\n",
       "      <td>Supercenter</td>\n",
       "    </tr>\n",
       "    <tr>\n",
       "      <td>2991</td>\n",
       "      <td>Wal-Mart</td>\n",
       "    </tr>\n",
       "  </tbody>\n",
       "</table>\n",
       "<p>2992 rows × 1 columns</p>\n",
       "</div>"
      ],
      "text/plain": [
       "       type_store\n",
       "0     Supercenter\n",
       "1     Supercenter\n",
       "2     Supercenter\n",
       "3     Supercenter\n",
       "4        Wal-Mart\n",
       "...           ...\n",
       "2987  Supercenter\n",
       "2988  Supercenter\n",
       "2989     Wal-Mart\n",
       "2990  Supercenter\n",
       "2991     Wal-Mart\n",
       "\n",
       "[2992 rows x 1 columns]"
      ]
     },
     "execution_count": 5,
     "metadata": {},
     "output_type": "execute_result"
    }
   ],
   "source": [
    "#your code here \n",
    "type_store = walmart[['type_store']]\n",
    "type_store"
   ]
  },
  {
   "cell_type": "markdown",
   "metadata": {},
   "source": [
    "You can display rows that have a certain value for a column. In the cell below, create a new dataframe called \"onlyWalmarts\" that is the subset of the walmart dataframe where type_store equals \"Wal-Mart\". Print the first 10 rows of this new dataframe. How many stores have the type \"Wal-Mart\"?<br>\n",
    "<b>Hint:</b> To find the number of stores, find the number of rows"
   ]
  },
  {
   "cell_type": "code",
   "execution_count": 6,
   "metadata": {},
   "outputs": [
    {
     "data": {
      "text/html": [
       "<div>\n",
       "<style scoped>\n",
       "    .dataframe tbody tr th:only-of-type {\n",
       "        vertical-align: middle;\n",
       "    }\n",
       "\n",
       "    .dataframe tbody tr th {\n",
       "        vertical-align: top;\n",
       "    }\n",
       "\n",
       "    .dataframe thead th {\n",
       "        text-align: right;\n",
       "    }\n",
       "</style>\n",
       "<table border=\"1\" class=\"dataframe\">\n",
       "  <thead>\n",
       "    <tr style=\"text-align: right;\">\n",
       "      <th></th>\n",
       "      <th>storenum</th>\n",
       "      <th>OPENDATE</th>\n",
       "      <th>date_super</th>\n",
       "      <th>conversion</th>\n",
       "      <th>STREETADDR</th>\n",
       "      <th>STRCITY</th>\n",
       "      <th>STRSTATE</th>\n",
       "      <th>ZIPCODE</th>\n",
       "      <th>type_store</th>\n",
       "      <th>LAT</th>\n",
       "      <th>LON</th>\n",
       "      <th>MONTH</th>\n",
       "      <th>DAY</th>\n",
       "      <th>YEAR</th>\n",
       "    </tr>\n",
       "  </thead>\n",
       "  <tbody>\n",
       "    <tr>\n",
       "      <td>4</td>\n",
       "      <td>7</td>\n",
       "      <td>10/1/67</td>\n",
       "      <td>NaN</td>\n",
       "      <td>NaN</td>\n",
       "      <td>3801 CAMP ROBINSON RD.</td>\n",
       "      <td>North Little Rock</td>\n",
       "      <td>AR</td>\n",
       "      <td>72118</td>\n",
       "      <td>Wal-Mart</td>\n",
       "      <td>34.813269</td>\n",
       "      <td>-92.30229</td>\n",
       "      <td>10</td>\n",
       "      <td>1</td>\n",
       "      <td>1967</td>\n",
       "    </tr>\n",
       "    <tr>\n",
       "      <td>13</td>\n",
       "      <td>18</td>\n",
       "      <td>11/1/69</td>\n",
       "      <td>NaN</td>\n",
       "      <td>NaN</td>\n",
       "      <td>2500 MALCOLM ST/HWY 67 NORTH</td>\n",
       "      <td>Newport</td>\n",
       "      <td>AR</td>\n",
       "      <td>72112</td>\n",
       "      <td>Wal-Mart</td>\n",
       "      <td>35.586065</td>\n",
       "      <td>-91.24695</td>\n",
       "      <td>11</td>\n",
       "      <td>1</td>\n",
       "      <td>1969</td>\n",
       "    </tr>\n",
       "    <tr>\n",
       "      <td>19</td>\n",
       "      <td>26</td>\n",
       "      <td>11/1/70</td>\n",
       "      <td>NaN</td>\n",
       "      <td>NaN</td>\n",
       "      <td>3450 S. 4TH TRAFFICWAY</td>\n",
       "      <td>Leavenworth</td>\n",
       "      <td>KS</td>\n",
       "      <td>66048</td>\n",
       "      <td>Wal-Mart</td>\n",
       "      <td>39.298776</td>\n",
       "      <td>-94.93555</td>\n",
       "      <td>11</td>\n",
       "      <td>1</td>\n",
       "      <td>1970</td>\n",
       "    </tr>\n",
       "    <tr>\n",
       "      <td>23</td>\n",
       "      <td>32</td>\n",
       "      <td>6/1/71</td>\n",
       "      <td>NaN</td>\n",
       "      <td>NaN</td>\n",
       "      <td>2050 WEST HWY 76</td>\n",
       "      <td>Branson</td>\n",
       "      <td>MO</td>\n",
       "      <td>65616</td>\n",
       "      <td>Wal-Mart</td>\n",
       "      <td>36.644170</td>\n",
       "      <td>-93.25668</td>\n",
       "      <td>6</td>\n",
       "      <td>1</td>\n",
       "      <td>1971</td>\n",
       "    </tr>\n",
       "    <tr>\n",
       "      <td>35</td>\n",
       "      <td>39</td>\n",
       "      <td>3/1/72</td>\n",
       "      <td>NaN</td>\n",
       "      <td>NaN</td>\n",
       "      <td>2400 SOUTH MAIN</td>\n",
       "      <td>Fort Scott</td>\n",
       "      <td>KS</td>\n",
       "      <td>66701</td>\n",
       "      <td>Wal-Mart</td>\n",
       "      <td>37.823295</td>\n",
       "      <td>-94.73389</td>\n",
       "      <td>3</td>\n",
       "      <td>1</td>\n",
       "      <td>1972</td>\n",
       "    </tr>\n",
       "    <tr>\n",
       "      <td>38</td>\n",
       "      <td>44</td>\n",
       "      <td>2/1/72</td>\n",
       "      <td>NaN</td>\n",
       "      <td>NaN</td>\n",
       "      <td>1802 SOUTH BUSINESS HWY 54</td>\n",
       "      <td>Eldon</td>\n",
       "      <td>MO</td>\n",
       "      <td>65026</td>\n",
       "      <td>Wal-Mart</td>\n",
       "      <td>38.311355</td>\n",
       "      <td>-92.58395</td>\n",
       "      <td>2</td>\n",
       "      <td>1</td>\n",
       "      <td>1972</td>\n",
       "    </tr>\n",
       "    <tr>\n",
       "      <td>42</td>\n",
       "      <td>55</td>\n",
       "      <td>10/1/72</td>\n",
       "      <td>NaN</td>\n",
       "      <td>NaN</td>\n",
       "      <td>1555 EAST MAIN</td>\n",
       "      <td>Booneville</td>\n",
       "      <td>AR</td>\n",
       "      <td>72927</td>\n",
       "      <td>Wal-Mart</td>\n",
       "      <td>35.105966</td>\n",
       "      <td>-93.97531</td>\n",
       "      <td>10</td>\n",
       "      <td>1</td>\n",
       "      <td>1972</td>\n",
       "    </tr>\n",
       "    <tr>\n",
       "      <td>48</td>\n",
       "      <td>57</td>\n",
       "      <td>10/1/72</td>\n",
       "      <td>NaN</td>\n",
       "      <td>NaN</td>\n",
       "      <td>1600 WEST MAIN</td>\n",
       "      <td>Walnut Ridge</td>\n",
       "      <td>AR</td>\n",
       "      <td>72476</td>\n",
       "      <td>Wal-Mart</td>\n",
       "      <td>36.068015</td>\n",
       "      <td>-90.94429</td>\n",
       "      <td>10</td>\n",
       "      <td>1</td>\n",
       "      <td>1972</td>\n",
       "    </tr>\n",
       "    <tr>\n",
       "      <td>52</td>\n",
       "      <td>74</td>\n",
       "      <td>11/1/73</td>\n",
       "      <td>NaN</td>\n",
       "      <td>NaN</td>\n",
       "      <td>1051 WEST KEISER AVENUE</td>\n",
       "      <td>Osceola</td>\n",
       "      <td>AR</td>\n",
       "      <td>72370</td>\n",
       "      <td>Wal-Mart</td>\n",
       "      <td>35.696385</td>\n",
       "      <td>-90.02631</td>\n",
       "      <td>11</td>\n",
       "      <td>1</td>\n",
       "      <td>1973</td>\n",
       "    </tr>\n",
       "    <tr>\n",
       "      <td>53</td>\n",
       "      <td>42</td>\n",
       "      <td>2/1/73</td>\n",
       "      <td>NaN</td>\n",
       "      <td>NaN</td>\n",
       "      <td>1705 WEST 11TH STREET</td>\n",
       "      <td>Coffeyville</td>\n",
       "      <td>KS</td>\n",
       "      <td>67337</td>\n",
       "      <td>Wal-Mart</td>\n",
       "      <td>37.041838</td>\n",
       "      <td>-95.61814</td>\n",
       "      <td>2</td>\n",
       "      <td>1</td>\n",
       "      <td>1973</td>\n",
       "    </tr>\n",
       "  </tbody>\n",
       "</table>\n",
       "</div>"
      ],
      "text/plain": [
       "    storenum OPENDATE date_super  conversion                    STREETADDR  \\\n",
       "4          7  10/1/67        NaN         NaN        3801 CAMP ROBINSON RD.   \n",
       "13        18  11/1/69        NaN         NaN  2500 MALCOLM ST/HWY 67 NORTH   \n",
       "19        26  11/1/70        NaN         NaN        3450 S. 4TH TRAFFICWAY   \n",
       "23        32   6/1/71        NaN         NaN              2050 WEST HWY 76   \n",
       "35        39   3/1/72        NaN         NaN               2400 SOUTH MAIN   \n",
       "38        44   2/1/72        NaN         NaN    1802 SOUTH BUSINESS HWY 54   \n",
       "42        55  10/1/72        NaN         NaN                1555 EAST MAIN   \n",
       "48        57  10/1/72        NaN         NaN                1600 WEST MAIN   \n",
       "52        74  11/1/73        NaN         NaN       1051 WEST KEISER AVENUE   \n",
       "53        42   2/1/73        NaN         NaN         1705 WEST 11TH STREET   \n",
       "\n",
       "              STRCITY STRSTATE  ZIPCODE type_store        LAT       LON  \\\n",
       "4   North Little Rock       AR    72118   Wal-Mart  34.813269 -92.30229   \n",
       "13            Newport       AR    72112   Wal-Mart  35.586065 -91.24695   \n",
       "19        Leavenworth       KS    66048   Wal-Mart  39.298776 -94.93555   \n",
       "23            Branson       MO    65616   Wal-Mart  36.644170 -93.25668   \n",
       "35         Fort Scott       KS    66701   Wal-Mart  37.823295 -94.73389   \n",
       "38              Eldon       MO    65026   Wal-Mart  38.311355 -92.58395   \n",
       "42         Booneville       AR    72927   Wal-Mart  35.105966 -93.97531   \n",
       "48       Walnut Ridge       AR    72476   Wal-Mart  36.068015 -90.94429   \n",
       "52            Osceola       AR    72370   Wal-Mart  35.696385 -90.02631   \n",
       "53        Coffeyville       KS    67337   Wal-Mart  37.041838 -95.61814   \n",
       "\n",
       "    MONTH  DAY  YEAR  \n",
       "4      10    1  1967  \n",
       "13     11    1  1969  \n",
       "19     11    1  1970  \n",
       "23      6    1  1971  \n",
       "35      3    1  1972  \n",
       "38      2    1  1972  \n",
       "42     10    1  1972  \n",
       "48     10    1  1972  \n",
       "52     11    1  1973  \n",
       "53      2    1  1973  "
      ]
     },
     "execution_count": 6,
     "metadata": {},
     "output_type": "execute_result"
    }
   ],
   "source": [
    "# your code here\n",
    "\n",
    "# find stores with type_store \"Wal-Mart\"\n",
    "onlyWalmarts = walmart.loc[walmart['type_store'] == \"Wal-Mart\"]\n",
    "\n",
    "# display the first 10 rows of onlyWalmart\n",
    "onlyWalmarts.head(10)"
   ]
  },
  {
   "cell_type": "code",
   "execution_count": 7,
   "metadata": {},
   "outputs": [
    {
     "name": "stdout",
     "output_type": "stream",
     "text": [
      "There are 1046 stores with type 'Wal-Mart'\n"
     ]
    }
   ],
   "source": [
    "# How many stores have the type \"Wal-Mart\"?\n",
    "\n",
    "onlyWalRow = onlyWalmarts.shape[0]\n",
    "print(\"There are\", onlyWalRow, \"stores with type 'Wal-Mart'\")"
   ]
  },
  {
   "cell_type": "markdown",
   "metadata": {},
   "source": [
    "### Part 3: Counting Wal-Marts with Pandas"
   ]
  },
  {
   "cell_type": "markdown",
   "metadata": {},
   "source": [
    "Using the value_counts() function, you can find the number of occurrances of different values in a dataframe. In the cell below, find the number stores with types Wal-Mart and Supercenter. Cast the result into a dataframe called typeCount.\n",
    "<br>\n",
    "<b>Hint:</b> Use the pd.DataFrame() to cast the result to a dataframe."
   ]
  },
  {
   "cell_type": "code",
   "execution_count": 8,
   "metadata": {},
   "outputs": [
    {
     "data": {
      "text/html": [
       "<div>\n",
       "<style scoped>\n",
       "    .dataframe tbody tr th:only-of-type {\n",
       "        vertical-align: middle;\n",
       "    }\n",
       "\n",
       "    .dataframe tbody tr th {\n",
       "        vertical-align: top;\n",
       "    }\n",
       "\n",
       "    .dataframe thead th {\n",
       "        text-align: right;\n",
       "    }\n",
       "</style>\n",
       "<table border=\"1\" class=\"dataframe\">\n",
       "  <thead>\n",
       "    <tr style=\"text-align: right;\">\n",
       "      <th></th>\n",
       "      <th>type_store</th>\n",
       "    </tr>\n",
       "  </thead>\n",
       "  <tbody>\n",
       "    <tr>\n",
       "      <td>Supercenter</td>\n",
       "      <td>1946</td>\n",
       "    </tr>\n",
       "    <tr>\n",
       "      <td>Wal-Mart</td>\n",
       "      <td>1046</td>\n",
       "    </tr>\n",
       "  </tbody>\n",
       "</table>\n",
       "</div>"
      ],
      "text/plain": [
       "             type_store\n",
       "Supercenter        1946\n",
       "Wal-Mart           1046"
      ]
     },
     "execution_count": 8,
     "metadata": {},
     "output_type": "execute_result"
    }
   ],
   "source": [
    "# your code here\n",
    "\n",
    "typeCount = pd.DataFrame(walmart.type_store.value_counts())\n",
    "typeCount"
   ]
  },
  {
   "cell_type": "markdown",
   "metadata": {},
   "source": [
    "Find the sum of the counts above. Is the sum the same as the number of rows that you found earlier?"
   ]
  },
  {
   "cell_type": "code",
   "execution_count": 9,
   "metadata": {},
   "outputs": [
    {
     "data": {
      "text/plain": [
       "2992"
      ]
     },
     "execution_count": 9,
     "metadata": {},
     "output_type": "execute_result"
    }
   ],
   "source": [
    "# Find the Sum. \n",
    "\n",
    "typeCount['type_store'].sum()"
   ]
  },
  {
   "cell_type": "markdown",
   "metadata": {},
   "source": [
    "#### Answer this question:\n",
    "Is it the answer you got the same as the number of rows of the walmart set? : YES it is."
   ]
  },
  {
   "cell_type": "markdown",
   "metadata": {},
   "source": [
    "Now, using the value_counts() function again, find out how many stores were converted 1 or 0 times. "
   ]
  },
  {
   "cell_type": "code",
   "execution_count": 10,
   "metadata": {},
   "outputs": [
    {
     "data": {
      "text/html": [
       "<div>\n",
       "<style scoped>\n",
       "    .dataframe tbody tr th:only-of-type {\n",
       "        vertical-align: middle;\n",
       "    }\n",
       "\n",
       "    .dataframe tbody tr th {\n",
       "        vertical-align: top;\n",
       "    }\n",
       "\n",
       "    .dataframe thead th {\n",
       "        text-align: right;\n",
       "    }\n",
       "</style>\n",
       "<table border=\"1\" class=\"dataframe\">\n",
       "  <thead>\n",
       "    <tr style=\"text-align: right;\">\n",
       "      <th></th>\n",
       "      <th>conversion</th>\n",
       "    </tr>\n",
       "  </thead>\n",
       "  <tbody>\n",
       "    <tr>\n",
       "      <td>1.0</td>\n",
       "      <td>1557</td>\n",
       "    </tr>\n",
       "    <tr>\n",
       "      <td>0.0</td>\n",
       "      <td>389</td>\n",
       "    </tr>\n",
       "  </tbody>\n",
       "</table>\n",
       "</div>"
      ],
      "text/plain": [
       "     conversion\n",
       "1.0        1557\n",
       "0.0         389"
      ]
     },
     "execution_count": 10,
     "metadata": {},
     "output_type": "execute_result"
    }
   ],
   "source": [
    "# your code here\n",
    "conversionCount = pd.DataFrame(walmart.conversion.value_counts())\n",
    "conversionCount"
   ]
  },
  {
   "cell_type": "markdown",
   "metadata": {},
   "source": [
    "Find the sum of the counts above. Is the sum the same number of rows you found earlier?"
   ]
  },
  {
   "cell_type": "code",
   "execution_count": 11,
   "metadata": {},
   "outputs": [
    {
     "name": "stdout",
     "output_type": "stream",
     "text": [
      "There are 1946 rows in the conversionCount dataframe.\n"
     ]
    }
   ],
   "source": [
    "# your code here\n",
    "\n",
    "#find the sum\n",
    "conversionSum = conversionCount['conversion'].sum()\n",
    "\n",
    "print(\"There are\", conversionSum, \"rows in the conversionCount dataframe.\")"
   ]
  },
  {
   "cell_type": "markdown",
   "metadata": {},
   "source": [
    "#### Answer this question:\n",
    "Is it the answer you got the same as the number of rows of the walmart set? : NO it is not."
   ]
  },
  {
   "cell_type": "markdown",
   "metadata": {},
   "source": [
    "If you look closely at the walmart data, you'll see that some of rows have NaN values for \"conversion.\" Those rows weren't counted in the conversionCount data above. In the next cell, find the number of stores that don't have any \"conversion\" data.\n",
    "<br>\n",
    "<b>Hint:</b> Use the .isnull( ) function"
   ]
  },
  {
   "cell_type": "code",
   "execution_count": 12,
   "metadata": {},
   "outputs": [
    {
     "name": "stdout",
     "output_type": "stream",
     "text": [
      "There are 1046 stores with no conversion data\n"
     ]
    }
   ],
   "source": [
    "# your code here\n",
    "\n",
    "# find all all the rows with NaN value for conversion\n",
    "noConversionData = walmart.loc[walmart['conversion'].isnull()]\n",
    "\n",
    "# find the number of stores with a NaN value for conversion\n",
    "noConversion = len(noConversionData)\n",
    "\n",
    "print(\"There are\", noConversion, \"stores with no conversion data\")"
   ]
  },
  {
   "cell_type": "markdown",
   "metadata": {},
   "source": [
    "Add the number that you found from the conversion counts and the stores with no conversion data. Does it now equal the total number of rows of the walmart set? "
   ]
  },
  {
   "cell_type": "code",
   "execution_count": 13,
   "metadata": {},
   "outputs": [
    {
     "data": {
      "text/plain": [
       "2992"
      ]
     },
     "execution_count": 13,
     "metadata": {},
     "output_type": "execute_result"
    }
   ],
   "source": [
    "# find the sum\n",
    "\n",
    "sum_stores = conversionSum + noConversion\n",
    "sum_stores"
   ]
  },
  {
   "cell_type": "markdown",
   "metadata": {},
   "source": [
    "#### Answer this question:\n",
    "Is it the answer you got the same as the number of rows of the walmart set? : YES it is."
   ]
  },
  {
   "cell_type": "markdown",
   "metadata": {},
   "source": [
    "### Part 4: What does it all mean?\n",
    "A question I hope that you've been asking yourself (if you haven't already figured it out) is WHY are there stores with NaN values for \"conversion.\" Hasn't each store either been converted 1 or 0 times? What does this mean? For the next part, I using the process that you've been using for the first 3 parts, find out what types of stores have values of 1, 0, and NaN. <i><u>Are they stores that got converted to Supercenters? Are they stores that were built as Supercenters? Are they stores that were just never converted into Supercenters? </i></u>You can explore the data however you'd like, but I'd suggest you make use of the functions that you've been using and that you look at the data. \n",
    "\n",
    "<b>Hint:</b> Make 3 different data frames for stores with conversion values of 1, 0, or NaN. You already made the dataframe for the stores with NaN values. I would personally take a look at the OPENDATE, date_super, and type_store fields. If you forget what those fields mean, look at my key at the top of this page. "
   ]
  },
  {
   "cell_type": "code",
   "execution_count": 14,
   "metadata": {},
   "outputs": [
    {
     "data": {
      "text/html": [
       "<div>\n",
       "<style scoped>\n",
       "    .dataframe tbody tr th:only-of-type {\n",
       "        vertical-align: middle;\n",
       "    }\n",
       "\n",
       "    .dataframe tbody tr th {\n",
       "        vertical-align: top;\n",
       "    }\n",
       "\n",
       "    .dataframe thead th {\n",
       "        text-align: right;\n",
       "    }\n",
       "</style>\n",
       "<table border=\"1\" class=\"dataframe\">\n",
       "  <thead>\n",
       "    <tr style=\"text-align: right;\">\n",
       "      <th></th>\n",
       "      <th>storenum</th>\n",
       "      <th>OPENDATE</th>\n",
       "      <th>date_super</th>\n",
       "      <th>conversion</th>\n",
       "      <th>STREETADDR</th>\n",
       "      <th>STRCITY</th>\n",
       "      <th>STRSTATE</th>\n",
       "      <th>ZIPCODE</th>\n",
       "      <th>type_store</th>\n",
       "      <th>LAT</th>\n",
       "      <th>LON</th>\n",
       "      <th>MONTH</th>\n",
       "      <th>DAY</th>\n",
       "      <th>YEAR</th>\n",
       "    </tr>\n",
       "  </thead>\n",
       "  <tbody>\n",
       "    <tr>\n",
       "      <td>4</td>\n",
       "      <td>7</td>\n",
       "      <td>10/1/67</td>\n",
       "      <td>NaN</td>\n",
       "      <td>NaN</td>\n",
       "      <td>3801 CAMP ROBINSON RD.</td>\n",
       "      <td>North Little Rock</td>\n",
       "      <td>AR</td>\n",
       "      <td>72118</td>\n",
       "      <td>Wal-Mart</td>\n",
       "      <td>34.813269</td>\n",
       "      <td>-92.30229</td>\n",
       "      <td>10</td>\n",
       "      <td>1</td>\n",
       "      <td>1967</td>\n",
       "    </tr>\n",
       "    <tr>\n",
       "      <td>13</td>\n",
       "      <td>18</td>\n",
       "      <td>11/1/69</td>\n",
       "      <td>NaN</td>\n",
       "      <td>NaN</td>\n",
       "      <td>2500 MALCOLM ST/HWY 67 NORTH</td>\n",
       "      <td>Newport</td>\n",
       "      <td>AR</td>\n",
       "      <td>72112</td>\n",
       "      <td>Wal-Mart</td>\n",
       "      <td>35.586065</td>\n",
       "      <td>-91.24695</td>\n",
       "      <td>11</td>\n",
       "      <td>1</td>\n",
       "      <td>1969</td>\n",
       "    </tr>\n",
       "    <tr>\n",
       "      <td>19</td>\n",
       "      <td>26</td>\n",
       "      <td>11/1/70</td>\n",
       "      <td>NaN</td>\n",
       "      <td>NaN</td>\n",
       "      <td>3450 S. 4TH TRAFFICWAY</td>\n",
       "      <td>Leavenworth</td>\n",
       "      <td>KS</td>\n",
       "      <td>66048</td>\n",
       "      <td>Wal-Mart</td>\n",
       "      <td>39.298776</td>\n",
       "      <td>-94.93555</td>\n",
       "      <td>11</td>\n",
       "      <td>1</td>\n",
       "      <td>1970</td>\n",
       "    </tr>\n",
       "    <tr>\n",
       "      <td>23</td>\n",
       "      <td>32</td>\n",
       "      <td>6/1/71</td>\n",
       "      <td>NaN</td>\n",
       "      <td>NaN</td>\n",
       "      <td>2050 WEST HWY 76</td>\n",
       "      <td>Branson</td>\n",
       "      <td>MO</td>\n",
       "      <td>65616</td>\n",
       "      <td>Wal-Mart</td>\n",
       "      <td>36.644170</td>\n",
       "      <td>-93.25668</td>\n",
       "      <td>6</td>\n",
       "      <td>1</td>\n",
       "      <td>1971</td>\n",
       "    </tr>\n",
       "    <tr>\n",
       "      <td>35</td>\n",
       "      <td>39</td>\n",
       "      <td>3/1/72</td>\n",
       "      <td>NaN</td>\n",
       "      <td>NaN</td>\n",
       "      <td>2400 SOUTH MAIN</td>\n",
       "      <td>Fort Scott</td>\n",
       "      <td>KS</td>\n",
       "      <td>66701</td>\n",
       "      <td>Wal-Mart</td>\n",
       "      <td>37.823295</td>\n",
       "      <td>-94.73389</td>\n",
       "      <td>3</td>\n",
       "      <td>1</td>\n",
       "      <td>1972</td>\n",
       "    </tr>\n",
       "    <tr>\n",
       "      <td>...</td>\n",
       "      <td>...</td>\n",
       "      <td>...</td>\n",
       "      <td>...</td>\n",
       "      <td>...</td>\n",
       "      <td>...</td>\n",
       "      <td>...</td>\n",
       "      <td>...</td>\n",
       "      <td>...</td>\n",
       "      <td>...</td>\n",
       "      <td>...</td>\n",
       "      <td>...</td>\n",
       "      <td>...</td>\n",
       "      <td>...</td>\n",
       "      <td>...</td>\n",
       "    </tr>\n",
       "    <tr>\n",
       "      <td>2954</td>\n",
       "      <td>5305</td>\n",
       "      <td>10/26/05</td>\n",
       "      <td>NaN</td>\n",
       "      <td>NaN</td>\n",
       "      <td>1150 BROADWAY</td>\n",
       "      <td>Chula Vista (S)</td>\n",
       "      <td>CA</td>\n",
       "      <td>91911</td>\n",
       "      <td>Wal-Mart</td>\n",
       "      <td>32.608799</td>\n",
       "      <td>-117.06070</td>\n",
       "      <td>10</td>\n",
       "      <td>26</td>\n",
       "      <td>2005</td>\n",
       "    </tr>\n",
       "    <tr>\n",
       "      <td>2966</td>\n",
       "      <td>5436</td>\n",
       "      <td>1/31/06</td>\n",
       "      <td>NaN</td>\n",
       "      <td>NaN</td>\n",
       "      <td>1251 Centerville Rd</td>\n",
       "      <td>Wilmington</td>\n",
       "      <td>DE</td>\n",
       "      <td>19808</td>\n",
       "      <td>Wal-Mart</td>\n",
       "      <td>39.734279</td>\n",
       "      <td>-75.66310</td>\n",
       "      <td>1</td>\n",
       "      <td>31</td>\n",
       "      <td>2006</td>\n",
       "    </tr>\n",
       "    <tr>\n",
       "      <td>2969</td>\n",
       "      <td>5131</td>\n",
       "      <td>1/25/06</td>\n",
       "      <td>NaN</td>\n",
       "      <td>NaN</td>\n",
       "      <td>3461 Horizon Blvd</td>\n",
       "      <td>Bensalem</td>\n",
       "      <td>PA</td>\n",
       "      <td>19020</td>\n",
       "      <td>Wal-Mart</td>\n",
       "      <td>40.103860</td>\n",
       "      <td>-74.93734</td>\n",
       "      <td>1</td>\n",
       "      <td>25</td>\n",
       "      <td>2006</td>\n",
       "    </tr>\n",
       "    <tr>\n",
       "      <td>2989</td>\n",
       "      <td>5485</td>\n",
       "      <td>1/27/06</td>\n",
       "      <td>NaN</td>\n",
       "      <td>NaN</td>\n",
       "      <td>2500 W 95th St</td>\n",
       "      <td>Evergreen Park</td>\n",
       "      <td>IL</td>\n",
       "      <td>60805</td>\n",
       "      <td>Wal-Mart</td>\n",
       "      <td>41.719933</td>\n",
       "      <td>-87.70249</td>\n",
       "      <td>1</td>\n",
       "      <td>27</td>\n",
       "      <td>2006</td>\n",
       "    </tr>\n",
       "    <tr>\n",
       "      <td>2991</td>\n",
       "      <td>5193</td>\n",
       "      <td>1/31/06</td>\n",
       "      <td>NaN</td>\n",
       "      <td>NaN</td>\n",
       "      <td>12721 Moreno Beach Dr</td>\n",
       "      <td>Moreno Valley</td>\n",
       "      <td>CA</td>\n",
       "      <td>92555</td>\n",
       "      <td>Wal-Mart</td>\n",
       "      <td>33.922823</td>\n",
       "      <td>-117.16837</td>\n",
       "      <td>1</td>\n",
       "      <td>31</td>\n",
       "      <td>2006</td>\n",
       "    </tr>\n",
       "  </tbody>\n",
       "</table>\n",
       "<p>1046 rows × 14 columns</p>\n",
       "</div>"
      ],
      "text/plain": [
       "      storenum  OPENDATE date_super  conversion                    STREETADDR  \\\n",
       "4            7   10/1/67        NaN         NaN        3801 CAMP ROBINSON RD.   \n",
       "13          18   11/1/69        NaN         NaN  2500 MALCOLM ST/HWY 67 NORTH   \n",
       "19          26   11/1/70        NaN         NaN        3450 S. 4TH TRAFFICWAY   \n",
       "23          32    6/1/71        NaN         NaN              2050 WEST HWY 76   \n",
       "35          39    3/1/72        NaN         NaN               2400 SOUTH MAIN   \n",
       "...        ...       ...        ...         ...                           ...   \n",
       "2954      5305  10/26/05        NaN         NaN                 1150 BROADWAY   \n",
       "2966      5436   1/31/06        NaN         NaN           1251 Centerville Rd   \n",
       "2969      5131   1/25/06        NaN         NaN             3461 Horizon Blvd   \n",
       "2989      5485   1/27/06        NaN         NaN                2500 W 95th St   \n",
       "2991      5193   1/31/06        NaN         NaN         12721 Moreno Beach Dr   \n",
       "\n",
       "                STRCITY STRSTATE  ZIPCODE type_store        LAT        LON  \\\n",
       "4     North Little Rock       AR    72118   Wal-Mart  34.813269  -92.30229   \n",
       "13              Newport       AR    72112   Wal-Mart  35.586065  -91.24695   \n",
       "19          Leavenworth       KS    66048   Wal-Mart  39.298776  -94.93555   \n",
       "23              Branson       MO    65616   Wal-Mart  36.644170  -93.25668   \n",
       "35           Fort Scott       KS    66701   Wal-Mart  37.823295  -94.73389   \n",
       "...                 ...      ...      ...        ...        ...        ...   \n",
       "2954    Chula Vista (S)       CA    91911   Wal-Mart  32.608799 -117.06070   \n",
       "2966         Wilmington       DE    19808   Wal-Mart  39.734279  -75.66310   \n",
       "2969           Bensalem       PA    19020   Wal-Mart  40.103860  -74.93734   \n",
       "2989     Evergreen Park       IL    60805   Wal-Mart  41.719933  -87.70249   \n",
       "2991      Moreno Valley       CA    92555   Wal-Mart  33.922823 -117.16837   \n",
       "\n",
       "      MONTH  DAY  YEAR  \n",
       "4        10    1  1967  \n",
       "13       11    1  1969  \n",
       "19       11    1  1970  \n",
       "23        6    1  1971  \n",
       "35        3    1  1972  \n",
       "...     ...  ...   ...  \n",
       "2954     10   26  2005  \n",
       "2966      1   31  2006  \n",
       "2969      1   25  2006  \n",
       "2989      1   27  2006  \n",
       "2991      1   31  2006  \n",
       "\n",
       "[1046 rows x 14 columns]"
      ]
     },
     "execution_count": 14,
     "metadata": {},
     "output_type": "execute_result"
    }
   ],
   "source": [
    "# Stores with NaN for conversion\n",
    "noConversionData[:]"
   ]
  },
  {
   "cell_type": "code",
   "execution_count": 15,
   "metadata": {},
   "outputs": [
    {
     "data": {
      "text/html": [
       "<div>\n",
       "<style scoped>\n",
       "    .dataframe tbody tr th:only-of-type {\n",
       "        vertical-align: middle;\n",
       "    }\n",
       "\n",
       "    .dataframe tbody tr th {\n",
       "        vertical-align: top;\n",
       "    }\n",
       "\n",
       "    .dataframe thead th {\n",
       "        text-align: right;\n",
       "    }\n",
       "</style>\n",
       "<table border=\"1\" class=\"dataframe\">\n",
       "  <thead>\n",
       "    <tr style=\"text-align: right;\">\n",
       "      <th></th>\n",
       "      <th>OPENDATE</th>\n",
       "      <th>date_super</th>\n",
       "      <th>type_store</th>\n",
       "    </tr>\n",
       "  </thead>\n",
       "  <tbody>\n",
       "    <tr>\n",
       "      <td>4</td>\n",
       "      <td>10/1/67</td>\n",
       "      <td>NaN</td>\n",
       "      <td>Wal-Mart</td>\n",
       "    </tr>\n",
       "    <tr>\n",
       "      <td>13</td>\n",
       "      <td>11/1/69</td>\n",
       "      <td>NaN</td>\n",
       "      <td>Wal-Mart</td>\n",
       "    </tr>\n",
       "    <tr>\n",
       "      <td>19</td>\n",
       "      <td>11/1/70</td>\n",
       "      <td>NaN</td>\n",
       "      <td>Wal-Mart</td>\n",
       "    </tr>\n",
       "    <tr>\n",
       "      <td>23</td>\n",
       "      <td>6/1/71</td>\n",
       "      <td>NaN</td>\n",
       "      <td>Wal-Mart</td>\n",
       "    </tr>\n",
       "    <tr>\n",
       "      <td>35</td>\n",
       "      <td>3/1/72</td>\n",
       "      <td>NaN</td>\n",
       "      <td>Wal-Mart</td>\n",
       "    </tr>\n",
       "    <tr>\n",
       "      <td>...</td>\n",
       "      <td>...</td>\n",
       "      <td>...</td>\n",
       "      <td>...</td>\n",
       "    </tr>\n",
       "    <tr>\n",
       "      <td>2954</td>\n",
       "      <td>10/26/05</td>\n",
       "      <td>NaN</td>\n",
       "      <td>Wal-Mart</td>\n",
       "    </tr>\n",
       "    <tr>\n",
       "      <td>2966</td>\n",
       "      <td>1/31/06</td>\n",
       "      <td>NaN</td>\n",
       "      <td>Wal-Mart</td>\n",
       "    </tr>\n",
       "    <tr>\n",
       "      <td>2969</td>\n",
       "      <td>1/25/06</td>\n",
       "      <td>NaN</td>\n",
       "      <td>Wal-Mart</td>\n",
       "    </tr>\n",
       "    <tr>\n",
       "      <td>2989</td>\n",
       "      <td>1/27/06</td>\n",
       "      <td>NaN</td>\n",
       "      <td>Wal-Mart</td>\n",
       "    </tr>\n",
       "    <tr>\n",
       "      <td>2991</td>\n",
       "      <td>1/31/06</td>\n",
       "      <td>NaN</td>\n",
       "      <td>Wal-Mart</td>\n",
       "    </tr>\n",
       "  </tbody>\n",
       "</table>\n",
       "<p>1046 rows × 3 columns</p>\n",
       "</div>"
      ],
      "text/plain": [
       "      OPENDATE date_super type_store\n",
       "4      10/1/67        NaN   Wal-Mart\n",
       "13     11/1/69        NaN   Wal-Mart\n",
       "19     11/1/70        NaN   Wal-Mart\n",
       "23      6/1/71        NaN   Wal-Mart\n",
       "35      3/1/72        NaN   Wal-Mart\n",
       "...        ...        ...        ...\n",
       "2954  10/26/05        NaN   Wal-Mart\n",
       "2966   1/31/06        NaN   Wal-Mart\n",
       "2969   1/25/06        NaN   Wal-Mart\n",
       "2989   1/27/06        NaN   Wal-Mart\n",
       "2991   1/31/06        NaN   Wal-Mart\n",
       "\n",
       "[1046 rows x 3 columns]"
      ]
     },
     "execution_count": 15,
     "metadata": {},
     "output_type": "execute_result"
    }
   ],
   "source": [
    "# you can put more code here\n",
    "\n",
    "# explore the data however you'd like.\n",
    "\n",
    "noConversion_dates = noConversionData[['OPENDATE','date_super','type_store']]\n",
    "\n",
    "noConversion_dates"
   ]
  },
  {
   "cell_type": "code",
   "execution_count": 16,
   "metadata": {},
   "outputs": [
    {
     "data": {
      "text/html": [
       "<div>\n",
       "<style scoped>\n",
       "    .dataframe tbody tr th:only-of-type {\n",
       "        vertical-align: middle;\n",
       "    }\n",
       "\n",
       "    .dataframe tbody tr th {\n",
       "        vertical-align: top;\n",
       "    }\n",
       "\n",
       "    .dataframe thead th {\n",
       "        text-align: right;\n",
       "    }\n",
       "</style>\n",
       "<table border=\"1\" class=\"dataframe\">\n",
       "  <thead>\n",
       "    <tr style=\"text-align: right;\">\n",
       "      <th></th>\n",
       "      <th>storenum</th>\n",
       "      <th>OPENDATE</th>\n",
       "      <th>date_super</th>\n",
       "      <th>conversion</th>\n",
       "      <th>STREETADDR</th>\n",
       "      <th>STRCITY</th>\n",
       "      <th>STRSTATE</th>\n",
       "      <th>ZIPCODE</th>\n",
       "      <th>type_store</th>\n",
       "      <th>LAT</th>\n",
       "      <th>LON</th>\n",
       "      <th>MONTH</th>\n",
       "      <th>DAY</th>\n",
       "      <th>YEAR</th>\n",
       "    </tr>\n",
       "  </thead>\n",
       "  <tbody>\n",
       "    <tr>\n",
       "      <td>0</td>\n",
       "      <td>1</td>\n",
       "      <td>7/1/62</td>\n",
       "      <td>3/1/97</td>\n",
       "      <td>1.0</td>\n",
       "      <td>2110 WEST WALNUT</td>\n",
       "      <td>Rogers</td>\n",
       "      <td>AR</td>\n",
       "      <td>72756</td>\n",
       "      <td>Supercenter</td>\n",
       "      <td>36.342235</td>\n",
       "      <td>-94.07141</td>\n",
       "      <td>7</td>\n",
       "      <td>1</td>\n",
       "      <td>1962</td>\n",
       "    </tr>\n",
       "    <tr>\n",
       "      <td>1</td>\n",
       "      <td>2</td>\n",
       "      <td>8/1/64</td>\n",
       "      <td>3/1/96</td>\n",
       "      <td>1.0</td>\n",
       "      <td>1417 HWY 62/65 N</td>\n",
       "      <td>Harrison</td>\n",
       "      <td>AR</td>\n",
       "      <td>72601</td>\n",
       "      <td>Supercenter</td>\n",
       "      <td>36.236984</td>\n",
       "      <td>-93.09345</td>\n",
       "      <td>8</td>\n",
       "      <td>1</td>\n",
       "      <td>1964</td>\n",
       "    </tr>\n",
       "    <tr>\n",
       "      <td>2</td>\n",
       "      <td>4</td>\n",
       "      <td>8/1/65</td>\n",
       "      <td>3/1/02</td>\n",
       "      <td>1.0</td>\n",
       "      <td>2901 HWY 412 EAST</td>\n",
       "      <td>Siloam Springs</td>\n",
       "      <td>AR</td>\n",
       "      <td>72761</td>\n",
       "      <td>Supercenter</td>\n",
       "      <td>36.179905</td>\n",
       "      <td>-94.50208</td>\n",
       "      <td>8</td>\n",
       "      <td>1</td>\n",
       "      <td>1965</td>\n",
       "    </tr>\n",
       "    <tr>\n",
       "      <td>3</td>\n",
       "      <td>8</td>\n",
       "      <td>10/1/67</td>\n",
       "      <td>3/1/93</td>\n",
       "      <td>1.0</td>\n",
       "      <td>1621 NORTH BUSINESS 9</td>\n",
       "      <td>Morrilton</td>\n",
       "      <td>AR</td>\n",
       "      <td>72110</td>\n",
       "      <td>Supercenter</td>\n",
       "      <td>35.156491</td>\n",
       "      <td>-92.75858</td>\n",
       "      <td>10</td>\n",
       "      <td>1</td>\n",
       "      <td>1967</td>\n",
       "    </tr>\n",
       "    <tr>\n",
       "      <td>5</td>\n",
       "      <td>10</td>\n",
       "      <td>7/1/68</td>\n",
       "      <td>3/1/98</td>\n",
       "      <td>1.0</td>\n",
       "      <td>2020 SOUTH MUSKOGEE</td>\n",
       "      <td>Tahlequah</td>\n",
       "      <td>OK</td>\n",
       "      <td>74464</td>\n",
       "      <td>Supercenter</td>\n",
       "      <td>35.923658</td>\n",
       "      <td>-94.97185</td>\n",
       "      <td>7</td>\n",
       "      <td>1</td>\n",
       "      <td>1968</td>\n",
       "    </tr>\n",
       "    <tr>\n",
       "      <td>...</td>\n",
       "      <td>...</td>\n",
       "      <td>...</td>\n",
       "      <td>...</td>\n",
       "      <td>...</td>\n",
       "      <td>...</td>\n",
       "      <td>...</td>\n",
       "      <td>...</td>\n",
       "      <td>...</td>\n",
       "      <td>...</td>\n",
       "      <td>...</td>\n",
       "      <td>...</td>\n",
       "      <td>...</td>\n",
       "      <td>...</td>\n",
       "      <td>...</td>\n",
       "    </tr>\n",
       "    <tr>\n",
       "      <td>2677</td>\n",
       "      <td>5139</td>\n",
       "      <td>10/29/03</td>\n",
       "      <td>11/2/05</td>\n",
       "      <td>1.0</td>\n",
       "      <td>235 EAST DORSET DRIVE</td>\n",
       "      <td>Dixon</td>\n",
       "      <td>CA</td>\n",
       "      <td>95620</td>\n",
       "      <td>Supercenter</td>\n",
       "      <td>38.427208</td>\n",
       "      <td>-121.81348</td>\n",
       "      <td>10</td>\n",
       "      <td>29</td>\n",
       "      <td>2003</td>\n",
       "    </tr>\n",
       "    <tr>\n",
       "      <td>2679</td>\n",
       "      <td>5136</td>\n",
       "      <td>8/20/03</td>\n",
       "      <td>11/2/05</td>\n",
       "      <td>1.0</td>\n",
       "      <td>1131 NORTH BEALE ROAD</td>\n",
       "      <td>Marysville</td>\n",
       "      <td>CA</td>\n",
       "      <td>95901</td>\n",
       "      <td>Supercenter</td>\n",
       "      <td>39.159730</td>\n",
       "      <td>-121.53735</td>\n",
       "      <td>8</td>\n",
       "      <td>20</td>\n",
       "      <td>2003</td>\n",
       "    </tr>\n",
       "    <tr>\n",
       "      <td>2696</td>\n",
       "      <td>3513</td>\n",
       "      <td>3/19/03</td>\n",
       "      <td>11/2/05</td>\n",
       "      <td>1.0</td>\n",
       "      <td>8101 OLD CARRIAGE COURT</td>\n",
       "      <td>Shakopee</td>\n",
       "      <td>MN</td>\n",
       "      <td>55379</td>\n",
       "      <td>Supercenter</td>\n",
       "      <td>44.776138</td>\n",
       "      <td>-93.52556</td>\n",
       "      <td>3</td>\n",
       "      <td>19</td>\n",
       "      <td>2003</td>\n",
       "    </tr>\n",
       "    <tr>\n",
       "      <td>2698</td>\n",
       "      <td>5079</td>\n",
       "      <td>6/18/03</td>\n",
       "      <td>6/18/03</td>\n",
       "      <td>1.0</td>\n",
       "      <td>1617 EAST BEACH BLVD</td>\n",
       "      <td>Pass Christian</td>\n",
       "      <td>MS</td>\n",
       "      <td>39571</td>\n",
       "      <td>Supercenter</td>\n",
       "      <td>30.371623</td>\n",
       "      <td>-89.27038</td>\n",
       "      <td>6</td>\n",
       "      <td>18</td>\n",
       "      <td>2003</td>\n",
       "    </tr>\n",
       "    <tr>\n",
       "      <td>2939</td>\n",
       "      <td>3431</td>\n",
       "      <td>8/24/05</td>\n",
       "      <td>8/24/05</td>\n",
       "      <td>1.0</td>\n",
       "      <td>2801 EAST INTERSTATE 20</td>\n",
       "      <td>Hudson Oaks</td>\n",
       "      <td>TX</td>\n",
       "      <td>76087</td>\n",
       "      <td>Supercenter</td>\n",
       "      <td>32.703008</td>\n",
       "      <td>-97.74814</td>\n",
       "      <td>8</td>\n",
       "      <td>24</td>\n",
       "      <td>2005</td>\n",
       "    </tr>\n",
       "  </tbody>\n",
       "</table>\n",
       "<p>1557 rows × 14 columns</p>\n",
       "</div>"
      ],
      "text/plain": [
       "      storenum  OPENDATE date_super  conversion               STREETADDR  \\\n",
       "0            1    7/1/62     3/1/97         1.0         2110 WEST WALNUT   \n",
       "1            2    8/1/64     3/1/96         1.0         1417 HWY 62/65 N   \n",
       "2            4    8/1/65     3/1/02         1.0        2901 HWY 412 EAST   \n",
       "3            8   10/1/67     3/1/93         1.0    1621 NORTH BUSINESS 9   \n",
       "5           10    7/1/68     3/1/98         1.0      2020 SOUTH MUSKOGEE   \n",
       "...        ...       ...        ...         ...                      ...   \n",
       "2677      5139  10/29/03    11/2/05         1.0    235 EAST DORSET DRIVE   \n",
       "2679      5136   8/20/03    11/2/05         1.0    1131 NORTH BEALE ROAD   \n",
       "2696      3513   3/19/03    11/2/05         1.0  8101 OLD CARRIAGE COURT   \n",
       "2698      5079   6/18/03    6/18/03         1.0     1617 EAST BEACH BLVD   \n",
       "2939      3431   8/24/05    8/24/05         1.0  2801 EAST INTERSTATE 20   \n",
       "\n",
       "             STRCITY STRSTATE  ZIPCODE   type_store        LAT        LON  \\\n",
       "0             Rogers       AR    72756  Supercenter  36.342235  -94.07141   \n",
       "1           Harrison       AR    72601  Supercenter  36.236984  -93.09345   \n",
       "2     Siloam Springs       AR    72761  Supercenter  36.179905  -94.50208   \n",
       "3          Morrilton       AR    72110  Supercenter  35.156491  -92.75858   \n",
       "5          Tahlequah       OK    74464  Supercenter  35.923658  -94.97185   \n",
       "...              ...      ...      ...          ...        ...        ...   \n",
       "2677           Dixon       CA    95620  Supercenter  38.427208 -121.81348   \n",
       "2679      Marysville       CA    95901  Supercenter  39.159730 -121.53735   \n",
       "2696        Shakopee       MN    55379  Supercenter  44.776138  -93.52556   \n",
       "2698  Pass Christian       MS    39571  Supercenter  30.371623  -89.27038   \n",
       "2939     Hudson Oaks       TX    76087  Supercenter  32.703008  -97.74814   \n",
       "\n",
       "      MONTH  DAY  YEAR  \n",
       "0         7    1  1962  \n",
       "1         8    1  1964  \n",
       "2         8    1  1965  \n",
       "3        10    1  1967  \n",
       "5         7    1  1968  \n",
       "...     ...  ...   ...  \n",
       "2677     10   29  2003  \n",
       "2679      8   20  2003  \n",
       "2696      3   19  2003  \n",
       "2698      6   18  2003  \n",
       "2939      8   24  2005  \n",
       "\n",
       "[1557 rows x 14 columns]"
      ]
     },
     "execution_count": 16,
     "metadata": {},
     "output_type": "execute_result"
    }
   ],
   "source": [
    "# your code here \n",
    "\n",
    "# make a data frame of stores with 1 as a conversion value\n",
    "convertedStores = walmart[walmart['conversion'] == 1] \n",
    "\n",
    "convertedStores[:]"
   ]
  },
  {
   "cell_type": "code",
   "execution_count": 17,
   "metadata": {},
   "outputs": [
    {
     "data": {
      "text/html": [
       "<div>\n",
       "<style scoped>\n",
       "    .dataframe tbody tr th:only-of-type {\n",
       "        vertical-align: middle;\n",
       "    }\n",
       "\n",
       "    .dataframe tbody tr th {\n",
       "        vertical-align: top;\n",
       "    }\n",
       "\n",
       "    .dataframe thead th {\n",
       "        text-align: right;\n",
       "    }\n",
       "</style>\n",
       "<table border=\"1\" class=\"dataframe\">\n",
       "  <thead>\n",
       "    <tr style=\"text-align: right;\">\n",
       "      <th></th>\n",
       "      <th>OPENDATE</th>\n",
       "      <th>date_super</th>\n",
       "      <th>type_store</th>\n",
       "    </tr>\n",
       "  </thead>\n",
       "  <tbody>\n",
       "    <tr>\n",
       "      <td>0</td>\n",
       "      <td>7/1/62</td>\n",
       "      <td>3/1/97</td>\n",
       "      <td>Supercenter</td>\n",
       "    </tr>\n",
       "    <tr>\n",
       "      <td>1</td>\n",
       "      <td>8/1/64</td>\n",
       "      <td>3/1/96</td>\n",
       "      <td>Supercenter</td>\n",
       "    </tr>\n",
       "    <tr>\n",
       "      <td>2</td>\n",
       "      <td>8/1/65</td>\n",
       "      <td>3/1/02</td>\n",
       "      <td>Supercenter</td>\n",
       "    </tr>\n",
       "    <tr>\n",
       "      <td>3</td>\n",
       "      <td>10/1/67</td>\n",
       "      <td>3/1/93</td>\n",
       "      <td>Supercenter</td>\n",
       "    </tr>\n",
       "    <tr>\n",
       "      <td>5</td>\n",
       "      <td>7/1/68</td>\n",
       "      <td>3/1/98</td>\n",
       "      <td>Supercenter</td>\n",
       "    </tr>\n",
       "    <tr>\n",
       "      <td>...</td>\n",
       "      <td>...</td>\n",
       "      <td>...</td>\n",
       "      <td>...</td>\n",
       "    </tr>\n",
       "    <tr>\n",
       "      <td>2677</td>\n",
       "      <td>10/29/03</td>\n",
       "      <td>11/2/05</td>\n",
       "      <td>Supercenter</td>\n",
       "    </tr>\n",
       "    <tr>\n",
       "      <td>2679</td>\n",
       "      <td>8/20/03</td>\n",
       "      <td>11/2/05</td>\n",
       "      <td>Supercenter</td>\n",
       "    </tr>\n",
       "    <tr>\n",
       "      <td>2696</td>\n",
       "      <td>3/19/03</td>\n",
       "      <td>11/2/05</td>\n",
       "      <td>Supercenter</td>\n",
       "    </tr>\n",
       "    <tr>\n",
       "      <td>2698</td>\n",
       "      <td>6/18/03</td>\n",
       "      <td>6/18/03</td>\n",
       "      <td>Supercenter</td>\n",
       "    </tr>\n",
       "    <tr>\n",
       "      <td>2939</td>\n",
       "      <td>8/24/05</td>\n",
       "      <td>8/24/05</td>\n",
       "      <td>Supercenter</td>\n",
       "    </tr>\n",
       "  </tbody>\n",
       "</table>\n",
       "<p>1557 rows × 3 columns</p>\n",
       "</div>"
      ],
      "text/plain": [
       "      OPENDATE date_super   type_store\n",
       "0       7/1/62     3/1/97  Supercenter\n",
       "1       8/1/64     3/1/96  Supercenter\n",
       "2       8/1/65     3/1/02  Supercenter\n",
       "3      10/1/67     3/1/93  Supercenter\n",
       "5       7/1/68     3/1/98  Supercenter\n",
       "...        ...        ...          ...\n",
       "2677  10/29/03    11/2/05  Supercenter\n",
       "2679   8/20/03    11/2/05  Supercenter\n",
       "2696   3/19/03    11/2/05  Supercenter\n",
       "2698   6/18/03    6/18/03  Supercenter\n",
       "2939   8/24/05    8/24/05  Supercenter\n",
       "\n",
       "[1557 rows x 3 columns]"
      ]
     },
     "execution_count": 17,
     "metadata": {},
     "output_type": "execute_result"
    }
   ],
   "source": [
    "# you can put more code here\n",
    "\n",
    "# explore the data however you'd like.\n",
    "\n",
    "conversion_span = convertedStores[['OPENDATE','date_super', 'type_store']]\n",
    "\n",
    "conversion_span"
   ]
  },
  {
   "cell_type": "code",
   "execution_count": 18,
   "metadata": {},
   "outputs": [
    {
     "data": {
      "text/html": [
       "<div>\n",
       "<style scoped>\n",
       "    .dataframe tbody tr th:only-of-type {\n",
       "        vertical-align: middle;\n",
       "    }\n",
       "\n",
       "    .dataframe tbody tr th {\n",
       "        vertical-align: top;\n",
       "    }\n",
       "\n",
       "    .dataframe thead th {\n",
       "        text-align: right;\n",
       "    }\n",
       "</style>\n",
       "<table border=\"1\" class=\"dataframe\">\n",
       "  <thead>\n",
       "    <tr style=\"text-align: right;\">\n",
       "      <th></th>\n",
       "      <th>storenum</th>\n",
       "      <th>OPENDATE</th>\n",
       "      <th>date_super</th>\n",
       "      <th>conversion</th>\n",
       "      <th>STREETADDR</th>\n",
       "      <th>STRCITY</th>\n",
       "      <th>STRSTATE</th>\n",
       "      <th>ZIPCODE</th>\n",
       "      <th>type_store</th>\n",
       "      <th>LAT</th>\n",
       "      <th>LON</th>\n",
       "      <th>MONTH</th>\n",
       "      <th>DAY</th>\n",
       "      <th>YEAR</th>\n",
       "    </tr>\n",
       "  </thead>\n",
       "  <tbody>\n",
       "    <tr>\n",
       "      <td>1401</td>\n",
       "      <td>19</td>\n",
       "      <td>4/3/90</td>\n",
       "      <td>4/3/90</td>\n",
       "      <td>0.0</td>\n",
       "      <td>333 S WESTWOOD</td>\n",
       "      <td>Poplar Bluff</td>\n",
       "      <td>MO</td>\n",
       "      <td>63901</td>\n",
       "      <td>Supercenter</td>\n",
       "      <td>36.759357</td>\n",
       "      <td>-90.41689</td>\n",
       "      <td>4</td>\n",
       "      <td>3</td>\n",
       "      <td>1990</td>\n",
       "    </tr>\n",
       "    <tr>\n",
       "      <td>1875</td>\n",
       "      <td>1958</td>\n",
       "      <td>4/30/93</td>\n",
       "      <td>4/30/93</td>\n",
       "      <td>0.0</td>\n",
       "      <td>4534 E HWY 83</td>\n",
       "      <td>Rio Grand City</td>\n",
       "      <td>TX</td>\n",
       "      <td>78582</td>\n",
       "      <td>Supercenter</td>\n",
       "      <td>26.445982</td>\n",
       "      <td>-98.69332</td>\n",
       "      <td>4</td>\n",
       "      <td>30</td>\n",
       "      <td>1993</td>\n",
       "    </tr>\n",
       "    <tr>\n",
       "      <td>2133</td>\n",
       "      <td>2491</td>\n",
       "      <td>8/28/96</td>\n",
       "      <td>8/28/96</td>\n",
       "      <td>0.0</td>\n",
       "      <td>4101 N VERMILION SUITE A</td>\n",
       "      <td>Danville</td>\n",
       "      <td>IL</td>\n",
       "      <td>61834</td>\n",
       "      <td>Supercenter</td>\n",
       "      <td>40.175463</td>\n",
       "      <td>-87.61240</td>\n",
       "      <td>8</td>\n",
       "      <td>28</td>\n",
       "      <td>1996</td>\n",
       "    </tr>\n",
       "    <tr>\n",
       "      <td>2151</td>\n",
       "      <td>2334</td>\n",
       "      <td>9/25/96</td>\n",
       "      <td>9/25/96</td>\n",
       "      <td>0.0</td>\n",
       "      <td>2034 LINCOLN HWY EAST</td>\n",
       "      <td>East Lampeter</td>\n",
       "      <td>PA</td>\n",
       "      <td>17602</td>\n",
       "      <td>Supercenter</td>\n",
       "      <td>40.032664</td>\n",
       "      <td>-76.27575</td>\n",
       "      <td>9</td>\n",
       "      <td>25</td>\n",
       "      <td>1996</td>\n",
       "    </tr>\n",
       "    <tr>\n",
       "      <td>2152</td>\n",
       "      <td>2337</td>\n",
       "      <td>7/17/96</td>\n",
       "      <td>7/17/96</td>\n",
       "      <td>0.0</td>\n",
       "      <td>550 OLD FRANKLIN TURNPIKE</td>\n",
       "      <td>Rocky Mount</td>\n",
       "      <td>VA</td>\n",
       "      <td>24151</td>\n",
       "      <td>Supercenter</td>\n",
       "      <td>36.980013</td>\n",
       "      <td>-79.88027</td>\n",
       "      <td>7</td>\n",
       "      <td>17</td>\n",
       "      <td>1996</td>\n",
       "    </tr>\n",
       "    <tr>\n",
       "      <td>...</td>\n",
       "      <td>...</td>\n",
       "      <td>...</td>\n",
       "      <td>...</td>\n",
       "      <td>...</td>\n",
       "      <td>...</td>\n",
       "      <td>...</td>\n",
       "      <td>...</td>\n",
       "      <td>...</td>\n",
       "      <td>...</td>\n",
       "      <td>...</td>\n",
       "      <td>...</td>\n",
       "      <td>...</td>\n",
       "      <td>...</td>\n",
       "      <td>...</td>\n",
       "    </tr>\n",
       "    <tr>\n",
       "      <td>2985</td>\n",
       "      <td>5346</td>\n",
       "      <td>1/23/06</td>\n",
       "      <td>1/23/06</td>\n",
       "      <td>0.0</td>\n",
       "      <td>1318 Mebane Oaks Rd</td>\n",
       "      <td>Mebane</td>\n",
       "      <td>NC</td>\n",
       "      <td>27302</td>\n",
       "      <td>Supercenter</td>\n",
       "      <td>36.111449</td>\n",
       "      <td>-79.27142</td>\n",
       "      <td>1</td>\n",
       "      <td>23</td>\n",
       "      <td>2006</td>\n",
       "    </tr>\n",
       "    <tr>\n",
       "      <td>2986</td>\n",
       "      <td>5313</td>\n",
       "      <td>1/23/06</td>\n",
       "      <td>1/23/06</td>\n",
       "      <td>0.0</td>\n",
       "      <td>6100 Ronald Reagan Blvd</td>\n",
       "      <td>Lake Saint Louis</td>\n",
       "      <td>MO</td>\n",
       "      <td>63367</td>\n",
       "      <td>Supercenter</td>\n",
       "      <td>38.796601</td>\n",
       "      <td>-90.78525</td>\n",
       "      <td>1</td>\n",
       "      <td>23</td>\n",
       "      <td>2006</td>\n",
       "    </tr>\n",
       "    <tr>\n",
       "      <td>2987</td>\n",
       "      <td>5403</td>\n",
       "      <td>1/27/06</td>\n",
       "      <td>1/27/06</td>\n",
       "      <td>0.0</td>\n",
       "      <td>100 S High Cross Rd</td>\n",
       "      <td>Urbana</td>\n",
       "      <td>IL</td>\n",
       "      <td>61802</td>\n",
       "      <td>Supercenter</td>\n",
       "      <td>40.121648</td>\n",
       "      <td>-88.17649</td>\n",
       "      <td>1</td>\n",
       "      <td>27</td>\n",
       "      <td>2006</td>\n",
       "    </tr>\n",
       "    <tr>\n",
       "      <td>2988</td>\n",
       "      <td>3347</td>\n",
       "      <td>1/23/06</td>\n",
       "      <td>1/23/06</td>\n",
       "      <td>0.0</td>\n",
       "      <td>7450 Cypress Gardens Blvd</td>\n",
       "      <td>Winter Haven</td>\n",
       "      <td>FL</td>\n",
       "      <td>33884</td>\n",
       "      <td>Supercenter</td>\n",
       "      <td>27.997387</td>\n",
       "      <td>-81.68256</td>\n",
       "      <td>1</td>\n",
       "      <td>23</td>\n",
       "      <td>2006</td>\n",
       "    </tr>\n",
       "    <tr>\n",
       "      <td>2990</td>\n",
       "      <td>3425</td>\n",
       "      <td>1/27/06</td>\n",
       "      <td>1/27/06</td>\n",
       "      <td>0.0</td>\n",
       "      <td>9598 Rowlett Rd</td>\n",
       "      <td>Houston</td>\n",
       "      <td>TX</td>\n",
       "      <td>77034</td>\n",
       "      <td>Supercenter</td>\n",
       "      <td>29.636430</td>\n",
       "      <td>-95.21789</td>\n",
       "      <td>1</td>\n",
       "      <td>27</td>\n",
       "      <td>2006</td>\n",
       "    </tr>\n",
       "  </tbody>\n",
       "</table>\n",
       "<p>389 rows × 14 columns</p>\n",
       "</div>"
      ],
      "text/plain": [
       "      storenum OPENDATE date_super  conversion                 STREETADDR  \\\n",
       "1401        19   4/3/90     4/3/90         0.0             333 S WESTWOOD   \n",
       "1875      1958  4/30/93    4/30/93         0.0              4534 E HWY 83   \n",
       "2133      2491  8/28/96    8/28/96         0.0   4101 N VERMILION SUITE A   \n",
       "2151      2334  9/25/96    9/25/96         0.0      2034 LINCOLN HWY EAST   \n",
       "2152      2337  7/17/96    7/17/96         0.0  550 OLD FRANKLIN TURNPIKE   \n",
       "...        ...      ...        ...         ...                        ...   \n",
       "2985      5346  1/23/06    1/23/06         0.0        1318 Mebane Oaks Rd   \n",
       "2986      5313  1/23/06    1/23/06         0.0    6100 Ronald Reagan Blvd   \n",
       "2987      5403  1/27/06    1/27/06         0.0        100 S High Cross Rd   \n",
       "2988      3347  1/23/06    1/23/06         0.0  7450 Cypress Gardens Blvd   \n",
       "2990      3425  1/27/06    1/27/06         0.0            9598 Rowlett Rd   \n",
       "\n",
       "               STRCITY STRSTATE  ZIPCODE   type_store        LAT       LON  \\\n",
       "1401      Poplar Bluff       MO    63901  Supercenter  36.759357 -90.41689   \n",
       "1875    Rio Grand City       TX    78582  Supercenter  26.445982 -98.69332   \n",
       "2133          Danville       IL    61834  Supercenter  40.175463 -87.61240   \n",
       "2151     East Lampeter       PA    17602  Supercenter  40.032664 -76.27575   \n",
       "2152       Rocky Mount       VA    24151  Supercenter  36.980013 -79.88027   \n",
       "...                ...      ...      ...          ...        ...       ...   \n",
       "2985            Mebane       NC    27302  Supercenter  36.111449 -79.27142   \n",
       "2986  Lake Saint Louis       MO    63367  Supercenter  38.796601 -90.78525   \n",
       "2987            Urbana       IL    61802  Supercenter  40.121648 -88.17649   \n",
       "2988      Winter Haven       FL    33884  Supercenter  27.997387 -81.68256   \n",
       "2990           Houston       TX    77034  Supercenter  29.636430 -95.21789   \n",
       "\n",
       "      MONTH  DAY  YEAR  \n",
       "1401      4    3  1990  \n",
       "1875      4   30  1993  \n",
       "2133      8   28  1996  \n",
       "2151      9   25  1996  \n",
       "2152      7   17  1996  \n",
       "...     ...  ...   ...  \n",
       "2985      1   23  2006  \n",
       "2986      1   23  2006  \n",
       "2987      1   27  2006  \n",
       "2988      1   23  2006  \n",
       "2990      1   27  2006  \n",
       "\n",
       "[389 rows x 14 columns]"
      ]
     },
     "execution_count": 18,
     "metadata": {},
     "output_type": "execute_result"
    }
   ],
   "source": [
    "# your code here \n",
    "\n",
    "# make a data frame of stores with 0 as a conversion value\n",
    "notConvertedStores = walmart[walmart['conversion'] == 0] \n",
    "\n",
    "notConvertedStores[:]"
   ]
  },
  {
   "cell_type": "code",
   "execution_count": 19,
   "metadata": {},
   "outputs": [
    {
     "data": {
      "text/html": [
       "<div>\n",
       "<style scoped>\n",
       "    .dataframe tbody tr th:only-of-type {\n",
       "        vertical-align: middle;\n",
       "    }\n",
       "\n",
       "    .dataframe tbody tr th {\n",
       "        vertical-align: top;\n",
       "    }\n",
       "\n",
       "    .dataframe thead th {\n",
       "        text-align: right;\n",
       "    }\n",
       "</style>\n",
       "<table border=\"1\" class=\"dataframe\">\n",
       "  <thead>\n",
       "    <tr style=\"text-align: right;\">\n",
       "      <th></th>\n",
       "      <th>OPENDATE</th>\n",
       "      <th>date_super</th>\n",
       "      <th>type_store</th>\n",
       "    </tr>\n",
       "  </thead>\n",
       "  <tbody>\n",
       "    <tr>\n",
       "      <td>1401</td>\n",
       "      <td>4/3/90</td>\n",
       "      <td>4/3/90</td>\n",
       "      <td>Supercenter</td>\n",
       "    </tr>\n",
       "    <tr>\n",
       "      <td>1875</td>\n",
       "      <td>4/30/93</td>\n",
       "      <td>4/30/93</td>\n",
       "      <td>Supercenter</td>\n",
       "    </tr>\n",
       "    <tr>\n",
       "      <td>2133</td>\n",
       "      <td>8/28/96</td>\n",
       "      <td>8/28/96</td>\n",
       "      <td>Supercenter</td>\n",
       "    </tr>\n",
       "    <tr>\n",
       "      <td>2151</td>\n",
       "      <td>9/25/96</td>\n",
       "      <td>9/25/96</td>\n",
       "      <td>Supercenter</td>\n",
       "    </tr>\n",
       "    <tr>\n",
       "      <td>2152</td>\n",
       "      <td>7/17/96</td>\n",
       "      <td>7/17/96</td>\n",
       "      <td>Supercenter</td>\n",
       "    </tr>\n",
       "    <tr>\n",
       "      <td>...</td>\n",
       "      <td>...</td>\n",
       "      <td>...</td>\n",
       "      <td>...</td>\n",
       "    </tr>\n",
       "    <tr>\n",
       "      <td>2985</td>\n",
       "      <td>1/23/06</td>\n",
       "      <td>1/23/06</td>\n",
       "      <td>Supercenter</td>\n",
       "    </tr>\n",
       "    <tr>\n",
       "      <td>2986</td>\n",
       "      <td>1/23/06</td>\n",
       "      <td>1/23/06</td>\n",
       "      <td>Supercenter</td>\n",
       "    </tr>\n",
       "    <tr>\n",
       "      <td>2987</td>\n",
       "      <td>1/27/06</td>\n",
       "      <td>1/27/06</td>\n",
       "      <td>Supercenter</td>\n",
       "    </tr>\n",
       "    <tr>\n",
       "      <td>2988</td>\n",
       "      <td>1/23/06</td>\n",
       "      <td>1/23/06</td>\n",
       "      <td>Supercenter</td>\n",
       "    </tr>\n",
       "    <tr>\n",
       "      <td>2990</td>\n",
       "      <td>1/27/06</td>\n",
       "      <td>1/27/06</td>\n",
       "      <td>Supercenter</td>\n",
       "    </tr>\n",
       "  </tbody>\n",
       "</table>\n",
       "<p>389 rows × 3 columns</p>\n",
       "</div>"
      ],
      "text/plain": [
       "     OPENDATE date_super   type_store\n",
       "1401   4/3/90     4/3/90  Supercenter\n",
       "1875  4/30/93    4/30/93  Supercenter\n",
       "2133  8/28/96    8/28/96  Supercenter\n",
       "2151  9/25/96    9/25/96  Supercenter\n",
       "2152  7/17/96    7/17/96  Supercenter\n",
       "...       ...        ...          ...\n",
       "2985  1/23/06    1/23/06  Supercenter\n",
       "2986  1/23/06    1/23/06  Supercenter\n",
       "2987  1/27/06    1/27/06  Supercenter\n",
       "2988  1/23/06    1/23/06  Supercenter\n",
       "2990  1/27/06    1/27/06  Supercenter\n",
       "\n",
       "[389 rows x 3 columns]"
      ]
     },
     "execution_count": 19,
     "metadata": {},
     "output_type": "execute_result"
    }
   ],
   "source": [
    "# you can put more code here\n",
    "\n",
    "# explore the data however you'd like.\n",
    "notConversion_span = notConvertedStores[['OPENDATE','date_super','type_store']]\n",
    "\n",
    "notConversion_span"
   ]
  },
  {
   "cell_type": "markdown",
   "metadata": {},
   "source": [
    "### Answer the following questions:\n",
    "\n",
    "1. <b>Decribe the stores with 1 as a conversion value:</b> Stores that have been converted form Wal-mart to Supercenter.\n",
    "\n",
    "2. <b>Describe the stores with 0 as a conversion value:</b> Stores that were build as Supercenter.\n",
    "\n",
    "3. <b>Describe the stores with NaN as a conversion value:</b> Wal-Mart stores that were not converted to Supercenter. "
   ]
  },
  {
   "cell_type": "markdown",
   "metadata": {},
   "source": [
    "## Problem 2: "
   ]
  },
  {
   "cell_type": "markdown",
   "metadata": {
    "hideCode": false,
    "hidePrompt": false
   },
   "source": [
    "---\n",
    "## Winter Olympic Games\n",
    "By: Kaleigh  \n",
    "\n",
    "Source: https://www.kaggle.com/the-guardian/olympic-games/data  \n",
    "\n",
    "The dataset contains information on winter olympic games from 1924 to 2014.  Note: The dataset uses country codes rather than the complete country names.  If you would like to learn more about the dataset or know which codes correspond to which countries, you can find that information in the \"dictionary.csv\" file located at the link above."
   ]
  },
  {
   "cell_type": "markdown",
   "metadata": {
    "hideCode": false,
    "hidePrompt": false
   },
   "source": [
    "### 1) Load Dataset  \n",
    "\n",
    "- Load the \"winter.csv\" file as a pandas dataframe.  \n",
    "- Display the **first 5** rows of the dataframe.  \n",
    "- Display the **last 5** rows of the dataframe."
   ]
  },
  {
   "cell_type": "code",
   "execution_count": 20,
   "metadata": {
    "hideCode": false,
    "hidePrompt": false
   },
   "outputs": [
    {
     "data": {
      "text/html": [
       "<div>\n",
       "<style scoped>\n",
       "    .dataframe tbody tr th:only-of-type {\n",
       "        vertical-align: middle;\n",
       "    }\n",
       "\n",
       "    .dataframe tbody tr th {\n",
       "        vertical-align: top;\n",
       "    }\n",
       "\n",
       "    .dataframe thead th {\n",
       "        text-align: right;\n",
       "    }\n",
       "</style>\n",
       "<table border=\"1\" class=\"dataframe\">\n",
       "  <thead>\n",
       "    <tr style=\"text-align: right;\">\n",
       "      <th></th>\n",
       "      <th>Year</th>\n",
       "      <th>City</th>\n",
       "      <th>Sport</th>\n",
       "      <th>Discipline</th>\n",
       "      <th>Athlete</th>\n",
       "      <th>Country</th>\n",
       "      <th>Gender</th>\n",
       "      <th>Event</th>\n",
       "      <th>Medal</th>\n",
       "    </tr>\n",
       "  </thead>\n",
       "  <tbody>\n",
       "    <tr>\n",
       "      <td>0</td>\n",
       "      <td>1924</td>\n",
       "      <td>Chamonix</td>\n",
       "      <td>Biathlon</td>\n",
       "      <td>Biathlon</td>\n",
       "      <td>BERTHET, G.</td>\n",
       "      <td>FRA</td>\n",
       "      <td>Men</td>\n",
       "      <td>Military Patrol</td>\n",
       "      <td>Bronze</td>\n",
       "    </tr>\n",
       "    <tr>\n",
       "      <td>1</td>\n",
       "      <td>1924</td>\n",
       "      <td>Chamonix</td>\n",
       "      <td>Biathlon</td>\n",
       "      <td>Biathlon</td>\n",
       "      <td>MANDRILLON, C.</td>\n",
       "      <td>FRA</td>\n",
       "      <td>Men</td>\n",
       "      <td>Military Patrol</td>\n",
       "      <td>Bronze</td>\n",
       "    </tr>\n",
       "    <tr>\n",
       "      <td>2</td>\n",
       "      <td>1924</td>\n",
       "      <td>Chamonix</td>\n",
       "      <td>Biathlon</td>\n",
       "      <td>Biathlon</td>\n",
       "      <td>MANDRILLON, Maurice</td>\n",
       "      <td>FRA</td>\n",
       "      <td>Men</td>\n",
       "      <td>Military Patrol</td>\n",
       "      <td>Bronze</td>\n",
       "    </tr>\n",
       "    <tr>\n",
       "      <td>3</td>\n",
       "      <td>1924</td>\n",
       "      <td>Chamonix</td>\n",
       "      <td>Biathlon</td>\n",
       "      <td>Biathlon</td>\n",
       "      <td>VANDELLE, André</td>\n",
       "      <td>FRA</td>\n",
       "      <td>Men</td>\n",
       "      <td>Military Patrol</td>\n",
       "      <td>Bronze</td>\n",
       "    </tr>\n",
       "    <tr>\n",
       "      <td>4</td>\n",
       "      <td>1924</td>\n",
       "      <td>Chamonix</td>\n",
       "      <td>Biathlon</td>\n",
       "      <td>Biathlon</td>\n",
       "      <td>AUFDENBLATTEN, Adolf</td>\n",
       "      <td>SUI</td>\n",
       "      <td>Men</td>\n",
       "      <td>Military Patrol</td>\n",
       "      <td>Gold</td>\n",
       "    </tr>\n",
       "  </tbody>\n",
       "</table>\n",
       "</div>"
      ],
      "text/plain": [
       "   Year      City     Sport Discipline               Athlete Country Gender  \\\n",
       "0  1924  Chamonix  Biathlon   Biathlon           BERTHET, G.     FRA    Men   \n",
       "1  1924  Chamonix  Biathlon   Biathlon        MANDRILLON, C.     FRA    Men   \n",
       "2  1924  Chamonix  Biathlon   Biathlon   MANDRILLON, Maurice     FRA    Men   \n",
       "3  1924  Chamonix  Biathlon   Biathlon       VANDELLE, André     FRA    Men   \n",
       "4  1924  Chamonix  Biathlon   Biathlon  AUFDENBLATTEN, Adolf     SUI    Men   \n",
       "\n",
       "             Event   Medal  \n",
       "0  Military Patrol  Bronze  \n",
       "1  Military Patrol  Bronze  \n",
       "2  Military Patrol  Bronze  \n",
       "3  Military Patrol  Bronze  \n",
       "4  Military Patrol    Gold  "
      ]
     },
     "execution_count": 20,
     "metadata": {},
     "output_type": "execute_result"
    }
   ],
   "source": [
    "# Your Code Here\n",
    "import numpy as np\n",
    "import pandas as pd\n",
    "\n",
    "games = pd.read_csv(\"winter.csv\")\n",
    "\n",
    "games.head(5)"
   ]
  },
  {
   "cell_type": "code",
   "execution_count": 21,
   "metadata": {},
   "outputs": [
    {
     "data": {
      "text/html": [
       "<div>\n",
       "<style scoped>\n",
       "    .dataframe tbody tr th:only-of-type {\n",
       "        vertical-align: middle;\n",
       "    }\n",
       "\n",
       "    .dataframe tbody tr th {\n",
       "        vertical-align: top;\n",
       "    }\n",
       "\n",
       "    .dataframe thead th {\n",
       "        text-align: right;\n",
       "    }\n",
       "</style>\n",
       "<table border=\"1\" class=\"dataframe\">\n",
       "  <thead>\n",
       "    <tr style=\"text-align: right;\">\n",
       "      <th></th>\n",
       "      <th>Year</th>\n",
       "      <th>City</th>\n",
       "      <th>Sport</th>\n",
       "      <th>Discipline</th>\n",
       "      <th>Athlete</th>\n",
       "      <th>Country</th>\n",
       "      <th>Gender</th>\n",
       "      <th>Event</th>\n",
       "      <th>Medal</th>\n",
       "    </tr>\n",
       "  </thead>\n",
       "  <tbody>\n",
       "    <tr>\n",
       "      <td>5765</td>\n",
       "      <td>2014</td>\n",
       "      <td>Sochi</td>\n",
       "      <td>Skiing</td>\n",
       "      <td>Snowboard</td>\n",
       "      <td>JONES, Jenny</td>\n",
       "      <td>GBR</td>\n",
       "      <td>Women</td>\n",
       "      <td>Slopestyle</td>\n",
       "      <td>Bronze</td>\n",
       "    </tr>\n",
       "    <tr>\n",
       "      <td>5766</td>\n",
       "      <td>2014</td>\n",
       "      <td>Sochi</td>\n",
       "      <td>Skiing</td>\n",
       "      <td>Snowboard</td>\n",
       "      <td>ANDERSON, Jamie</td>\n",
       "      <td>USA</td>\n",
       "      <td>Women</td>\n",
       "      <td>Slopestyle</td>\n",
       "      <td>Gold</td>\n",
       "    </tr>\n",
       "    <tr>\n",
       "      <td>5767</td>\n",
       "      <td>2014</td>\n",
       "      <td>Sochi</td>\n",
       "      <td>Skiing</td>\n",
       "      <td>Snowboard</td>\n",
       "      <td>MALTAIS, Dominique</td>\n",
       "      <td>CAN</td>\n",
       "      <td>Women</td>\n",
       "      <td>Snowboard Cross</td>\n",
       "      <td>Silver</td>\n",
       "    </tr>\n",
       "    <tr>\n",
       "      <td>5768</td>\n",
       "      <td>2014</td>\n",
       "      <td>Sochi</td>\n",
       "      <td>Skiing</td>\n",
       "      <td>Snowboard</td>\n",
       "      <td>SAMKOVA, Eva</td>\n",
       "      <td>CZE</td>\n",
       "      <td>Women</td>\n",
       "      <td>Snowboard Cross</td>\n",
       "      <td>Gold</td>\n",
       "    </tr>\n",
       "    <tr>\n",
       "      <td>5769</td>\n",
       "      <td>2014</td>\n",
       "      <td>Sochi</td>\n",
       "      <td>Skiing</td>\n",
       "      <td>Snowboard</td>\n",
       "      <td>TRESPEUCH, Chloe</td>\n",
       "      <td>FRA</td>\n",
       "      <td>Women</td>\n",
       "      <td>Snowboard Cross</td>\n",
       "      <td>Bronze</td>\n",
       "    </tr>\n",
       "  </tbody>\n",
       "</table>\n",
       "</div>"
      ],
      "text/plain": [
       "      Year   City   Sport Discipline             Athlete Country Gender  \\\n",
       "5765  2014  Sochi  Skiing  Snowboard        JONES, Jenny     GBR  Women   \n",
       "5766  2014  Sochi  Skiing  Snowboard     ANDERSON, Jamie     USA  Women   \n",
       "5767  2014  Sochi  Skiing  Snowboard  MALTAIS, Dominique     CAN  Women   \n",
       "5768  2014  Sochi  Skiing  Snowboard        SAMKOVA, Eva     CZE  Women   \n",
       "5769  2014  Sochi  Skiing  Snowboard    TRESPEUCH, Chloe     FRA  Women   \n",
       "\n",
       "                Event   Medal  \n",
       "5765       Slopestyle  Bronze  \n",
       "5766       Slopestyle    Gold  \n",
       "5767  Snowboard Cross  Silver  \n",
       "5768  Snowboard Cross    Gold  \n",
       "5769  Snowboard Cross  Bronze  "
      ]
     },
     "execution_count": 21,
     "metadata": {},
     "output_type": "execute_result"
    }
   ],
   "source": [
    "games.tail(5)"
   ]
  },
  {
   "cell_type": "markdown",
   "metadata": {
    "hideCode": false,
    "hidePrompt": false
   },
   "source": [
    "### 2) Check for Null Values\n",
    "- If you find null values in the dataset, print 'True'\n",
    "- Otherwise, print 'False'"
   ]
  },
  {
   "cell_type": "code",
   "execution_count": 22,
   "metadata": {
    "hideCode": false,
    "hidePrompt": false
   },
   "outputs": [
    {
     "name": "stdout",
     "output_type": "stream",
     "text": [
      "False\n"
     ]
    }
   ],
   "source": [
    "# Your Code Here\n",
    "\n",
    "nul = games.isnull()\n",
    "if 'True' in nul:\n",
    "    print ('True')\n",
    "else:\n",
    "    print ('False')"
   ]
  },
  {
   "cell_type": "code",
   "execution_count": 23,
   "metadata": {},
   "outputs": [
    {
     "data": {
      "text/html": [
       "<div>\n",
       "<style scoped>\n",
       "    .dataframe tbody tr th:only-of-type {\n",
       "        vertical-align: middle;\n",
       "    }\n",
       "\n",
       "    .dataframe tbody tr th {\n",
       "        vertical-align: top;\n",
       "    }\n",
       "\n",
       "    .dataframe thead th {\n",
       "        text-align: right;\n",
       "    }\n",
       "</style>\n",
       "<table border=\"1\" class=\"dataframe\">\n",
       "  <thead>\n",
       "    <tr style=\"text-align: right;\">\n",
       "      <th></th>\n",
       "      <th>Year</th>\n",
       "      <th>City</th>\n",
       "      <th>Sport</th>\n",
       "      <th>Discipline</th>\n",
       "      <th>Athlete</th>\n",
       "      <th>Country</th>\n",
       "      <th>Gender</th>\n",
       "      <th>Event</th>\n",
       "      <th>Medal</th>\n",
       "    </tr>\n",
       "  </thead>\n",
       "  <tbody>\n",
       "    <tr>\n",
       "      <td>0</td>\n",
       "      <td>False</td>\n",
       "      <td>False</td>\n",
       "      <td>False</td>\n",
       "      <td>False</td>\n",
       "      <td>False</td>\n",
       "      <td>False</td>\n",
       "      <td>False</td>\n",
       "      <td>False</td>\n",
       "      <td>False</td>\n",
       "    </tr>\n",
       "    <tr>\n",
       "      <td>1</td>\n",
       "      <td>False</td>\n",
       "      <td>False</td>\n",
       "      <td>False</td>\n",
       "      <td>False</td>\n",
       "      <td>False</td>\n",
       "      <td>False</td>\n",
       "      <td>False</td>\n",
       "      <td>False</td>\n",
       "      <td>False</td>\n",
       "    </tr>\n",
       "    <tr>\n",
       "      <td>2</td>\n",
       "      <td>False</td>\n",
       "      <td>False</td>\n",
       "      <td>False</td>\n",
       "      <td>False</td>\n",
       "      <td>False</td>\n",
       "      <td>False</td>\n",
       "      <td>False</td>\n",
       "      <td>False</td>\n",
       "      <td>False</td>\n",
       "    </tr>\n",
       "    <tr>\n",
       "      <td>3</td>\n",
       "      <td>False</td>\n",
       "      <td>False</td>\n",
       "      <td>False</td>\n",
       "      <td>False</td>\n",
       "      <td>False</td>\n",
       "      <td>False</td>\n",
       "      <td>False</td>\n",
       "      <td>False</td>\n",
       "      <td>False</td>\n",
       "    </tr>\n",
       "    <tr>\n",
       "      <td>4</td>\n",
       "      <td>False</td>\n",
       "      <td>False</td>\n",
       "      <td>False</td>\n",
       "      <td>False</td>\n",
       "      <td>False</td>\n",
       "      <td>False</td>\n",
       "      <td>False</td>\n",
       "      <td>False</td>\n",
       "      <td>False</td>\n",
       "    </tr>\n",
       "    <tr>\n",
       "      <td>...</td>\n",
       "      <td>...</td>\n",
       "      <td>...</td>\n",
       "      <td>...</td>\n",
       "      <td>...</td>\n",
       "      <td>...</td>\n",
       "      <td>...</td>\n",
       "      <td>...</td>\n",
       "      <td>...</td>\n",
       "      <td>...</td>\n",
       "    </tr>\n",
       "    <tr>\n",
       "      <td>5765</td>\n",
       "      <td>False</td>\n",
       "      <td>False</td>\n",
       "      <td>False</td>\n",
       "      <td>False</td>\n",
       "      <td>False</td>\n",
       "      <td>False</td>\n",
       "      <td>False</td>\n",
       "      <td>False</td>\n",
       "      <td>False</td>\n",
       "    </tr>\n",
       "    <tr>\n",
       "      <td>5766</td>\n",
       "      <td>False</td>\n",
       "      <td>False</td>\n",
       "      <td>False</td>\n",
       "      <td>False</td>\n",
       "      <td>False</td>\n",
       "      <td>False</td>\n",
       "      <td>False</td>\n",
       "      <td>False</td>\n",
       "      <td>False</td>\n",
       "    </tr>\n",
       "    <tr>\n",
       "      <td>5767</td>\n",
       "      <td>False</td>\n",
       "      <td>False</td>\n",
       "      <td>False</td>\n",
       "      <td>False</td>\n",
       "      <td>False</td>\n",
       "      <td>False</td>\n",
       "      <td>False</td>\n",
       "      <td>False</td>\n",
       "      <td>False</td>\n",
       "    </tr>\n",
       "    <tr>\n",
       "      <td>5768</td>\n",
       "      <td>False</td>\n",
       "      <td>False</td>\n",
       "      <td>False</td>\n",
       "      <td>False</td>\n",
       "      <td>False</td>\n",
       "      <td>False</td>\n",
       "      <td>False</td>\n",
       "      <td>False</td>\n",
       "      <td>False</td>\n",
       "    </tr>\n",
       "    <tr>\n",
       "      <td>5769</td>\n",
       "      <td>False</td>\n",
       "      <td>False</td>\n",
       "      <td>False</td>\n",
       "      <td>False</td>\n",
       "      <td>False</td>\n",
       "      <td>False</td>\n",
       "      <td>False</td>\n",
       "      <td>False</td>\n",
       "      <td>False</td>\n",
       "    </tr>\n",
       "  </tbody>\n",
       "</table>\n",
       "<p>5770 rows × 9 columns</p>\n",
       "</div>"
      ],
      "text/plain": [
       "       Year   City  Sport  Discipline  Athlete  Country  Gender  Event  Medal\n",
       "0     False  False  False       False    False    False   False  False  False\n",
       "1     False  False  False       False    False    False   False  False  False\n",
       "2     False  False  False       False    False    False   False  False  False\n",
       "3     False  False  False       False    False    False   False  False  False\n",
       "4     False  False  False       False    False    False   False  False  False\n",
       "...     ...    ...    ...         ...      ...      ...     ...    ...    ...\n",
       "5765  False  False  False       False    False    False   False  False  False\n",
       "5766  False  False  False       False    False    False   False  False  False\n",
       "5767  False  False  False       False    False    False   False  False  False\n",
       "5768  False  False  False       False    False    False   False  False  False\n",
       "5769  False  False  False       False    False    False   False  False  False\n",
       "\n",
       "[5770 rows x 9 columns]"
      ]
     },
     "execution_count": 23,
     "metadata": {},
     "output_type": "execute_result"
    }
   ],
   "source": [
    "nul"
   ]
  },
  {
   "cell_type": "markdown",
   "metadata": {
    "hideCode": false,
    "hidePrompt": false
   },
   "source": [
    "### 3) Data Summary  \n",
    "- Use describe() to display a summary table of your data.  \n",
    "- Use either the 'include' parameter or 'exclude' parameter so that the table only includes the categorical columns (meaning it does not include the 'Year' column, which pandas interprets as numerical rather than categorical and is not particularly meaningful for our purposes).  I recommend reading the pandas documentation for describe()."
   ]
  },
  {
   "cell_type": "code",
   "execution_count": 24,
   "metadata": {
    "hideCode": false,
    "hidePrompt": false
   },
   "outputs": [
    {
     "data": {
      "text/html": [
       "<div>\n",
       "<style scoped>\n",
       "    .dataframe tbody tr th:only-of-type {\n",
       "        vertical-align: middle;\n",
       "    }\n",
       "\n",
       "    .dataframe tbody tr th {\n",
       "        vertical-align: top;\n",
       "    }\n",
       "\n",
       "    .dataframe thead th {\n",
       "        text-align: right;\n",
       "    }\n",
       "</style>\n",
       "<table border=\"1\" class=\"dataframe\">\n",
       "  <thead>\n",
       "    <tr style=\"text-align: right;\">\n",
       "      <th></th>\n",
       "      <th>City</th>\n",
       "      <th>Sport</th>\n",
       "      <th>Discipline</th>\n",
       "      <th>Athlete</th>\n",
       "      <th>Country</th>\n",
       "      <th>Gender</th>\n",
       "      <th>Event</th>\n",
       "      <th>Medal</th>\n",
       "    </tr>\n",
       "  </thead>\n",
       "  <tbody>\n",
       "    <tr>\n",
       "      <td>count</td>\n",
       "      <td>5770</td>\n",
       "      <td>5770</td>\n",
       "      <td>5770</td>\n",
       "      <td>5770</td>\n",
       "      <td>5770</td>\n",
       "      <td>5770</td>\n",
       "      <td>5770</td>\n",
       "      <td>5770</td>\n",
       "    </tr>\n",
       "    <tr>\n",
       "      <td>unique</td>\n",
       "      <td>19</td>\n",
       "      <td>7</td>\n",
       "      <td>15</td>\n",
       "      <td>3761</td>\n",
       "      <td>45</td>\n",
       "      <td>2</td>\n",
       "      <td>83</td>\n",
       "      <td>3</td>\n",
       "    </tr>\n",
       "    <tr>\n",
       "      <td>top</td>\n",
       "      <td>Sochi</td>\n",
       "      <td>Skiing</td>\n",
       "      <td>Ice Hockey</td>\n",
       "      <td>BJOERNDALEN, Ole Einar</td>\n",
       "      <td>USA</td>\n",
       "      <td>Men</td>\n",
       "      <td>Ice Hockey</td>\n",
       "      <td>Silver</td>\n",
       "    </tr>\n",
       "    <tr>\n",
       "      <td>freq</td>\n",
       "      <td>612</td>\n",
       "      <td>1781</td>\n",
       "      <td>1536</td>\n",
       "      <td>13</td>\n",
       "      <td>653</td>\n",
       "      <td>3944</td>\n",
       "      <td>1536</td>\n",
       "      <td>1930</td>\n",
       "    </tr>\n",
       "  </tbody>\n",
       "</table>\n",
       "</div>"
      ],
      "text/plain": [
       "         City   Sport  Discipline                 Athlete Country Gender  \\\n",
       "count    5770    5770        5770                    5770    5770   5770   \n",
       "unique     19       7          15                    3761      45      2   \n",
       "top     Sochi  Skiing  Ice Hockey  BJOERNDALEN, Ole Einar     USA    Men   \n",
       "freq      612    1781        1536                      13     653   3944   \n",
       "\n",
       "             Event   Medal  \n",
       "count         5770    5770  \n",
       "unique          83       3  \n",
       "top     Ice Hockey  Silver  \n",
       "freq          1536    1930  "
      ]
     },
     "execution_count": 24,
     "metadata": {},
     "output_type": "execute_result"
    }
   ],
   "source": [
    "# Your Code Here\n",
    "games.describe(exclude=[np.number])"
   ]
  },
  {
   "cell_type": "markdown",
   "metadata": {
    "hideCode": false,
    "hidePrompt": false
   },
   "source": [
    "### 4) Bar Chart - Number of Medals Per Country\n",
    "Use the plotly library offline or cufflinks offline to create a bar chart displaying the number of medals per country.  (Country code on the x axis and number of medals on the y axis)"
   ]
  },
  {
   "cell_type": "code",
   "execution_count": 26,
   "metadata": {},
   "outputs": [
    {
     "data": {
      "text/html": [
       "        <script type=\"text/javascript\">\n",
       "        window.PlotlyConfig = {MathJaxConfig: 'local'};\n",
       "        if (window.MathJax) {MathJax.Hub.Config({SVG: {font: \"STIX-Web\"}});}\n",
       "        if (typeof require !== 'undefined') {\n",
       "        require.undef(\"plotly\");\n",
       "        requirejs.config({\n",
       "            paths: {\n",
       "                'plotly': ['https://cdn.plot.ly/plotly-latest.min']\n",
       "            }\n",
       "        });\n",
       "        require(['plotly'], function(Plotly) {\n",
       "            window._Plotly = Plotly;\n",
       "        });\n",
       "        }\n",
       "        </script>\n",
       "        "
      ]
     },
     "metadata": {},
     "output_type": "display_data"
    },
    {
     "data": {
      "application/vnd.plotly.v1+json": {
       "config": {
        "linkText": "Export to plot.ly",
        "plotlyServerURL": "https://plot.ly",
        "showLink": true
       },
       "data": [
        {
         "marker": {
          "color": "rgba(255, 153, 51, 0.6)",
          "line": {
           "color": "rgba(255, 153, 51, 1.0)",
           "width": 1
          }
         },
         "name": "Country",
         "orientation": "v",
         "text": "",
         "type": "bar",
         "x": [
          "USA",
          "CAN",
          "NOR",
          "URS",
          "FIN",
          "SWE",
          "GER",
          "SUI",
          "AUT",
          "RUS",
          "ITA",
          "GDR",
          "TCH",
          "FRA",
          "NED",
          "FRG",
          "KOR",
          "CHN",
          "GBR",
          "CZE",
          "JPN",
          "EUN",
          "POL",
          "EUA",
          "SLO",
          "BLR",
          "LAT",
          "AUS",
          "BEL",
          "HUN",
          "UKR",
          "CRO",
          "LIE",
          "YUG",
          "EST",
          "KAZ",
          "BUL",
          "DEN",
          "SVK",
          "PRK",
          "ESP",
          "ROU",
          "LUX",
          "UZB",
          "NZL"
         ],
         "y": [
          653,
          625,
          457,
          440,
          434,
          433,
          360,
          285,
          280,
          263,
          192,
          162,
          158,
          152,
          122,
          94,
          87,
          82,
          79,
          75,
          63,
          60,
          27,
          21,
          18,
          15,
          15,
          15,
          13,
          12,
          11,
          11,
          9,
          7,
          7,
          7,
          6,
          5,
          5,
          2,
          2,
          2,
          2,
          1,
          1
         ]
        }
       ],
       "layout": {
        "legend": {
         "bgcolor": "#F5F6F9",
         "font": {
          "color": "#4D5663"
         }
        },
        "paper_bgcolor": "#F5F6F9",
        "plot_bgcolor": "#F5F6F9",
        "template": {
         "data": {
          "bar": [
           {
            "error_x": {
             "color": "#2a3f5f"
            },
            "error_y": {
             "color": "#2a3f5f"
            },
            "marker": {
             "line": {
              "color": "#E5ECF6",
              "width": 0.5
             }
            },
            "type": "bar"
           }
          ],
          "barpolar": [
           {
            "marker": {
             "line": {
              "color": "#E5ECF6",
              "width": 0.5
             }
            },
            "type": "barpolar"
           }
          ],
          "carpet": [
           {
            "aaxis": {
             "endlinecolor": "#2a3f5f",
             "gridcolor": "white",
             "linecolor": "white",
             "minorgridcolor": "white",
             "startlinecolor": "#2a3f5f"
            },
            "baxis": {
             "endlinecolor": "#2a3f5f",
             "gridcolor": "white",
             "linecolor": "white",
             "minorgridcolor": "white",
             "startlinecolor": "#2a3f5f"
            },
            "type": "carpet"
           }
          ],
          "choropleth": [
           {
            "colorbar": {
             "outlinewidth": 0,
             "ticks": ""
            },
            "type": "choropleth"
           }
          ],
          "contour": [
           {
            "colorbar": {
             "outlinewidth": 0,
             "ticks": ""
            },
            "colorscale": [
             [
              0,
              "#0d0887"
             ],
             [
              0.1111111111111111,
              "#46039f"
             ],
             [
              0.2222222222222222,
              "#7201a8"
             ],
             [
              0.3333333333333333,
              "#9c179e"
             ],
             [
              0.4444444444444444,
              "#bd3786"
             ],
             [
              0.5555555555555556,
              "#d8576b"
             ],
             [
              0.6666666666666666,
              "#ed7953"
             ],
             [
              0.7777777777777778,
              "#fb9f3a"
             ],
             [
              0.8888888888888888,
              "#fdca26"
             ],
             [
              1,
              "#f0f921"
             ]
            ],
            "type": "contour"
           }
          ],
          "contourcarpet": [
           {
            "colorbar": {
             "outlinewidth": 0,
             "ticks": ""
            },
            "type": "contourcarpet"
           }
          ],
          "heatmap": [
           {
            "colorbar": {
             "outlinewidth": 0,
             "ticks": ""
            },
            "colorscale": [
             [
              0,
              "#0d0887"
             ],
             [
              0.1111111111111111,
              "#46039f"
             ],
             [
              0.2222222222222222,
              "#7201a8"
             ],
             [
              0.3333333333333333,
              "#9c179e"
             ],
             [
              0.4444444444444444,
              "#bd3786"
             ],
             [
              0.5555555555555556,
              "#d8576b"
             ],
             [
              0.6666666666666666,
              "#ed7953"
             ],
             [
              0.7777777777777778,
              "#fb9f3a"
             ],
             [
              0.8888888888888888,
              "#fdca26"
             ],
             [
              1,
              "#f0f921"
             ]
            ],
            "type": "heatmap"
           }
          ],
          "heatmapgl": [
           {
            "colorbar": {
             "outlinewidth": 0,
             "ticks": ""
            },
            "colorscale": [
             [
              0,
              "#0d0887"
             ],
             [
              0.1111111111111111,
              "#46039f"
             ],
             [
              0.2222222222222222,
              "#7201a8"
             ],
             [
              0.3333333333333333,
              "#9c179e"
             ],
             [
              0.4444444444444444,
              "#bd3786"
             ],
             [
              0.5555555555555556,
              "#d8576b"
             ],
             [
              0.6666666666666666,
              "#ed7953"
             ],
             [
              0.7777777777777778,
              "#fb9f3a"
             ],
             [
              0.8888888888888888,
              "#fdca26"
             ],
             [
              1,
              "#f0f921"
             ]
            ],
            "type": "heatmapgl"
           }
          ],
          "histogram": [
           {
            "marker": {
             "colorbar": {
              "outlinewidth": 0,
              "ticks": ""
             }
            },
            "type": "histogram"
           }
          ],
          "histogram2d": [
           {
            "colorbar": {
             "outlinewidth": 0,
             "ticks": ""
            },
            "colorscale": [
             [
              0,
              "#0d0887"
             ],
             [
              0.1111111111111111,
              "#46039f"
             ],
             [
              0.2222222222222222,
              "#7201a8"
             ],
             [
              0.3333333333333333,
              "#9c179e"
             ],
             [
              0.4444444444444444,
              "#bd3786"
             ],
             [
              0.5555555555555556,
              "#d8576b"
             ],
             [
              0.6666666666666666,
              "#ed7953"
             ],
             [
              0.7777777777777778,
              "#fb9f3a"
             ],
             [
              0.8888888888888888,
              "#fdca26"
             ],
             [
              1,
              "#f0f921"
             ]
            ],
            "type": "histogram2d"
           }
          ],
          "histogram2dcontour": [
           {
            "colorbar": {
             "outlinewidth": 0,
             "ticks": ""
            },
            "colorscale": [
             [
              0,
              "#0d0887"
             ],
             [
              0.1111111111111111,
              "#46039f"
             ],
             [
              0.2222222222222222,
              "#7201a8"
             ],
             [
              0.3333333333333333,
              "#9c179e"
             ],
             [
              0.4444444444444444,
              "#bd3786"
             ],
             [
              0.5555555555555556,
              "#d8576b"
             ],
             [
              0.6666666666666666,
              "#ed7953"
             ],
             [
              0.7777777777777778,
              "#fb9f3a"
             ],
             [
              0.8888888888888888,
              "#fdca26"
             ],
             [
              1,
              "#f0f921"
             ]
            ],
            "type": "histogram2dcontour"
           }
          ],
          "mesh3d": [
           {
            "colorbar": {
             "outlinewidth": 0,
             "ticks": ""
            },
            "type": "mesh3d"
           }
          ],
          "parcoords": [
           {
            "line": {
             "colorbar": {
              "outlinewidth": 0,
              "ticks": ""
             }
            },
            "type": "parcoords"
           }
          ],
          "pie": [
           {
            "automargin": true,
            "type": "pie"
           }
          ],
          "scatter": [
           {
            "marker": {
             "colorbar": {
              "outlinewidth": 0,
              "ticks": ""
             }
            },
            "type": "scatter"
           }
          ],
          "scatter3d": [
           {
            "line": {
             "colorbar": {
              "outlinewidth": 0,
              "ticks": ""
             }
            },
            "marker": {
             "colorbar": {
              "outlinewidth": 0,
              "ticks": ""
             }
            },
            "type": "scatter3d"
           }
          ],
          "scattercarpet": [
           {
            "marker": {
             "colorbar": {
              "outlinewidth": 0,
              "ticks": ""
             }
            },
            "type": "scattercarpet"
           }
          ],
          "scattergeo": [
           {
            "marker": {
             "colorbar": {
              "outlinewidth": 0,
              "ticks": ""
             }
            },
            "type": "scattergeo"
           }
          ],
          "scattergl": [
           {
            "marker": {
             "colorbar": {
              "outlinewidth": 0,
              "ticks": ""
             }
            },
            "type": "scattergl"
           }
          ],
          "scattermapbox": [
           {
            "marker": {
             "colorbar": {
              "outlinewidth": 0,
              "ticks": ""
             }
            },
            "type": "scattermapbox"
           }
          ],
          "scatterpolar": [
           {
            "marker": {
             "colorbar": {
              "outlinewidth": 0,
              "ticks": ""
             }
            },
            "type": "scatterpolar"
           }
          ],
          "scatterpolargl": [
           {
            "marker": {
             "colorbar": {
              "outlinewidth": 0,
              "ticks": ""
             }
            },
            "type": "scatterpolargl"
           }
          ],
          "scatterternary": [
           {
            "marker": {
             "colorbar": {
              "outlinewidth": 0,
              "ticks": ""
             }
            },
            "type": "scatterternary"
           }
          ],
          "surface": [
           {
            "colorbar": {
             "outlinewidth": 0,
             "ticks": ""
            },
            "colorscale": [
             [
              0,
              "#0d0887"
             ],
             [
              0.1111111111111111,
              "#46039f"
             ],
             [
              0.2222222222222222,
              "#7201a8"
             ],
             [
              0.3333333333333333,
              "#9c179e"
             ],
             [
              0.4444444444444444,
              "#bd3786"
             ],
             [
              0.5555555555555556,
              "#d8576b"
             ],
             [
              0.6666666666666666,
              "#ed7953"
             ],
             [
              0.7777777777777778,
              "#fb9f3a"
             ],
             [
              0.8888888888888888,
              "#fdca26"
             ],
             [
              1,
              "#f0f921"
             ]
            ],
            "type": "surface"
           }
          ],
          "table": [
           {
            "cells": {
             "fill": {
              "color": "#EBF0F8"
             },
             "line": {
              "color": "white"
             }
            },
            "header": {
             "fill": {
              "color": "#C8D4E3"
             },
             "line": {
              "color": "white"
             }
            },
            "type": "table"
           }
          ]
         },
         "layout": {
          "annotationdefaults": {
           "arrowcolor": "#2a3f5f",
           "arrowhead": 0,
           "arrowwidth": 1
          },
          "coloraxis": {
           "colorbar": {
            "outlinewidth": 0,
            "ticks": ""
           }
          },
          "colorscale": {
           "diverging": [
            [
             0,
             "#8e0152"
            ],
            [
             0.1,
             "#c51b7d"
            ],
            [
             0.2,
             "#de77ae"
            ],
            [
             0.3,
             "#f1b6da"
            ],
            [
             0.4,
             "#fde0ef"
            ],
            [
             0.5,
             "#f7f7f7"
            ],
            [
             0.6,
             "#e6f5d0"
            ],
            [
             0.7,
             "#b8e186"
            ],
            [
             0.8,
             "#7fbc41"
            ],
            [
             0.9,
             "#4d9221"
            ],
            [
             1,
             "#276419"
            ]
           ],
           "sequential": [
            [
             0,
             "#0d0887"
            ],
            [
             0.1111111111111111,
             "#46039f"
            ],
            [
             0.2222222222222222,
             "#7201a8"
            ],
            [
             0.3333333333333333,
             "#9c179e"
            ],
            [
             0.4444444444444444,
             "#bd3786"
            ],
            [
             0.5555555555555556,
             "#d8576b"
            ],
            [
             0.6666666666666666,
             "#ed7953"
            ],
            [
             0.7777777777777778,
             "#fb9f3a"
            ],
            [
             0.8888888888888888,
             "#fdca26"
            ],
            [
             1,
             "#f0f921"
            ]
           ],
           "sequentialminus": [
            [
             0,
             "#0d0887"
            ],
            [
             0.1111111111111111,
             "#46039f"
            ],
            [
             0.2222222222222222,
             "#7201a8"
            ],
            [
             0.3333333333333333,
             "#9c179e"
            ],
            [
             0.4444444444444444,
             "#bd3786"
            ],
            [
             0.5555555555555556,
             "#d8576b"
            ],
            [
             0.6666666666666666,
             "#ed7953"
            ],
            [
             0.7777777777777778,
             "#fb9f3a"
            ],
            [
             0.8888888888888888,
             "#fdca26"
            ],
            [
             1,
             "#f0f921"
            ]
           ]
          },
          "colorway": [
           "#636efa",
           "#EF553B",
           "#00cc96",
           "#ab63fa",
           "#FFA15A",
           "#19d3f3",
           "#FF6692",
           "#B6E880",
           "#FF97FF",
           "#FECB52"
          ],
          "font": {
           "color": "#2a3f5f"
          },
          "geo": {
           "bgcolor": "white",
           "lakecolor": "white",
           "landcolor": "#E5ECF6",
           "showlakes": true,
           "showland": true,
           "subunitcolor": "white"
          },
          "hoverlabel": {
           "align": "left"
          },
          "hovermode": "closest",
          "mapbox": {
           "style": "light"
          },
          "paper_bgcolor": "white",
          "plot_bgcolor": "#E5ECF6",
          "polar": {
           "angularaxis": {
            "gridcolor": "white",
            "linecolor": "white",
            "ticks": ""
           },
           "bgcolor": "#E5ECF6",
           "radialaxis": {
            "gridcolor": "white",
            "linecolor": "white",
            "ticks": ""
           }
          },
          "scene": {
           "xaxis": {
            "backgroundcolor": "#E5ECF6",
            "gridcolor": "white",
            "gridwidth": 2,
            "linecolor": "white",
            "showbackground": true,
            "ticks": "",
            "zerolinecolor": "white"
           },
           "yaxis": {
            "backgroundcolor": "#E5ECF6",
            "gridcolor": "white",
            "gridwidth": 2,
            "linecolor": "white",
            "showbackground": true,
            "ticks": "",
            "zerolinecolor": "white"
           },
           "zaxis": {
            "backgroundcolor": "#E5ECF6",
            "gridcolor": "white",
            "gridwidth": 2,
            "linecolor": "white",
            "showbackground": true,
            "ticks": "",
            "zerolinecolor": "white"
           }
          },
          "shapedefaults": {
           "line": {
            "color": "#2a3f5f"
           }
          },
          "ternary": {
           "aaxis": {
            "gridcolor": "white",
            "linecolor": "white",
            "ticks": ""
           },
           "baxis": {
            "gridcolor": "white",
            "linecolor": "white",
            "ticks": ""
           },
           "bgcolor": "#E5ECF6",
           "caxis": {
            "gridcolor": "white",
            "linecolor": "white",
            "ticks": ""
           }
          },
          "title": {
           "x": 0.05
          },
          "xaxis": {
           "automargin": true,
           "gridcolor": "white",
           "linecolor": "white",
           "ticks": "",
           "title": {
            "standoff": 15
           },
           "zerolinecolor": "white",
           "zerolinewidth": 2
          },
          "yaxis": {
           "automargin": true,
           "gridcolor": "white",
           "linecolor": "white",
           "ticks": "",
           "title": {
            "standoff": 15
           },
           "zerolinecolor": "white",
           "zerolinewidth": 2
          }
         }
        },
        "title": {
         "font": {
          "color": "#4D5663"
         }
        },
        "xaxis": {
         "gridcolor": "#E1E5ED",
         "showgrid": true,
         "tickfont": {
          "color": "#4D5663"
         },
         "title": {
          "font": {
           "color": "#4D5663"
          },
          "text": ""
         },
         "zerolinecolor": "#E1E5ED"
        },
        "yaxis": {
         "gridcolor": "#E1E5ED",
         "showgrid": true,
         "tickfont": {
          "color": "#4D5663"
         },
         "title": {
          "font": {
           "color": "#4D5663"
          },
          "text": ""
         },
         "zerolinecolor": "#E1E5ED"
        }
       }
      },
      "text/html": [
       "<div>\n",
       "        \n",
       "        \n",
       "            <div id=\"55c1223a-dfdb-469a-b1de-3fa20e638f2c\" class=\"plotly-graph-div\" style=\"height:525px; width:100%;\"></div>\n",
       "            <script type=\"text/javascript\">\n",
       "                require([\"plotly\"], function(Plotly) {\n",
       "                    window.PLOTLYENV=window.PLOTLYENV || {};\n",
       "                    window.PLOTLYENV.BASE_URL='https://plot.ly';\n",
       "                    \n",
       "                if (document.getElementById(\"55c1223a-dfdb-469a-b1de-3fa20e638f2c\")) {\n",
       "                    Plotly.newPlot(\n",
       "                        '55c1223a-dfdb-469a-b1de-3fa20e638f2c',\n",
       "                        [{\"marker\": {\"color\": \"rgba(255, 153, 51, 0.6)\", \"line\": {\"color\": \"rgba(255, 153, 51, 1.0)\", \"width\": 1}}, \"name\": \"Country\", \"orientation\": \"v\", \"text\": \"\", \"type\": \"bar\", \"x\": [\"USA\", \"CAN\", \"NOR\", \"URS\", \"FIN\", \"SWE\", \"GER\", \"SUI\", \"AUT\", \"RUS\", \"ITA\", \"GDR\", \"TCH\", \"FRA\", \"NED\", \"FRG\", \"KOR\", \"CHN\", \"GBR\", \"CZE\", \"JPN\", \"EUN\", \"POL\", \"EUA\", \"SLO\", \"BLR\", \"LAT\", \"AUS\", \"BEL\", \"HUN\", \"UKR\", \"CRO\", \"LIE\", \"YUG\", \"EST\", \"KAZ\", \"BUL\", \"DEN\", \"SVK\", \"PRK\", \"ESP\", \"ROU\", \"LUX\", \"UZB\", \"NZL\"], \"y\": [653, 625, 457, 440, 434, 433, 360, 285, 280, 263, 192, 162, 158, 152, 122, 94, 87, 82, 79, 75, 63, 60, 27, 21, 18, 15, 15, 15, 13, 12, 11, 11, 9, 7, 7, 7, 6, 5, 5, 2, 2, 2, 2, 1, 1]}],\n",
       "                        {\"legend\": {\"bgcolor\": \"#F5F6F9\", \"font\": {\"color\": \"#4D5663\"}}, \"paper_bgcolor\": \"#F5F6F9\", \"plot_bgcolor\": \"#F5F6F9\", \"template\": {\"data\": {\"bar\": [{\"error_x\": {\"color\": \"#2a3f5f\"}, \"error_y\": {\"color\": \"#2a3f5f\"}, \"marker\": {\"line\": {\"color\": \"#E5ECF6\", \"width\": 0.5}}, \"type\": \"bar\"}], \"barpolar\": [{\"marker\": {\"line\": {\"color\": \"#E5ECF6\", \"width\": 0.5}}, \"type\": \"barpolar\"}], \"carpet\": [{\"aaxis\": {\"endlinecolor\": \"#2a3f5f\", \"gridcolor\": \"white\", \"linecolor\": \"white\", \"minorgridcolor\": \"white\", \"startlinecolor\": \"#2a3f5f\"}, \"baxis\": {\"endlinecolor\": \"#2a3f5f\", \"gridcolor\": \"white\", \"linecolor\": \"white\", \"minorgridcolor\": \"white\", \"startlinecolor\": \"#2a3f5f\"}, \"type\": \"carpet\"}], \"choropleth\": [{\"colorbar\": {\"outlinewidth\": 0, \"ticks\": \"\"}, \"type\": \"choropleth\"}], \"contour\": [{\"colorbar\": {\"outlinewidth\": 0, \"ticks\": \"\"}, \"colorscale\": [[0.0, \"#0d0887\"], [0.1111111111111111, \"#46039f\"], [0.2222222222222222, \"#7201a8\"], [0.3333333333333333, \"#9c179e\"], [0.4444444444444444, \"#bd3786\"], [0.5555555555555556, \"#d8576b\"], [0.6666666666666666, \"#ed7953\"], [0.7777777777777778, \"#fb9f3a\"], [0.8888888888888888, \"#fdca26\"], [1.0, \"#f0f921\"]], \"type\": \"contour\"}], \"contourcarpet\": [{\"colorbar\": {\"outlinewidth\": 0, \"ticks\": \"\"}, \"type\": \"contourcarpet\"}], \"heatmap\": [{\"colorbar\": {\"outlinewidth\": 0, \"ticks\": \"\"}, \"colorscale\": [[0.0, \"#0d0887\"], [0.1111111111111111, \"#46039f\"], [0.2222222222222222, \"#7201a8\"], [0.3333333333333333, \"#9c179e\"], [0.4444444444444444, \"#bd3786\"], [0.5555555555555556, \"#d8576b\"], [0.6666666666666666, \"#ed7953\"], [0.7777777777777778, \"#fb9f3a\"], [0.8888888888888888, \"#fdca26\"], [1.0, \"#f0f921\"]], \"type\": \"heatmap\"}], \"heatmapgl\": [{\"colorbar\": {\"outlinewidth\": 0, \"ticks\": \"\"}, \"colorscale\": [[0.0, \"#0d0887\"], [0.1111111111111111, \"#46039f\"], [0.2222222222222222, \"#7201a8\"], [0.3333333333333333, \"#9c179e\"], [0.4444444444444444, \"#bd3786\"], [0.5555555555555556, \"#d8576b\"], [0.6666666666666666, \"#ed7953\"], [0.7777777777777778, \"#fb9f3a\"], [0.8888888888888888, \"#fdca26\"], [1.0, \"#f0f921\"]], \"type\": \"heatmapgl\"}], \"histogram\": [{\"marker\": {\"colorbar\": {\"outlinewidth\": 0, \"ticks\": \"\"}}, \"type\": \"histogram\"}], \"histogram2d\": [{\"colorbar\": {\"outlinewidth\": 0, \"ticks\": \"\"}, \"colorscale\": [[0.0, \"#0d0887\"], [0.1111111111111111, \"#46039f\"], [0.2222222222222222, \"#7201a8\"], [0.3333333333333333, \"#9c179e\"], [0.4444444444444444, \"#bd3786\"], [0.5555555555555556, \"#d8576b\"], [0.6666666666666666, \"#ed7953\"], [0.7777777777777778, \"#fb9f3a\"], [0.8888888888888888, \"#fdca26\"], [1.0, \"#f0f921\"]], \"type\": \"histogram2d\"}], \"histogram2dcontour\": [{\"colorbar\": {\"outlinewidth\": 0, \"ticks\": \"\"}, \"colorscale\": [[0.0, \"#0d0887\"], [0.1111111111111111, \"#46039f\"], [0.2222222222222222, \"#7201a8\"], [0.3333333333333333, \"#9c179e\"], [0.4444444444444444, \"#bd3786\"], [0.5555555555555556, \"#d8576b\"], [0.6666666666666666, \"#ed7953\"], [0.7777777777777778, \"#fb9f3a\"], [0.8888888888888888, \"#fdca26\"], [1.0, \"#f0f921\"]], \"type\": \"histogram2dcontour\"}], \"mesh3d\": [{\"colorbar\": {\"outlinewidth\": 0, \"ticks\": \"\"}, \"type\": \"mesh3d\"}], \"parcoords\": [{\"line\": {\"colorbar\": {\"outlinewidth\": 0, \"ticks\": \"\"}}, \"type\": \"parcoords\"}], \"pie\": [{\"automargin\": true, \"type\": \"pie\"}], \"scatter\": [{\"marker\": {\"colorbar\": {\"outlinewidth\": 0, \"ticks\": \"\"}}, \"type\": \"scatter\"}], \"scatter3d\": [{\"line\": {\"colorbar\": {\"outlinewidth\": 0, \"ticks\": \"\"}}, \"marker\": {\"colorbar\": {\"outlinewidth\": 0, \"ticks\": \"\"}}, \"type\": \"scatter3d\"}], \"scattercarpet\": [{\"marker\": {\"colorbar\": {\"outlinewidth\": 0, \"ticks\": \"\"}}, \"type\": \"scattercarpet\"}], \"scattergeo\": [{\"marker\": {\"colorbar\": {\"outlinewidth\": 0, \"ticks\": \"\"}}, \"type\": \"scattergeo\"}], \"scattergl\": [{\"marker\": {\"colorbar\": {\"outlinewidth\": 0, \"ticks\": \"\"}}, \"type\": \"scattergl\"}], \"scattermapbox\": [{\"marker\": {\"colorbar\": {\"outlinewidth\": 0, \"ticks\": \"\"}}, \"type\": \"scattermapbox\"}], \"scatterpolar\": [{\"marker\": {\"colorbar\": {\"outlinewidth\": 0, \"ticks\": \"\"}}, \"type\": \"scatterpolar\"}], \"scatterpolargl\": [{\"marker\": {\"colorbar\": {\"outlinewidth\": 0, \"ticks\": \"\"}}, \"type\": \"scatterpolargl\"}], \"scatterternary\": [{\"marker\": {\"colorbar\": {\"outlinewidth\": 0, \"ticks\": \"\"}}, \"type\": \"scatterternary\"}], \"surface\": [{\"colorbar\": {\"outlinewidth\": 0, \"ticks\": \"\"}, \"colorscale\": [[0.0, \"#0d0887\"], [0.1111111111111111, \"#46039f\"], [0.2222222222222222, \"#7201a8\"], [0.3333333333333333, \"#9c179e\"], [0.4444444444444444, \"#bd3786\"], [0.5555555555555556, \"#d8576b\"], [0.6666666666666666, \"#ed7953\"], [0.7777777777777778, \"#fb9f3a\"], [0.8888888888888888, \"#fdca26\"], [1.0, \"#f0f921\"]], \"type\": \"surface\"}], \"table\": [{\"cells\": {\"fill\": {\"color\": \"#EBF0F8\"}, \"line\": {\"color\": \"white\"}}, \"header\": {\"fill\": {\"color\": \"#C8D4E3\"}, \"line\": {\"color\": \"white\"}}, \"type\": \"table\"}]}, \"layout\": {\"annotationdefaults\": {\"arrowcolor\": \"#2a3f5f\", \"arrowhead\": 0, \"arrowwidth\": 1}, \"coloraxis\": {\"colorbar\": {\"outlinewidth\": 0, \"ticks\": \"\"}}, \"colorscale\": {\"diverging\": [[0, \"#8e0152\"], [0.1, \"#c51b7d\"], [0.2, \"#de77ae\"], [0.3, \"#f1b6da\"], [0.4, \"#fde0ef\"], [0.5, \"#f7f7f7\"], [0.6, \"#e6f5d0\"], [0.7, \"#b8e186\"], [0.8, \"#7fbc41\"], [0.9, \"#4d9221\"], [1, \"#276419\"]], \"sequential\": [[0.0, \"#0d0887\"], [0.1111111111111111, \"#46039f\"], [0.2222222222222222, \"#7201a8\"], [0.3333333333333333, \"#9c179e\"], [0.4444444444444444, \"#bd3786\"], [0.5555555555555556, \"#d8576b\"], [0.6666666666666666, \"#ed7953\"], [0.7777777777777778, \"#fb9f3a\"], [0.8888888888888888, \"#fdca26\"], [1.0, \"#f0f921\"]], \"sequentialminus\": [[0.0, \"#0d0887\"], [0.1111111111111111, \"#46039f\"], [0.2222222222222222, \"#7201a8\"], [0.3333333333333333, \"#9c179e\"], [0.4444444444444444, \"#bd3786\"], [0.5555555555555556, \"#d8576b\"], [0.6666666666666666, \"#ed7953\"], [0.7777777777777778, \"#fb9f3a\"], [0.8888888888888888, \"#fdca26\"], [1.0, \"#f0f921\"]]}, \"colorway\": [\"#636efa\", \"#EF553B\", \"#00cc96\", \"#ab63fa\", \"#FFA15A\", \"#19d3f3\", \"#FF6692\", \"#B6E880\", \"#FF97FF\", \"#FECB52\"], \"font\": {\"color\": \"#2a3f5f\"}, \"geo\": {\"bgcolor\": \"white\", \"lakecolor\": \"white\", \"landcolor\": \"#E5ECF6\", \"showlakes\": true, \"showland\": true, \"subunitcolor\": \"white\"}, \"hoverlabel\": {\"align\": \"left\"}, \"hovermode\": \"closest\", \"mapbox\": {\"style\": \"light\"}, \"paper_bgcolor\": \"white\", \"plot_bgcolor\": \"#E5ECF6\", \"polar\": {\"angularaxis\": {\"gridcolor\": \"white\", \"linecolor\": \"white\", \"ticks\": \"\"}, \"bgcolor\": \"#E5ECF6\", \"radialaxis\": {\"gridcolor\": \"white\", \"linecolor\": \"white\", \"ticks\": \"\"}}, \"scene\": {\"xaxis\": {\"backgroundcolor\": \"#E5ECF6\", \"gridcolor\": \"white\", \"gridwidth\": 2, \"linecolor\": \"white\", \"showbackground\": true, \"ticks\": \"\", \"zerolinecolor\": \"white\"}, \"yaxis\": {\"backgroundcolor\": \"#E5ECF6\", \"gridcolor\": \"white\", \"gridwidth\": 2, \"linecolor\": \"white\", \"showbackground\": true, \"ticks\": \"\", \"zerolinecolor\": \"white\"}, \"zaxis\": {\"backgroundcolor\": \"#E5ECF6\", \"gridcolor\": \"white\", \"gridwidth\": 2, \"linecolor\": \"white\", \"showbackground\": true, \"ticks\": \"\", \"zerolinecolor\": \"white\"}}, \"shapedefaults\": {\"line\": {\"color\": \"#2a3f5f\"}}, \"ternary\": {\"aaxis\": {\"gridcolor\": \"white\", \"linecolor\": \"white\", \"ticks\": \"\"}, \"baxis\": {\"gridcolor\": \"white\", \"linecolor\": \"white\", \"ticks\": \"\"}, \"bgcolor\": \"#E5ECF6\", \"caxis\": {\"gridcolor\": \"white\", \"linecolor\": \"white\", \"ticks\": \"\"}}, \"title\": {\"x\": 0.05}, \"xaxis\": {\"automargin\": true, \"gridcolor\": \"white\", \"linecolor\": \"white\", \"ticks\": \"\", \"title\": {\"standoff\": 15}, \"zerolinecolor\": \"white\", \"zerolinewidth\": 2}, \"yaxis\": {\"automargin\": true, \"gridcolor\": \"white\", \"linecolor\": \"white\", \"ticks\": \"\", \"title\": {\"standoff\": 15}, \"zerolinecolor\": \"white\", \"zerolinewidth\": 2}}}, \"title\": {\"font\": {\"color\": \"#4D5663\"}}, \"xaxis\": {\"gridcolor\": \"#E1E5ED\", \"showgrid\": true, \"tickfont\": {\"color\": \"#4D5663\"}, \"title\": {\"font\": {\"color\": \"#4D5663\"}, \"text\": \"\"}, \"zerolinecolor\": \"#E1E5ED\"}, \"yaxis\": {\"gridcolor\": \"#E1E5ED\", \"showgrid\": true, \"tickfont\": {\"color\": \"#4D5663\"}, \"title\": {\"font\": {\"color\": \"#4D5663\"}, \"text\": \"\"}, \"zerolinecolor\": \"#E1E5ED\"}},\n",
       "                        {\"showLink\": true, \"linkText\": \"Export to plot.ly\", \"plotlyServerURL\": \"https://plot.ly\", \"responsive\": true}\n",
       "                    ).then(function(){\n",
       "                            \n",
       "var gd = document.getElementById('55c1223a-dfdb-469a-b1de-3fa20e638f2c');\n",
       "var x = new MutationObserver(function (mutations, observer) {{\n",
       "        var display = window.getComputedStyle(gd).display;\n",
       "        if (!display || display === 'none') {{\n",
       "            console.log([gd, 'removed!']);\n",
       "            Plotly.purge(gd);\n",
       "            observer.disconnect();\n",
       "        }}\n",
       "}});\n",
       "\n",
       "// Listen for the removal of the full notebook cells\n",
       "var notebookContainer = gd.closest('#notebook-container');\n",
       "if (notebookContainer) {{\n",
       "    x.observe(notebookContainer, {childList: true});\n",
       "}}\n",
       "\n",
       "// Listen for the clearing of the current output cell\n",
       "var outputEl = gd.closest('.output');\n",
       "if (outputEl) {{\n",
       "    x.observe(outputEl, {childList: true});\n",
       "}}\n",
       "\n",
       "                        })\n",
       "                };\n",
       "                });\n",
       "            </script>\n",
       "        </div>"
      ]
     },
     "metadata": {},
     "output_type": "display_data"
    }
   ],
   "source": [
    "# Your Code Here\n",
    "import chart_studio.plotly as py\n",
    "\n",
    "import cufflinks as cf\n",
    "cf.go_offline()\n",
    "\n",
    "medalCount = games.Country.value_counts()\n",
    "medalCount.iplot(kind='bar')"
   ]
  },
  {
   "cell_type": "markdown",
   "metadata": {},
   "source": [
    "### 5) United States Olympic Medals  \n",
    "- Create a dataframe containing only USA Olympic Medals\n",
    "- Display the **first 10** rows of the dataframe."
   ]
  },
  {
   "cell_type": "code",
   "execution_count": 27,
   "metadata": {},
   "outputs": [
    {
     "data": {
      "text/html": [
       "<div>\n",
       "<style scoped>\n",
       "    .dataframe tbody tr th:only-of-type {\n",
       "        vertical-align: middle;\n",
       "    }\n",
       "\n",
       "    .dataframe tbody tr th {\n",
       "        vertical-align: top;\n",
       "    }\n",
       "\n",
       "    .dataframe thead th {\n",
       "        text-align: right;\n",
       "    }\n",
       "</style>\n",
       "<table border=\"1\" class=\"dataframe\">\n",
       "  <thead>\n",
       "    <tr style=\"text-align: right;\">\n",
       "      <th></th>\n",
       "      <th>Year</th>\n",
       "      <th>City</th>\n",
       "      <th>Sport</th>\n",
       "      <th>Discipline</th>\n",
       "      <th>Athlete</th>\n",
       "      <th>Country</th>\n",
       "      <th>Gender</th>\n",
       "      <th>Event</th>\n",
       "      <th>Medal</th>\n",
       "    </tr>\n",
       "  </thead>\n",
       "  <tbody>\n",
       "    <tr>\n",
       "      <td>68</td>\n",
       "      <td>1924</td>\n",
       "      <td>Chamonix</td>\n",
       "      <td>Ice Hockey</td>\n",
       "      <td>Ice Hockey</td>\n",
       "      <td>ABEL, Clarence John</td>\n",
       "      <td>USA</td>\n",
       "      <td>Men</td>\n",
       "      <td>Ice Hockey</td>\n",
       "      <td>Silver</td>\n",
       "    </tr>\n",
       "    <tr>\n",
       "      <td>69</td>\n",
       "      <td>1924</td>\n",
       "      <td>Chamonix</td>\n",
       "      <td>Ice Hockey</td>\n",
       "      <td>Ice Hockey</td>\n",
       "      <td>DRURY, Herbert L.</td>\n",
       "      <td>USA</td>\n",
       "      <td>Men</td>\n",
       "      <td>Ice Hockey</td>\n",
       "      <td>Silver</td>\n",
       "    </tr>\n",
       "    <tr>\n",
       "      <td>70</td>\n",
       "      <td>1924</td>\n",
       "      <td>Chamonix</td>\n",
       "      <td>Ice Hockey</td>\n",
       "      <td>Ice Hockey</td>\n",
       "      <td>GERAN, N.</td>\n",
       "      <td>USA</td>\n",
       "      <td>Men</td>\n",
       "      <td>Ice Hockey</td>\n",
       "      <td>Silver</td>\n",
       "    </tr>\n",
       "    <tr>\n",
       "      <td>71</td>\n",
       "      <td>1924</td>\n",
       "      <td>Chamonix</td>\n",
       "      <td>Ice Hockey</td>\n",
       "      <td>Ice Hockey</td>\n",
       "      <td>LACROIX, Alphonse</td>\n",
       "      <td>USA</td>\n",
       "      <td>Men</td>\n",
       "      <td>Ice Hockey</td>\n",
       "      <td>Silver</td>\n",
       "    </tr>\n",
       "    <tr>\n",
       "      <td>72</td>\n",
       "      <td>1924</td>\n",
       "      <td>Chamonix</td>\n",
       "      <td>Ice Hockey</td>\n",
       "      <td>Ice Hockey</td>\n",
       "      <td>LANGLEY, John Arthur</td>\n",
       "      <td>USA</td>\n",
       "      <td>Men</td>\n",
       "      <td>Ice Hockey</td>\n",
       "      <td>Silver</td>\n",
       "    </tr>\n",
       "    <tr>\n",
       "      <td>73</td>\n",
       "      <td>1924</td>\n",
       "      <td>Chamonix</td>\n",
       "      <td>Ice Hockey</td>\n",
       "      <td>Ice Hockey</td>\n",
       "      <td>LYONS, John Sharkey</td>\n",
       "      <td>USA</td>\n",
       "      <td>Men</td>\n",
       "      <td>Ice Hockey</td>\n",
       "      <td>Silver</td>\n",
       "    </tr>\n",
       "    <tr>\n",
       "      <td>74</td>\n",
       "      <td>1924</td>\n",
       "      <td>Chamonix</td>\n",
       "      <td>Ice Hockey</td>\n",
       "      <td>Ice Hockey</td>\n",
       "      <td>MAC CARTHY, Justin</td>\n",
       "      <td>USA</td>\n",
       "      <td>Men</td>\n",
       "      <td>Ice Hockey</td>\n",
       "      <td>Silver</td>\n",
       "    </tr>\n",
       "    <tr>\n",
       "      <td>75</td>\n",
       "      <td>1924</td>\n",
       "      <td>Chamonix</td>\n",
       "      <td>Ice Hockey</td>\n",
       "      <td>Ice Hockey</td>\n",
       "      <td>RICE, Willard</td>\n",
       "      <td>USA</td>\n",
       "      <td>Men</td>\n",
       "      <td>Ice Hockey</td>\n",
       "      <td>Silver</td>\n",
       "    </tr>\n",
       "    <tr>\n",
       "      <td>76</td>\n",
       "      <td>1924</td>\n",
       "      <td>Chamonix</td>\n",
       "      <td>Ice Hockey</td>\n",
       "      <td>Ice Hockey</td>\n",
       "      <td>SMALL, Irving Wheeler</td>\n",
       "      <td>USA</td>\n",
       "      <td>Men</td>\n",
       "      <td>Ice Hockey</td>\n",
       "      <td>Silver</td>\n",
       "    </tr>\n",
       "    <tr>\n",
       "      <td>77</td>\n",
       "      <td>1924</td>\n",
       "      <td>Chamonix</td>\n",
       "      <td>Ice Hockey</td>\n",
       "      <td>Ice Hockey</td>\n",
       "      <td>SYNNOTT, Francis Allen</td>\n",
       "      <td>USA</td>\n",
       "      <td>Men</td>\n",
       "      <td>Ice Hockey</td>\n",
       "      <td>Silver</td>\n",
       "    </tr>\n",
       "  </tbody>\n",
       "</table>\n",
       "</div>"
      ],
      "text/plain": [
       "    Year      City       Sport  Discipline                 Athlete Country  \\\n",
       "68  1924  Chamonix  Ice Hockey  Ice Hockey     ABEL, Clarence John     USA   \n",
       "69  1924  Chamonix  Ice Hockey  Ice Hockey       DRURY, Herbert L.     USA   \n",
       "70  1924  Chamonix  Ice Hockey  Ice Hockey               GERAN, N.     USA   \n",
       "71  1924  Chamonix  Ice Hockey  Ice Hockey       LACROIX, Alphonse     USA   \n",
       "72  1924  Chamonix  Ice Hockey  Ice Hockey    LANGLEY, John Arthur     USA   \n",
       "73  1924  Chamonix  Ice Hockey  Ice Hockey     LYONS, John Sharkey     USA   \n",
       "74  1924  Chamonix  Ice Hockey  Ice Hockey      MAC CARTHY, Justin     USA   \n",
       "75  1924  Chamonix  Ice Hockey  Ice Hockey           RICE, Willard     USA   \n",
       "76  1924  Chamonix  Ice Hockey  Ice Hockey   SMALL, Irving Wheeler     USA   \n",
       "77  1924  Chamonix  Ice Hockey  Ice Hockey  SYNNOTT, Francis Allen     USA   \n",
       "\n",
       "   Gender       Event   Medal  \n",
       "68    Men  Ice Hockey  Silver  \n",
       "69    Men  Ice Hockey  Silver  \n",
       "70    Men  Ice Hockey  Silver  \n",
       "71    Men  Ice Hockey  Silver  \n",
       "72    Men  Ice Hockey  Silver  \n",
       "73    Men  Ice Hockey  Silver  \n",
       "74    Men  Ice Hockey  Silver  \n",
       "75    Men  Ice Hockey  Silver  \n",
       "76    Men  Ice Hockey  Silver  \n",
       "77    Men  Ice Hockey  Silver  "
      ]
     },
     "execution_count": 27,
     "metadata": {},
     "output_type": "execute_result"
    }
   ],
   "source": [
    "# Your Code Here\n",
    "USmedals = games[games['Country'] == 'USA']\n",
    "USmedals.head(10)"
   ]
  },
  {
   "cell_type": "markdown",
   "metadata": {},
   "source": [
    "### 6) In which year did the USA win the most gold medals in the Bobsleigh competition?"
   ]
  },
  {
   "cell_type": "code",
   "execution_count": 28,
   "metadata": {},
   "outputs": [
    {
     "data": {
      "text/plain": [
       "1932"
      ]
     },
     "execution_count": 28,
     "metadata": {},
     "output_type": "execute_result"
    }
   ],
   "source": [
    "# Your Code Here\n",
    "bobsleighGold = USmedals.loc[USmedals['Sport'] == 'Bobsleigh'].loc[USmedals['Medal'] == 'Gold']\n",
    "bobsleighGold['Year'].value_counts().idxmax()"
   ]
  },
  {
   "cell_type": "code",
   "execution_count": 29,
   "metadata": {},
   "outputs": [
    {
     "data": {
      "text/plain": [
       "7"
      ]
     },
     "execution_count": 29,
     "metadata": {},
     "output_type": "execute_result"
    }
   ],
   "source": [
    "bobsleighGold['Year'].value_counts().max()"
   ]
  },
  {
   "cell_type": "markdown",
   "metadata": {},
   "source": [
    "In 1932 USA won the most gold medals, total of 7, in the Bobsleigh competition."
   ]
  },
  {
   "cell_type": "markdown",
   "metadata": {},
   "source": [
    "## Problem 3: \n"
   ]
  },
  {
   "cell_type": "markdown",
   "metadata": {},
   "source": [
    "## West Nile Virus Cases\n",
    "By: Phil  \n",
    "\n",
    "Source: https://www.healthdata.gov/dataset/west-nile-virus-cases-2006-present-1  \n",
    "\n",
    "The state of California tracks the incidence of West Nile Virus on a monthly basis, by county. This dataset contains information on the number of cases each month since 2006. You can find more information about this dataset, and the disease, at the link above.\n",
    "\n",
    "Note that there is more than one way to do the exercises in this problem!\n",
    "\n",
    "We'll start with the usual boilerplate:"
   ]
  },
  {
   "cell_type": "code",
   "execution_count": 30,
   "metadata": {},
   "outputs": [],
   "source": [
    "import numpy as np\n",
    "import pandas as pd\n",
    "%matplotlib inline\n",
    "df = pd.read_csv('wnvhumancases.csv')"
   ]
  },
  {
   "cell_type": "markdown",
   "metadata": {},
   "source": [
    "### Loading the dataset  \n",
    "\n",
    "Load the **wnvhumancases.csv** file into a pandas dataframe. How many total rows are there in the dataset?"
   ]
  },
  {
   "cell_type": "code",
   "execution_count": 31,
   "metadata": {},
   "outputs": [
    {
     "data": {
      "text/html": [
       "<div>\n",
       "<style scoped>\n",
       "    .dataframe tbody tr th:only-of-type {\n",
       "        vertical-align: middle;\n",
       "    }\n",
       "\n",
       "    .dataframe tbody tr th {\n",
       "        vertical-align: top;\n",
       "    }\n",
       "\n",
       "    .dataframe thead th {\n",
       "        text-align: right;\n",
       "    }\n",
       "</style>\n",
       "<table border=\"1\" class=\"dataframe\">\n",
       "  <thead>\n",
       "    <tr style=\"text-align: right;\">\n",
       "      <th></th>\n",
       "      <th>Year</th>\n",
       "      <th>Week Reported</th>\n",
       "      <th>County</th>\n",
       "      <th>Positive Cases</th>\n",
       "    </tr>\n",
       "  </thead>\n",
       "  <tbody>\n",
       "    <tr>\n",
       "      <td>0</td>\n",
       "      <td>2006</td>\n",
       "      <td>35</td>\n",
       "      <td>Alameda</td>\n",
       "      <td>1</td>\n",
       "    </tr>\n",
       "    <tr>\n",
       "      <td>1</td>\n",
       "      <td>2006</td>\n",
       "      <td>33</td>\n",
       "      <td>Butte</td>\n",
       "      <td>4</td>\n",
       "    </tr>\n",
       "    <tr>\n",
       "      <td>2</td>\n",
       "      <td>2006</td>\n",
       "      <td>34</td>\n",
       "      <td>Butte</td>\n",
       "      <td>1</td>\n",
       "    </tr>\n",
       "    <tr>\n",
       "      <td>3</td>\n",
       "      <td>2006</td>\n",
       "      <td>35</td>\n",
       "      <td>Butte</td>\n",
       "      <td>10</td>\n",
       "    </tr>\n",
       "    <tr>\n",
       "      <td>4</td>\n",
       "      <td>2006</td>\n",
       "      <td>36</td>\n",
       "      <td>Butte</td>\n",
       "      <td>2</td>\n",
       "    </tr>\n",
       "    <tr>\n",
       "      <td>...</td>\n",
       "      <td>...</td>\n",
       "      <td>...</td>\n",
       "      <td>...</td>\n",
       "      <td>...</td>\n",
       "    </tr>\n",
       "    <tr>\n",
       "      <td>1735</td>\n",
       "      <td>2017</td>\n",
       "      <td>38</td>\n",
       "      <td>Yolo</td>\n",
       "      <td>3</td>\n",
       "    </tr>\n",
       "    <tr>\n",
       "      <td>1736</td>\n",
       "      <td>2017</td>\n",
       "      <td>41</td>\n",
       "      <td>Yolo</td>\n",
       "      <td>1</td>\n",
       "    </tr>\n",
       "    <tr>\n",
       "      <td>1737</td>\n",
       "      <td>2017</td>\n",
       "      <td>45</td>\n",
       "      <td>Yolo</td>\n",
       "      <td>1</td>\n",
       "    </tr>\n",
       "    <tr>\n",
       "      <td>1738</td>\n",
       "      <td>2017</td>\n",
       "      <td>50</td>\n",
       "      <td>Yolo</td>\n",
       "      <td>1</td>\n",
       "    </tr>\n",
       "    <tr>\n",
       "      <td>1739</td>\n",
       "      <td>2017</td>\n",
       "      <td>50</td>\n",
       "      <td>Yuba</td>\n",
       "      <td>1</td>\n",
       "    </tr>\n",
       "  </tbody>\n",
       "</table>\n",
       "<p>1740 rows × 4 columns</p>\n",
       "</div>"
      ],
      "text/plain": [
       "      Year  Week Reported   County  Positive Cases\n",
       "0     2006             35  Alameda               1\n",
       "1     2006             33    Butte               4\n",
       "2     2006             34    Butte               1\n",
       "3     2006             35    Butte              10\n",
       "4     2006             36    Butte               2\n",
       "...    ...            ...      ...             ...\n",
       "1735  2017             38     Yolo               3\n",
       "1736  2017             41     Yolo               1\n",
       "1737  2017             45     Yolo               1\n",
       "1738  2017             50     Yolo               1\n",
       "1739  2017             50     Yuba               1\n",
       "\n",
       "[1740 rows x 4 columns]"
      ]
     },
     "execution_count": 31,
     "metadata": {},
     "output_type": "execute_result"
    }
   ],
   "source": [
    "# your code here\n",
    "df"
   ]
  },
  {
   "cell_type": "code",
   "execution_count": 32,
   "metadata": {},
   "outputs": [
    {
     "name": "stdout",
     "output_type": "stream",
     "text": [
      "The dataset has 1740 rows.\n"
     ]
    }
   ],
   "source": [
    "rows = df.shape[0]\n",
    "print('The dataset has', rows, 'rows.')"
   ]
  },
  {
   "cell_type": "markdown",
   "metadata": {},
   "source": [
    "Display the first 10 rows of the dataset."
   ]
  },
  {
   "cell_type": "code",
   "execution_count": 33,
   "metadata": {},
   "outputs": [
    {
     "data": {
      "text/html": [
       "<div>\n",
       "<style scoped>\n",
       "    .dataframe tbody tr th:only-of-type {\n",
       "        vertical-align: middle;\n",
       "    }\n",
       "\n",
       "    .dataframe tbody tr th {\n",
       "        vertical-align: top;\n",
       "    }\n",
       "\n",
       "    .dataframe thead th {\n",
       "        text-align: right;\n",
       "    }\n",
       "</style>\n",
       "<table border=\"1\" class=\"dataframe\">\n",
       "  <thead>\n",
       "    <tr style=\"text-align: right;\">\n",
       "      <th></th>\n",
       "      <th>Year</th>\n",
       "      <th>Week Reported</th>\n",
       "      <th>County</th>\n",
       "      <th>Positive Cases</th>\n",
       "    </tr>\n",
       "  </thead>\n",
       "  <tbody>\n",
       "    <tr>\n",
       "      <td>0</td>\n",
       "      <td>2006</td>\n",
       "      <td>35</td>\n",
       "      <td>Alameda</td>\n",
       "      <td>1</td>\n",
       "    </tr>\n",
       "    <tr>\n",
       "      <td>1</td>\n",
       "      <td>2006</td>\n",
       "      <td>33</td>\n",
       "      <td>Butte</td>\n",
       "      <td>4</td>\n",
       "    </tr>\n",
       "    <tr>\n",
       "      <td>2</td>\n",
       "      <td>2006</td>\n",
       "      <td>34</td>\n",
       "      <td>Butte</td>\n",
       "      <td>1</td>\n",
       "    </tr>\n",
       "    <tr>\n",
       "      <td>3</td>\n",
       "      <td>2006</td>\n",
       "      <td>35</td>\n",
       "      <td>Butte</td>\n",
       "      <td>10</td>\n",
       "    </tr>\n",
       "    <tr>\n",
       "      <td>4</td>\n",
       "      <td>2006</td>\n",
       "      <td>36</td>\n",
       "      <td>Butte</td>\n",
       "      <td>2</td>\n",
       "    </tr>\n",
       "    <tr>\n",
       "      <td>5</td>\n",
       "      <td>2006</td>\n",
       "      <td>37</td>\n",
       "      <td>Butte</td>\n",
       "      <td>8</td>\n",
       "    </tr>\n",
       "    <tr>\n",
       "      <td>6</td>\n",
       "      <td>2006</td>\n",
       "      <td>38</td>\n",
       "      <td>Butte</td>\n",
       "      <td>3</td>\n",
       "    </tr>\n",
       "    <tr>\n",
       "      <td>7</td>\n",
       "      <td>2006</td>\n",
       "      <td>39</td>\n",
       "      <td>Butte</td>\n",
       "      <td>2</td>\n",
       "    </tr>\n",
       "    <tr>\n",
       "      <td>8</td>\n",
       "      <td>2006</td>\n",
       "      <td>43</td>\n",
       "      <td>Butte</td>\n",
       "      <td>1</td>\n",
       "    </tr>\n",
       "    <tr>\n",
       "      <td>9</td>\n",
       "      <td>2006</td>\n",
       "      <td>31</td>\n",
       "      <td>Colusa</td>\n",
       "      <td>1</td>\n",
       "    </tr>\n",
       "  </tbody>\n",
       "</table>\n",
       "</div>"
      ],
      "text/plain": [
       "   Year  Week Reported   County  Positive Cases\n",
       "0  2006             35  Alameda               1\n",
       "1  2006             33    Butte               4\n",
       "2  2006             34    Butte               1\n",
       "3  2006             35    Butte              10\n",
       "4  2006             36    Butte               2\n",
       "5  2006             37    Butte               8\n",
       "6  2006             38    Butte               3\n",
       "7  2006             39    Butte               2\n",
       "8  2006             43    Butte               1\n",
       "9  2006             31   Colusa               1"
      ]
     },
     "execution_count": 33,
     "metadata": {},
     "output_type": "execute_result"
    }
   ],
   "source": [
    "# your code here\n",
    "df.head(10)"
   ]
  },
  {
   "cell_type": "markdown",
   "metadata": {},
   "source": [
    "### Some simple statistics"
   ]
  },
  {
   "cell_type": "markdown",
   "metadata": {},
   "source": [
    "How many total positive cases of West Nile have been reported over the life of the dataset?"
   ]
  },
  {
   "cell_type": "code",
   "execution_count": 34,
   "metadata": {},
   "outputs": [
    {
     "name": "stdout",
     "output_type": "stream",
     "text": [
      "The dataset has 4897 positive cases.\n"
     ]
    }
   ],
   "source": [
    "# your code here\n",
    "positive  = df['Positive Cases'].sum()\n",
    "print('The dataset has', positive, 'positive cases.')"
   ]
  },
  {
   "cell_type": "markdown",
   "metadata": {},
   "source": [
    "To within 2 decimal places, how many cases would the average county expect to report in any month? (update: week instead of month)"
   ]
  },
  {
   "cell_type": "code",
   "execution_count": 35,
   "metadata": {},
   "outputs": [
    {
     "data": {
      "text/plain": [
       "1.82"
      ]
     },
     "execution_count": 35,
     "metadata": {},
     "output_type": "execute_result"
    }
   ],
   "source": [
    "# your code here\n",
    "\n",
    "# group by the average number of positive cases per week by county. \n",
    "a = df.groupby(['County','Week Reported'])['Positive Cases'].mean()\n",
    "# re-group by the average number of positive cases by week \n",
    "b = a.groupby(['Week Reported']).mean()\n",
    "# take the average week\n",
    "c = b.mean()\n",
    "# round to two decimals\n",
    "round(c, 2)"
   ]
  },
  {
   "cell_type": "markdown",
   "metadata": {},
   "source": [
    "### West Nile Virus over time\n",
    "\n",
    "Add a plot that shows the total number of cases per year, with the year on the x-axis."
   ]
  },
  {
   "cell_type": "code",
   "execution_count": 36,
   "metadata": {},
   "outputs": [
    {
     "data": {
      "text/plain": [
       "<matplotlib.axes._subplots.AxesSubplot at 0x1c1a9dddd0>"
      ]
     },
     "execution_count": 36,
     "metadata": {},
     "output_type": "execute_result"
    },
    {
     "data": {
      "image/png": "[encoded data removed]",
      "text/plain": [
       "<Figure size 432x288 with 1 Axes>"
      ]
     },
     "metadata": {
      "needs_background": "light"
     },
     "output_type": "display_data"
    }
   ],
   "source": [
    "# your code here\n",
    "yoy = df.groupby(['Year'])['Positive Cases'].sum()\n",
    "yoy.plot(kind=\"bar\")"
   ]
  },
  {
   "cell_type": "markdown",
   "metadata": {},
   "source": [
    "It is clear from the graph which year had the highest total cases -- and also, that after a steep upward trajectory in the early years of the decade, the present trend appears to be down.\n",
    "\n",
    "What about the trend during the average year? Add a plot that shows the total number of cases of West Nile over the course of the year, combining the counts for all years of the dataset. (Hint: the values on the x-axis should be weeks, and your graph should be roughly bell-shaped with a peak between 350 and 400."
   ]
  },
  {
   "cell_type": "code",
   "execution_count": 37,
   "metadata": {},
   "outputs": [
    {
     "data": {
      "text/plain": [
       "<matplotlib.axes._subplots.AxesSubplot at 0x1c1aa97d10>"
      ]
     },
     "execution_count": 37,
     "metadata": {},
     "output_type": "execute_result"
    },
    {
     "data": {
      "image/png": "[encoded data removed]",
      "text/plain": [
       "<Figure size 432x288 with 1 Axes>"
      ]
     },
     "metadata": {
      "needs_background": "light"
     },
     "output_type": "display_data"
    }
   ],
   "source": [
    "# your code here\n",
    "# group by the sum of positive cases per week by year. \n",
    "wow = df.groupby(['Year','Week Reported'])['Positive Cases'].sum()\n",
    "# re-group by the sum of positive cases per week. \n",
    "avg_trend = wow.groupby(['Week Reported']).sum()\n",
    "avg_trend.plot()"
   ]
  },
  {
   "cell_type": "markdown",
   "metadata": {},
   "source": [
    "Note which month appears to be the peak for cases of West Nile -- this most likely agrees with what you recall hearing on typical news reports throughout the year."
   ]
  },
  {
   "cell_type": "markdown",
   "metadata": {},
   "source": [
    "## Problem 4: "
   ]
  },
  {
   "cell_type": "markdown",
   "metadata": {},
   "source": [
    "## Let's go to the movies!\n",
    "\n",
    "Throughout the course of this problem, we're going to use the `pandas` library to explore a film dataset. Don't worry — we won't have to scrape any data — but we will be exploring the `pandas.DataFrame` data structure. The dataset provided contains all of the major movies that were released theatrically between 2005 and 2010 in the United States.\n",
    "\n",
    "**NOTE:** Executing given cells in this problem more than once _may_ break the problem. If you encounter errors (that are not supposed to be there) please restart your kernel and try again. If this doesn't solve the problem, let us know on Piazza!"
   ]
  },
  {
   "cell_type": "code",
   "execution_count": 40,
   "metadata": {},
   "outputs": [],
   "source": [
    "import pandas as pd"
   ]
  },
  {
   "cell_type": "markdown",
   "metadata": {},
   "source": [
    "First, let's make sure that we've imported `pandas`. The convention is to **`import pandas as pd`** so as to have an abbreviation for the library name."
   ]
  },
  {
   "cell_type": "markdown",
   "metadata": {},
   "source": [
    "Let's now import our data! It turns out that `pandas` has a really handy method called `read_csv()` which allows us to import any CSV file into a DataFrame. Note that `pandas` automatically assumes that the first row of our CSV is our table headers. However, we have to specify with the `index_col` parameter that the zero-th column is our index — otherwise, it will get read in as an extra column of data and be redundant with the default index created by the DataFrame."
   ]
  },
  {
   "cell_type": "code",
   "execution_count": 41,
   "metadata": {},
   "outputs": [],
   "source": [
    "movies = pd.read_csv('movies.csv', index_col=0)"
   ]
  },
  {
   "cell_type": "markdown",
   "metadata": {},
   "source": [
    "We use the `pd.DataFrame.head()` method to look at the first five rows of our DataFrame. (Note that we can use the corresponding `tail()` method to look at the last five rows. "
   ]
  },
  {
   "cell_type": "code",
   "execution_count": 42,
   "metadata": {},
   "outputs": [
    {
     "data": {
      "text/html": [
       "<div>\n",
       "<style scoped>\n",
       "    .dataframe tbody tr th:only-of-type {\n",
       "        vertical-align: middle;\n",
       "    }\n",
       "\n",
       "    .dataframe tbody tr th {\n",
       "        vertical-align: top;\n",
       "    }\n",
       "\n",
       "    .dataframe thead th {\n",
       "        text-align: right;\n",
       "    }\n",
       "</style>\n",
       "<table border=\"1\" class=\"dataframe\">\n",
       "  <thead>\n",
       "    <tr style=\"text-align: right;\">\n",
       "      <th></th>\n",
       "      <th>title</th>\n",
       "      <th>runtime</th>\n",
       "      <th>mpaa_rating</th>\n",
       "      <th>theatrical_release</th>\n",
       "      <th>director</th>\n",
       "      <th>actor</th>\n",
       "      <th>plot</th>\n",
       "    </tr>\n",
       "  </thead>\n",
       "  <tbody>\n",
       "    <tr>\n",
       "      <td>0</td>\n",
       "      <td>127 Hours</td>\n",
       "      <td>94</td>\n",
       "      <td>R</td>\n",
       "      <td>2010-11-05</td>\n",
       "      <td>Danny Boyle</td>\n",
       "      <td>James Franco, Amber Tamblyn, Kate Mara, Kate B...</td>\n",
       "      <td>An adventurous mountain climber becomes trappe...</td>\n",
       "    </tr>\n",
       "    <tr>\n",
       "      <td>1</td>\n",
       "      <td>8: The Mormon Proposition</td>\n",
       "      <td>78</td>\n",
       "      <td>R</td>\n",
       "      <td>2010-06-18</td>\n",
       "      <td>Reed Cowan, Steven Greenstreet</td>\n",
       "      <td>Dustin Lance Black, Gavin Newsom, Hal Sparks, ...</td>\n",
       "      <td>In 2009, thousands of LGBT citizens are denied...</td>\n",
       "    </tr>\n",
       "    <tr>\n",
       "      <td>2</td>\n",
       "      <td>A Nightmare on Elm Street</td>\n",
       "      <td>96</td>\n",
       "      <td>R</td>\n",
       "      <td>2010-04-30</td>\n",
       "      <td>Samuel Bayer</td>\n",
       "      <td>Rooney Mara, Kyle Gallner, Thomas Dekker, Jack...</td>\n",
       "      <td>Several people are hunted by a cruel serial ki...</td>\n",
       "    </tr>\n",
       "    <tr>\n",
       "      <td>3</td>\n",
       "      <td>A Prophet (Un prophete)</td>\n",
       "      <td>155</td>\n",
       "      <td>R</td>\n",
       "      <td>2010-02-26</td>\n",
       "      <td>Jacques Audiard</td>\n",
       "      <td>Tahar Rahim, Niels Arestrup, Adel Bencherif, R...</td>\n",
       "      <td>Nineteen year-old Franco-Arab Malik El Djebena...</td>\n",
       "    </tr>\n",
       "    <tr>\n",
       "      <td>4</td>\n",
       "      <td>Alice in Wonderland</td>\n",
       "      <td>108</td>\n",
       "      <td>PG</td>\n",
       "      <td>2010-03-05</td>\n",
       "      <td>Tim Burton</td>\n",
       "      <td>Johnny Depp, Mia Wasikowska, Helena Bonham Car...</td>\n",
       "      <td>Alice, an unpretentious and individual 19-year...</td>\n",
       "    </tr>\n",
       "  </tbody>\n",
       "</table>\n",
       "</div>"
      ],
      "text/plain": [
       "                       title  runtime mpaa_rating theatrical_release  \\\n",
       "0                  127 Hours       94           R         2010-11-05   \n",
       "1  8: The Mormon Proposition       78           R         2010-06-18   \n",
       "2  A Nightmare on Elm Street       96           R         2010-04-30   \n",
       "3    A Prophet (Un prophete)      155           R         2010-02-26   \n",
       "4        Alice in Wonderland      108          PG         2010-03-05   \n",
       "\n",
       "                         director  \\\n",
       "0                     Danny Boyle   \n",
       "1  Reed Cowan, Steven Greenstreet   \n",
       "2                    Samuel Bayer   \n",
       "3                 Jacques Audiard   \n",
       "4                      Tim Burton   \n",
       "\n",
       "                                               actor  \\\n",
       "0  James Franco, Amber Tamblyn, Kate Mara, Kate B...   \n",
       "1  Dustin Lance Black, Gavin Newsom, Hal Sparks, ...   \n",
       "2  Rooney Mara, Kyle Gallner, Thomas Dekker, Jack...   \n",
       "3  Tahar Rahim, Niels Arestrup, Adel Bencherif, R...   \n",
       "4  Johnny Depp, Mia Wasikowska, Helena Bonham Car...   \n",
       "\n",
       "                                                plot  \n",
       "0  An adventurous mountain climber becomes trappe...  \n",
       "1  In 2009, thousands of LGBT citizens are denied...  \n",
       "2  Several people are hunted by a cruel serial ki...  \n",
       "3  Nineteen year-old Franco-Arab Malik El Djebena...  \n",
       "4  Alice, an unpretentious and individual 19-year...  "
      ]
     },
     "execution_count": 42,
     "metadata": {},
     "output_type": "execute_result"
    }
   ],
   "source": [
    "movies.head()"
   ]
  },
  {
   "cell_type": "markdown",
   "metadata": {},
   "source": [
    "Now, let's take a look at the data itself. We have a movie's title, runtime, MPAA rating, date of theatrical release, director, actors, and plot. Let's take a look at individual columns first and see what types of data we're dealing with. When importing data with `pd.read_csv()`, `pandas` usually assumes certain things about the types of your data."
   ]
  },
  {
   "cell_type": "code",
   "execution_count": 43,
   "metadata": {},
   "outputs": [
    {
     "name": "stdout",
     "output_type": "stream",
     "text": [
      "Each column is of type  <class 'pandas.core.series.Series'>\n",
      "The title column is of type  <class 'str'>\n",
      "The runtime column is of type  <class 'numpy.int64'>\n",
      "The theatrical release date column is of type  <class 'str'>\n",
      "The director column is of type  <class 'str'>\n",
      "The actor column is of type  <class 'str'>\n",
      "The plot column is of type  <class 'str'>\n"
     ]
    }
   ],
   "source": [
    "print('Each column is of type ', type(movies['title']))\n",
    "print('The title column is of type ', type(movies['title'][0]))\n",
    "print('The runtime column is of type ', type(movies['runtime'][0]))\n",
    "print('The theatrical release date column is of type ', type(movies['theatrical_release'][0]))\n",
    "print('The director column is of type ', type(movies['director'][0]))\n",
    "print('The actor column is of type ', type(movies['actor'][0]))\n",
    "print('The plot column is of type ', type(movies['plot'][0]))"
   ]
  },
  {
   "cell_type": "markdown",
   "metadata": {},
   "source": [
    "Interesting! It looks like we mostly have columns with strings, except for our runtime column is (as expected) an integer. However, note that `pandas` has no problem importing columns with mixed types if they exist; on top of that, this process is usually slower than importing fixed-type columns. You can force a fixed-type import by specifying the `dtype` parameter to `pd.read_csv()`, which is usually a dictionary of column names and expected data types.\n",
    "\n",
    "Looking more closely at our column types, we'll see a couple of wrinkles. First, note that the theatrical release column is of type `str` and not `datetime`. Secondly, note that our director and actor columns are a single string despite representing (usually) one or more people. We'll have to deal with these issues later on in searching the data, so let's run a pre-processing step now.\n",
    "\n",
    "Let's use the `pd.DataFrame.apply()` method, which allows us to efficiently iterate through all of the rows in a column (or the full DataFrame) by applying a function to every row. We can apply a function that we've defined elsewhere, or use a simple one-line `lambda` function. Let's process the theatrical release column as an example, and also use the EXTREMELY useful `pd.to_datetime()` function with `pd.DataFrame.apply()` to cast the entire column to a `pd.Timestamp` type! "
   ]
  },
  {
   "cell_type": "code",
   "execution_count": 44,
   "metadata": {},
   "outputs": [],
   "source": [
    "movies['theatrical_release'] = movies['theatrical_release'].apply(lambda date: pd.to_datetime(date))"
   ]
  },
  {
   "cell_type": "code",
   "execution_count": 45,
   "metadata": {},
   "outputs": [
    {
     "name": "stdout",
     "output_type": "stream",
     "text": [
      "The theatrical release column is now of type  <class 'pandas._libs.tslibs.timestamps.Timestamp'>\n"
     ]
    },
    {
     "data": {
      "text/html": [
       "<div>\n",
       "<style scoped>\n",
       "    .dataframe tbody tr th:only-of-type {\n",
       "        vertical-align: middle;\n",
       "    }\n",
       "\n",
       "    .dataframe tbody tr th {\n",
       "        vertical-align: top;\n",
       "    }\n",
       "\n",
       "    .dataframe thead th {\n",
       "        text-align: right;\n",
       "    }\n",
       "</style>\n",
       "<table border=\"1\" class=\"dataframe\">\n",
       "  <thead>\n",
       "    <tr style=\"text-align: right;\">\n",
       "      <th></th>\n",
       "      <th>title</th>\n",
       "      <th>runtime</th>\n",
       "      <th>mpaa_rating</th>\n",
       "      <th>theatrical_release</th>\n",
       "      <th>director</th>\n",
       "      <th>actor</th>\n",
       "      <th>plot</th>\n",
       "    </tr>\n",
       "  </thead>\n",
       "  <tbody>\n",
       "    <tr>\n",
       "      <td>0</td>\n",
       "      <td>127 Hours</td>\n",
       "      <td>94</td>\n",
       "      <td>R</td>\n",
       "      <td>2010-11-05</td>\n",
       "      <td>Danny Boyle</td>\n",
       "      <td>James Franco, Amber Tamblyn, Kate Mara, Kate B...</td>\n",
       "      <td>An adventurous mountain climber becomes trappe...</td>\n",
       "    </tr>\n",
       "    <tr>\n",
       "      <td>1</td>\n",
       "      <td>8: The Mormon Proposition</td>\n",
       "      <td>78</td>\n",
       "      <td>R</td>\n",
       "      <td>2010-06-18</td>\n",
       "      <td>Reed Cowan, Steven Greenstreet</td>\n",
       "      <td>Dustin Lance Black, Gavin Newsom, Hal Sparks, ...</td>\n",
       "      <td>In 2009, thousands of LGBT citizens are denied...</td>\n",
       "    </tr>\n",
       "    <tr>\n",
       "      <td>2</td>\n",
       "      <td>A Nightmare on Elm Street</td>\n",
       "      <td>96</td>\n",
       "      <td>R</td>\n",
       "      <td>2010-04-30</td>\n",
       "      <td>Samuel Bayer</td>\n",
       "      <td>Rooney Mara, Kyle Gallner, Thomas Dekker, Jack...</td>\n",
       "      <td>Several people are hunted by a cruel serial ki...</td>\n",
       "    </tr>\n",
       "    <tr>\n",
       "      <td>3</td>\n",
       "      <td>A Prophet (Un prophete)</td>\n",
       "      <td>155</td>\n",
       "      <td>R</td>\n",
       "      <td>2010-02-26</td>\n",
       "      <td>Jacques Audiard</td>\n",
       "      <td>Tahar Rahim, Niels Arestrup, Adel Bencherif, R...</td>\n",
       "      <td>Nineteen year-old Franco-Arab Malik El Djebena...</td>\n",
       "    </tr>\n",
       "    <tr>\n",
       "      <td>4</td>\n",
       "      <td>Alice in Wonderland</td>\n",
       "      <td>108</td>\n",
       "      <td>PG</td>\n",
       "      <td>2010-03-05</td>\n",
       "      <td>Tim Burton</td>\n",
       "      <td>Johnny Depp, Mia Wasikowska, Helena Bonham Car...</td>\n",
       "      <td>Alice, an unpretentious and individual 19-year...</td>\n",
       "    </tr>\n",
       "  </tbody>\n",
       "</table>\n",
       "</div>"
      ],
      "text/plain": [
       "                       title  runtime mpaa_rating theatrical_release  \\\n",
       "0                  127 Hours       94           R         2010-11-05   \n",
       "1  8: The Mormon Proposition       78           R         2010-06-18   \n",
       "2  A Nightmare on Elm Street       96           R         2010-04-30   \n",
       "3    A Prophet (Un prophete)      155           R         2010-02-26   \n",
       "4        Alice in Wonderland      108          PG         2010-03-05   \n",
       "\n",
       "                         director  \\\n",
       "0                     Danny Boyle   \n",
       "1  Reed Cowan, Steven Greenstreet   \n",
       "2                    Samuel Bayer   \n",
       "3                 Jacques Audiard   \n",
       "4                      Tim Burton   \n",
       "\n",
       "                                               actor  \\\n",
       "0  James Franco, Amber Tamblyn, Kate Mara, Kate B...   \n",
       "1  Dustin Lance Black, Gavin Newsom, Hal Sparks, ...   \n",
       "2  Rooney Mara, Kyle Gallner, Thomas Dekker, Jack...   \n",
       "3  Tahar Rahim, Niels Arestrup, Adel Bencherif, R...   \n",
       "4  Johnny Depp, Mia Wasikowska, Helena Bonham Car...   \n",
       "\n",
       "                                                plot  \n",
       "0  An adventurous mountain climber becomes trappe...  \n",
       "1  In 2009, thousands of LGBT citizens are denied...  \n",
       "2  Several people are hunted by a cruel serial ki...  \n",
       "3  Nineteen year-old Franco-Arab Malik El Djebena...  \n",
       "4  Alice, an unpretentious and individual 19-year...  "
      ]
     },
     "execution_count": 45,
     "metadata": {},
     "output_type": "execute_result"
    }
   ],
   "source": [
    "print('The theatrical release column is now of type ', type(movies['theatrical_release'][0]))\n",
    "movies.head()"
   ]
  },
  {
   "cell_type": "markdown",
   "metadata": {},
   "source": [
    "Now let's think about the director and actor columns. You might be asking — isn't it bad practice to have potentially multiple individuals contained in a single string? The short answer is yes. It turns out that this data originated from a JSON export from a MongoDB (non-relational or NoSQL) database, where the director and actor columns were actually lists of strings. This nested data-type representation doesn't translate well to the relational row-column format of a `pandas` DataFrame, which is why we have the non-ideal situation where multiple individuals are contained in a single string in a single column. We could blow up the director and actor columns into multiple columns, but then we run into a couple of different problems: what happens to films with differently sized casts? Do we only store the X most important cast members? These are data model design questions that I'll leave as an exercise to the reader.\n",
    "\n",
    "In the meantime, we're going to check our dataset for `nan`. If you tuned in to this weekend's section, you'll recall that we discussed the concept of `nan`, or **Not a Number**. This pesky data type is technically a `float` but usually represents a missing data point. Rather than break the entire `pd.read_csv()` operation, `pandas` just assumed you meant to have a missing value in that cell and populated it by default with `numpy.nan` instead. (Note that the native Python `math` module has an implementation of `nan` as well.)\n",
    "\n",
    "Why don't we take a look in our DataFrame and see where (if at all) we have `nan` values? We'll use a Boolean mask to do so. Recall this topic from this weekend's section as well. As a refresher, a Boolean mask is an array of True/False values that correspond to the result of some operation — in this case the `pd.DataFrame.isnull()` method — and we can use it as a mask to restrict our DataFrame to a subset of rows that correspond to only the True values in our Boolean mask. \n",
    "\n",
    "**IMPORTANT:** In `pandas`, we can construct a Boolean mask on any column using any kind of comparison operator (<, >, ==) and then use the resulting mask as a filter on our original DataFrame to yield a subset of rows that match our restriction. This is a major way of accessing subsets of your data quickly! (Although it is not the only way and perhaps not the fastest depending on what you want to do and what your data looks like.) "
   ]
  },
  {
   "cell_type": "code",
   "execution_count": 46,
   "metadata": {},
   "outputs": [
    {
     "data": {
      "text/html": [
       "<div>\n",
       "<style scoped>\n",
       "    .dataframe tbody tr th:only-of-type {\n",
       "        vertical-align: middle;\n",
       "    }\n",
       "\n",
       "    .dataframe tbody tr th {\n",
       "        vertical-align: top;\n",
       "    }\n",
       "\n",
       "    .dataframe thead th {\n",
       "        text-align: right;\n",
       "    }\n",
       "</style>\n",
       "<table border=\"1\" class=\"dataframe\">\n",
       "  <thead>\n",
       "    <tr style=\"text-align: right;\">\n",
       "      <th></th>\n",
       "      <th>title</th>\n",
       "      <th>runtime</th>\n",
       "      <th>mpaa_rating</th>\n",
       "      <th>theatrical_release</th>\n",
       "      <th>director</th>\n",
       "      <th>actor</th>\n",
       "      <th>plot</th>\n",
       "    </tr>\n",
       "  </thead>\n",
       "  <tbody>\n",
       "    <tr>\n",
       "      <td>275</td>\n",
       "      <td>Darwin's Nightmare</td>\n",
       "      <td>107</td>\n",
       "      <td>Unrated</td>\n",
       "      <td>2005-12-16</td>\n",
       "      <td>Hubert Sauper</td>\n",
       "      <td>NaN</td>\n",
       "      <td>The larger scope of the story explores the gun...</td>\n",
       "    </tr>\n",
       "    <tr>\n",
       "      <td>804</td>\n",
       "      <td>War Dance</td>\n",
       "      <td>105</td>\n",
       "      <td>PG-13</td>\n",
       "      <td>2007-11-09</td>\n",
       "      <td>Andrea Nix Fine, Sean Fine</td>\n",
       "      <td>NaN</td>\n",
       "      <td>Three children living in a displacement camp i...</td>\n",
       "    </tr>\n",
       "  </tbody>\n",
       "</table>\n",
       "</div>"
      ],
      "text/plain": [
       "                  title  runtime mpaa_rating theatrical_release  \\\n",
       "275  Darwin's Nightmare      107     Unrated         2005-12-16   \n",
       "804           War Dance      105       PG-13         2007-11-09   \n",
       "\n",
       "                       director actor  \\\n",
       "275               Hubert Sauper   NaN   \n",
       "804  Andrea Nix Fine, Sean Fine   NaN   \n",
       "\n",
       "                                                  plot  \n",
       "275  The larger scope of the story explores the gun...  \n",
       "804  Three children living in a displacement camp i...  "
      ]
     },
     "execution_count": 46,
     "metadata": {},
     "output_type": "execute_result"
    }
   ],
   "source": [
    "mask = movies.isnull().values\n",
    "movies[mask]"
   ]
  },
  {
   "cell_type": "markdown",
   "metadata": {},
   "source": [
    "Let's just drop these two rows from our DataFrame. (A Google search reveals that these were documentaries - hence the lack of cast.) In some cases, we might want to use something like the `pd.DataFrame.fillna()` method to fill all of our `nan` cells with some default value, but in this one we'll just drop the rows from our DataFrame using `pd.DataFrame.dropna()`. If we were to train an eventual model to predict box office gross, we wouldn't want to necessarily keep these movies for potential selection into our training set, as they're relatively niche documentary films that are likely unrepresentative of the dataset.\n",
    "\n",
    "_DIGRESSION ON SEMANTICS_: Note that I'm referring to these methods as `pd.DataFrame.dropna()`. That's because they're defined as methods on the DataFrame class in `pandas`. These are not public methods that exist in `pandas` by themselves - they can only be called on an instance of the `pd.DataFrame` class, of which our `movies` variable is one. Contrast this to the `pd.read_csv()` method.\n",
    "\n",
    "Note that after we drop these two rows, our set of NaN values is non-existent."
   ]
  },
  {
   "cell_type": "code",
   "execution_count": 47,
   "metadata": {},
   "outputs": [],
   "source": [
    "movies = movies.dropna()"
   ]
  },
  {
   "cell_type": "code",
   "execution_count": 48,
   "metadata": {},
   "outputs": [
    {
     "data": {
      "text/html": [
       "<div>\n",
       "<style scoped>\n",
       "    .dataframe tbody tr th:only-of-type {\n",
       "        vertical-align: middle;\n",
       "    }\n",
       "\n",
       "    .dataframe tbody tr th {\n",
       "        vertical-align: top;\n",
       "    }\n",
       "\n",
       "    .dataframe thead th {\n",
       "        text-align: right;\n",
       "    }\n",
       "</style>\n",
       "<table border=\"1\" class=\"dataframe\">\n",
       "  <thead>\n",
       "    <tr style=\"text-align: right;\">\n",
       "      <th></th>\n",
       "      <th>title</th>\n",
       "      <th>runtime</th>\n",
       "      <th>mpaa_rating</th>\n",
       "      <th>theatrical_release</th>\n",
       "      <th>director</th>\n",
       "      <th>actor</th>\n",
       "      <th>plot</th>\n",
       "    </tr>\n",
       "  </thead>\n",
       "  <tbody>\n",
       "  </tbody>\n",
       "</table>\n",
       "</div>"
      ],
      "text/plain": [
       "Empty DataFrame\n",
       "Columns: [title, runtime, mpaa_rating, theatrical_release, director, actor, plot]\n",
       "Index: []"
      ]
     },
     "execution_count": 48,
     "metadata": {},
     "output_type": "execute_result"
    }
   ],
   "source": [
    "movies[movies.isnull().values]"
   ]
  },
  {
   "cell_type": "markdown",
   "metadata": {},
   "source": [
    "Now, for the coding! This part will be relatively hands-off so you're free to interact with the DataFrame however you wish, so long as you use one of the following methods: Boolean masks, `pd.DataFrame.str.contains`, `pd.DataFrame.query`, `pd.DataFrame.iloc`, `pd.DataFrame.loc`, `pd.DataFrame.ix`, `pd.DataFrame.at`, `pd.DataFrame.iat`. I'll leave it an exercise to the reader to brush up on the documentation for said methods. Don't worry if you prefer to stick to one method - just be aware that your DataFrame manipulation toolkit has a number of different approaches! We will go into the various pros/cons and efficiencies of each method at a later point as we dive deeper into `pandas`.\n",
    "\n",
    "Please write your code below (making sure that it runs!) and also write your answers in a Markdown cell. May the odds be ever in your favour!"
   ]
  },
  {
   "cell_type": "code",
   "execution_count": 49,
   "metadata": {
    "scrolled": false
   },
   "outputs": [
    {
     "data": {
      "text/html": [
       "<div>\n",
       "<style scoped>\n",
       "    .dataframe tbody tr th:only-of-type {\n",
       "        vertical-align: middle;\n",
       "    }\n",
       "\n",
       "    .dataframe tbody tr th {\n",
       "        vertical-align: top;\n",
       "    }\n",
       "\n",
       "    .dataframe thead th {\n",
       "        text-align: right;\n",
       "    }\n",
       "</style>\n",
       "<table border=\"1\" class=\"dataframe\">\n",
       "  <thead>\n",
       "    <tr style=\"text-align: right;\">\n",
       "      <th></th>\n",
       "      <th>title</th>\n",
       "      <th>runtime</th>\n",
       "      <th>mpaa_rating</th>\n",
       "      <th>theatrical_release</th>\n",
       "      <th>director</th>\n",
       "      <th>actor</th>\n",
       "      <th>plot</th>\n",
       "    </tr>\n",
       "  </thead>\n",
       "  <tbody>\n",
       "    <tr>\n",
       "      <td>0</td>\n",
       "      <td>127 Hours</td>\n",
       "      <td>94</td>\n",
       "      <td>R</td>\n",
       "      <td>2010-11-05</td>\n",
       "      <td>Danny Boyle</td>\n",
       "      <td>James Franco, Amber Tamblyn, Kate Mara, Kate B...</td>\n",
       "      <td>An adventurous mountain climber becomes trappe...</td>\n",
       "    </tr>\n",
       "    <tr>\n",
       "      <td>1</td>\n",
       "      <td>8: The Mormon Proposition</td>\n",
       "      <td>78</td>\n",
       "      <td>R</td>\n",
       "      <td>2010-06-18</td>\n",
       "      <td>Reed Cowan, Steven Greenstreet</td>\n",
       "      <td>Dustin Lance Black, Gavin Newsom, Hal Sparks, ...</td>\n",
       "      <td>In 2009, thousands of LGBT citizens are denied...</td>\n",
       "    </tr>\n",
       "    <tr>\n",
       "      <td>2</td>\n",
       "      <td>A Nightmare on Elm Street</td>\n",
       "      <td>96</td>\n",
       "      <td>R</td>\n",
       "      <td>2010-04-30</td>\n",
       "      <td>Samuel Bayer</td>\n",
       "      <td>Rooney Mara, Kyle Gallner, Thomas Dekker, Jack...</td>\n",
       "      <td>Several people are hunted by a cruel serial ki...</td>\n",
       "    </tr>\n",
       "    <tr>\n",
       "      <td>3</td>\n",
       "      <td>A Prophet (Un prophete)</td>\n",
       "      <td>155</td>\n",
       "      <td>R</td>\n",
       "      <td>2010-02-26</td>\n",
       "      <td>Jacques Audiard</td>\n",
       "      <td>Tahar Rahim, Niels Arestrup, Adel Bencherif, R...</td>\n",
       "      <td>Nineteen year-old Franco-Arab Malik El Djebena...</td>\n",
       "    </tr>\n",
       "    <tr>\n",
       "      <td>4</td>\n",
       "      <td>Alice in Wonderland</td>\n",
       "      <td>108</td>\n",
       "      <td>PG</td>\n",
       "      <td>2010-03-05</td>\n",
       "      <td>Tim Burton</td>\n",
       "      <td>Johnny Depp, Mia Wasikowska, Helena Bonham Car...</td>\n",
       "      <td>Alice, an unpretentious and individual 19-year...</td>\n",
       "    </tr>\n",
       "    <tr>\n",
       "      <td>...</td>\n",
       "      <td>...</td>\n",
       "      <td>...</td>\n",
       "      <td>...</td>\n",
       "      <td>...</td>\n",
       "      <td>...</td>\n",
       "      <td>...</td>\n",
       "      <td>...</td>\n",
       "    </tr>\n",
       "    <tr>\n",
       "      <td>989</td>\n",
       "      <td>Little Fockers</td>\n",
       "      <td>98</td>\n",
       "      <td>PG-13</td>\n",
       "      <td>2010-12-24</td>\n",
       "      <td>Paul Weitz</td>\n",
       "      <td>Ben Stiller, Owen Wilson, Blythe Danner, Teri ...</td>\n",
       "      <td>It has taken 10 years, two little Fockers with...</td>\n",
       "    </tr>\n",
       "    <tr>\n",
       "      <td>990</td>\n",
       "      <td>Dominion: Prequel to the Exorcist</td>\n",
       "      <td>117</td>\n",
       "      <td>R</td>\n",
       "      <td>2005-05-20</td>\n",
       "      <td>Paul Schrader</td>\n",
       "      <td>Stellan Skarsgard, Gabriel Mann</td>\n",
       "      <td>Lankester Merrin is a archaeologist by profess...</td>\n",
       "    </tr>\n",
       "    <tr>\n",
       "      <td>991</td>\n",
       "      <td>I Can Do Bad All by Myself</td>\n",
       "      <td>113</td>\n",
       "      <td>PG-13</td>\n",
       "      <td>2009-09-11</td>\n",
       "      <td>Tyler Perry</td>\n",
       "      <td>Taraji P. Henson, Adam Rodriguez, Mary J. Blig...</td>\n",
       "      <td>When Madea catches sixteen-year-old Jennifer a...</td>\n",
       "    </tr>\n",
       "    <tr>\n",
       "      <td>992</td>\n",
       "      <td>The Twilight Saga: Eclipse</td>\n",
       "      <td>124</td>\n",
       "      <td>PG-13</td>\n",
       "      <td>2010-07-02</td>\n",
       "      <td>David Slade</td>\n",
       "      <td>Kristen Stewart, Robert Pattinson, Taylor Laut...</td>\n",
       "      <td>Bella once again finds herself surrounded by d...</td>\n",
       "    </tr>\n",
       "    <tr>\n",
       "      <td>993</td>\n",
       "      <td>[Rec]</td>\n",
       "      <td>78</td>\n",
       "      <td>R</td>\n",
       "      <td>2007-11-23</td>\n",
       "      <td>Jaume Balaguero, Paco Plaza</td>\n",
       "      <td>Manuela Velasco, Ferran Terraza, Jorge-Yamam S...</td>\n",
       "      <td>REC turns on a young TV reporter and her camer...</td>\n",
       "    </tr>\n",
       "  </tbody>\n",
       "</table>\n",
       "<p>992 rows × 7 columns</p>\n",
       "</div>"
      ],
      "text/plain": [
       "                                 title  runtime mpaa_rating  \\\n",
       "0                            127 Hours       94           R   \n",
       "1            8: The Mormon Proposition       78           R   \n",
       "2            A Nightmare on Elm Street       96           R   \n",
       "3              A Prophet (Un prophete)      155           R   \n",
       "4                  Alice in Wonderland      108          PG   \n",
       "..                                 ...      ...         ...   \n",
       "989                     Little Fockers       98       PG-13   \n",
       "990  Dominion: Prequel to the Exorcist      117           R   \n",
       "991         I Can Do Bad All by Myself      113       PG-13   \n",
       "992         The Twilight Saga: Eclipse      124       PG-13   \n",
       "993                              [Rec]       78           R   \n",
       "\n",
       "    theatrical_release                        director  \\\n",
       "0           2010-11-05                     Danny Boyle   \n",
       "1           2010-06-18  Reed Cowan, Steven Greenstreet   \n",
       "2           2010-04-30                    Samuel Bayer   \n",
       "3           2010-02-26                 Jacques Audiard   \n",
       "4           2010-03-05                      Tim Burton   \n",
       "..                 ...                             ...   \n",
       "989         2010-12-24                      Paul Weitz   \n",
       "990         2005-05-20                   Paul Schrader   \n",
       "991         2009-09-11                     Tyler Perry   \n",
       "992         2010-07-02                     David Slade   \n",
       "993         2007-11-23     Jaume Balaguero, Paco Plaza   \n",
       "\n",
       "                                                 actor  \\\n",
       "0    James Franco, Amber Tamblyn, Kate Mara, Kate B...   \n",
       "1    Dustin Lance Black, Gavin Newsom, Hal Sparks, ...   \n",
       "2    Rooney Mara, Kyle Gallner, Thomas Dekker, Jack...   \n",
       "3    Tahar Rahim, Niels Arestrup, Adel Bencherif, R...   \n",
       "4    Johnny Depp, Mia Wasikowska, Helena Bonham Car...   \n",
       "..                                                 ...   \n",
       "989  Ben Stiller, Owen Wilson, Blythe Danner, Teri ...   \n",
       "990                    Stellan Skarsgard, Gabriel Mann   \n",
       "991  Taraji P. Henson, Adam Rodriguez, Mary J. Blig...   \n",
       "992  Kristen Stewart, Robert Pattinson, Taylor Laut...   \n",
       "993  Manuela Velasco, Ferran Terraza, Jorge-Yamam S...   \n",
       "\n",
       "                                                  plot  \n",
       "0    An adventurous mountain climber becomes trappe...  \n",
       "1    In 2009, thousands of LGBT citizens are denied...  \n",
       "2    Several people are hunted by a cruel serial ki...  \n",
       "3    Nineteen year-old Franco-Arab Malik El Djebena...  \n",
       "4    Alice, an unpretentious and individual 19-year...  \n",
       "..                                                 ...  \n",
       "989  It has taken 10 years, two little Fockers with...  \n",
       "990  Lankester Merrin is a archaeologist by profess...  \n",
       "991  When Madea catches sixteen-year-old Jennifer a...  \n",
       "992  Bella once again finds herself surrounded by d...  \n",
       "993  REC turns on a young TV reporter and her camer...  \n",
       "\n",
       "[992 rows x 7 columns]"
      ]
     },
     "execution_count": 49,
     "metadata": {},
     "output_type": "execute_result"
    }
   ],
   "source": [
    "movies"
   ]
  },
  {
   "cell_type": "markdown",
   "metadata": {},
   "source": [
    "**1) How many movies did David Fincher direct?**"
   ]
  },
  {
   "cell_type": "code",
   "execution_count": 50,
   "metadata": {},
   "outputs": [
    {
     "name": "stdout",
     "output_type": "stream",
     "text": [
      "David Fincher directed 3 movies\n"
     ]
    }
   ],
   "source": [
    "# Your code here\n",
    "\n",
    "dirDF = movies[movies['director'].str.contains('David Fincher')].shape[0]\n",
    "print('David Fincher directed', dirDF, 'movies' )"
   ]
  },
  {
   "cell_type": "markdown",
   "metadata": {},
   "source": [
    "**2) How many movies are rated R?**"
   ]
  },
  {
   "cell_type": "code",
   "execution_count": 51,
   "metadata": {},
   "outputs": [
    {
     "name": "stdout",
     "output_type": "stream",
     "text": [
      "There are 390 rated R movies.\n"
     ]
    }
   ],
   "source": [
    "# Your code here\n",
    "\n",
    "rR = movies.loc[movies['mpaa_rating']=='R'].shape[0]\n",
    "print('There are', rR, 'rated R movies.')"
   ]
  },
  {
   "cell_type": "markdown",
   "metadata": {},
   "source": [
    "**3) Which movies did Robert Downey Jr. act in?**"
   ]
  },
  {
   "cell_type": "code",
   "execution_count": 52,
   "metadata": {},
   "outputs": [
    {
     "data": {
      "text/html": [
       "<div>\n",
       "<style scoped>\n",
       "    .dataframe tbody tr th:only-of-type {\n",
       "        vertical-align: middle;\n",
       "    }\n",
       "\n",
       "    .dataframe tbody tr th {\n",
       "        vertical-align: top;\n",
       "    }\n",
       "\n",
       "    .dataframe thead th {\n",
       "        text-align: right;\n",
       "    }\n",
       "</style>\n",
       "<table border=\"1\" class=\"dataframe\">\n",
       "  <thead>\n",
       "    <tr style=\"text-align: right;\">\n",
       "      <th></th>\n",
       "      <th>actor</th>\n",
       "      <th>title</th>\n",
       "    </tr>\n",
       "  </thead>\n",
       "  <tbody>\n",
       "    <tr>\n",
       "      <td>43</td>\n",
       "      <td>Robert Downey Jr., Gwyneth Paltrow, Don Cheadl...</td>\n",
       "      <td>Iron Man 2</td>\n",
       "    </tr>\n",
       "    <tr>\n",
       "      <td>189</td>\n",
       "      <td>Robert Downey Jr., Jude Law, Rachel McAdams, M...</td>\n",
       "      <td>Sherlock Holmes</td>\n",
       "    </tr>\n",
       "    <tr>\n",
       "      <td>220</td>\n",
       "      <td>Jamie Foxx, Robert Downey Jr., Tom Hollander, ...</td>\n",
       "      <td>The Soloist</td>\n",
       "    </tr>\n",
       "    <tr>\n",
       "      <td>296</td>\n",
       "      <td>David Strathairn, Patricia Clarkson, Jeff Dani...</td>\n",
       "      <td>Good Night, And Good Luck</td>\n",
       "    </tr>\n",
       "    <tr>\n",
       "      <td>550</td>\n",
       "      <td>Tim Allen, Kristin Davis, Robert Downey Jr., Z...</td>\n",
       "      <td>The Shaggy Dog</td>\n",
       "    </tr>\n",
       "    <tr>\n",
       "      <td>809</td>\n",
       "      <td>Jake Gyllenhaal, Mark Ruffalo, Robert Downey J...</td>\n",
       "      <td>Zodiac</td>\n",
       "    </tr>\n",
       "    <tr>\n",
       "      <td>831</td>\n",
       "      <td>Anton Yelchin, Robert Downey Jr., Hope Davis, ...</td>\n",
       "      <td>Charlie Bartlett</td>\n",
       "    </tr>\n",
       "    <tr>\n",
       "      <td>863</td>\n",
       "      <td>Robert Downey Jr., Terrence Howard, Jeff Bridg...</td>\n",
       "      <td>Iron Man</td>\n",
       "    </tr>\n",
       "    <tr>\n",
       "      <td>948</td>\n",
       "      <td>Jack Black, Ben Stiller, Robert Downey Jr., Ja...</td>\n",
       "      <td>Tropic Thunder</td>\n",
       "    </tr>\n",
       "  </tbody>\n",
       "</table>\n",
       "</div>"
      ],
      "text/plain": [
       "                                                 actor  \\\n",
       "43   Robert Downey Jr., Gwyneth Paltrow, Don Cheadl...   \n",
       "189  Robert Downey Jr., Jude Law, Rachel McAdams, M...   \n",
       "220  Jamie Foxx, Robert Downey Jr., Tom Hollander, ...   \n",
       "296  David Strathairn, Patricia Clarkson, Jeff Dani...   \n",
       "550  Tim Allen, Kristin Davis, Robert Downey Jr., Z...   \n",
       "809  Jake Gyllenhaal, Mark Ruffalo, Robert Downey J...   \n",
       "831  Anton Yelchin, Robert Downey Jr., Hope Davis, ...   \n",
       "863  Robert Downey Jr., Terrence Howard, Jeff Bridg...   \n",
       "948  Jack Black, Ben Stiller, Robert Downey Jr., Ja...   \n",
       "\n",
       "                         title  \n",
       "43                  Iron Man 2  \n",
       "189            Sherlock Holmes  \n",
       "220                The Soloist  \n",
       "296  Good Night, And Good Luck  \n",
       "550             The Shaggy Dog  \n",
       "809                     Zodiac  \n",
       "831           Charlie Bartlett  \n",
       "863                   Iron Man  \n",
       "948             Tropic Thunder  "
      ]
     },
     "execution_count": 52,
     "metadata": {},
     "output_type": "execute_result"
    }
   ],
   "source": [
    "# Your code here\n",
    "actors = movies[['actor','title']]\n",
    "RDJ = actors[actors['actor'].str.contains('Robert Downey Jr.')]\n",
    "RDJ "
   ]
  },
  {
   "cell_type": "markdown",
   "metadata": {},
   "source": [
    "Robert Downey Jr. acted in \"Iron Man\", \"Iron Man 2\", \"Sherlock Holmes\", \"The Soloist\", \"Good Night, And Good Luck\", \"The Shaggy Dog\", \"Zodiac\", \"Charlie Bartlett\", & \"Tropic Thunder\"."
   ]
  },
  {
   "cell_type": "markdown",
   "metadata": {},
   "source": [
    "**4) What is the plot of the movie _Blades of Glory_ (2007)?**  \n",
    "Hint: it's located in row 633."
   ]
  },
  {
   "cell_type": "code",
   "execution_count": 53,
   "metadata": {},
   "outputs": [
    {
     "data": {
      "text/plain": [
       "[\"In 2002, two rival Olympic ice skaters were stripped of their gold medals and permanently banned from men's single competition. Presently, however, they've found a loophole that will allow them to qualify as a pairs team.\"]"
      ]
     },
     "execution_count": 53,
     "metadata": {},
     "output_type": "execute_result"
    }
   ],
   "source": [
    "# Your code here\n",
    "\n",
    "BoG = movies[movies['title']=='Blades of Glory']\n",
    "list(BoG['plot'])"
   ]
  },
  {
   "cell_type": "markdown",
   "metadata": {},
   "source": [
    "**5) What is the latest release date in this dataset? For which movie(s)?**  \n",
    "Hint 1: You can use `pd.to_datetime('YYYY-MM-DD')` to generate a Timestamp for any date.  \n",
    "Hint 2: Your answer (or part of it) will correspond to the holiday that the last CSCI E-29 lecture took place on."
   ]
  },
  {
   "cell_type": "code",
   "execution_count": 54,
   "metadata": {},
   "outputs": [
    {
     "data": {
      "text/plain": [
       "Timestamp('2010-12-29 00:00:00')"
      ]
     },
     "execution_count": 54,
     "metadata": {},
     "output_type": "execute_result"
    }
   ],
   "source": [
    "# Your code here\n",
    "\n",
    "movies['theatrical_release'] = pd.to_datetime(movies['theatrical_release'])\n",
    "latest_release = movies['theatrical_release'].max()\n",
    "latest_release"
   ]
  },
  {
   "cell_type": "code",
   "execution_count": 55,
   "metadata": {},
   "outputs": [
    {
     "data": {
      "text/html": [
       "<div>\n",
       "<style scoped>\n",
       "    .dataframe tbody tr th:only-of-type {\n",
       "        vertical-align: middle;\n",
       "    }\n",
       "\n",
       "    .dataframe tbody tr th {\n",
       "        vertical-align: top;\n",
       "    }\n",
       "\n",
       "    .dataframe thead th {\n",
       "        text-align: right;\n",
       "    }\n",
       "</style>\n",
       "<table border=\"1\" class=\"dataframe\">\n",
       "  <thead>\n",
       "    <tr style=\"text-align: right;\">\n",
       "      <th></th>\n",
       "      <th>title</th>\n",
       "      <th>runtime</th>\n",
       "      <th>mpaa_rating</th>\n",
       "      <th>theatrical_release</th>\n",
       "      <th>director</th>\n",
       "      <th>actor</th>\n",
       "      <th>plot</th>\n",
       "    </tr>\n",
       "  </thead>\n",
       "  <tbody>\n",
       "    <tr>\n",
       "      <td>6</td>\n",
       "      <td>Another Year</td>\n",
       "      <td>129</td>\n",
       "      <td>PG-13</td>\n",
       "      <td>2010-12-29</td>\n",
       "      <td>Mike Leigh</td>\n",
       "      <td>Jim Broadbent, Ruth Sheen, Lesley Manville, Ol...</td>\n",
       "      <td>A married couple who have managed to remain bl...</td>\n",
       "    </tr>\n",
       "    <tr>\n",
       "      <td>8</td>\n",
       "      <td>Biutiful</td>\n",
       "      <td>148</td>\n",
       "      <td>R</td>\n",
       "      <td>2010-12-29</td>\n",
       "      <td>Alejandro Gonzalez Inarritu</td>\n",
       "      <td>Javier Bardem, Maricel Alvarez, Eduard Fernand...</td>\n",
       "      <td>This is the story of Uxbal, a man living in th...</td>\n",
       "    </tr>\n",
       "    <tr>\n",
       "      <td>10</td>\n",
       "      <td>Blue Valentine</td>\n",
       "      <td>114</td>\n",
       "      <td>R</td>\n",
       "      <td>2010-12-29</td>\n",
       "      <td>Andrij Parekh, Derek Cianfrance</td>\n",
       "      <td>Ryan Gosling, Michelle Williams, Faith Wladyka...</td>\n",
       "      <td>Dean Pereira and Cindy Heller Pereira are a yo...</td>\n",
       "    </tr>\n",
       "  </tbody>\n",
       "</table>\n",
       "</div>"
      ],
      "text/plain": [
       "             title  runtime mpaa_rating theatrical_release  \\\n",
       "6     Another Year      129       PG-13         2010-12-29   \n",
       "8         Biutiful      148           R         2010-12-29   \n",
       "10  Blue Valentine      114           R         2010-12-29   \n",
       "\n",
       "                           director  \\\n",
       "6                        Mike Leigh   \n",
       "8       Alejandro Gonzalez Inarritu   \n",
       "10  Andrij Parekh, Derek Cianfrance   \n",
       "\n",
       "                                                actor  \\\n",
       "6   Jim Broadbent, Ruth Sheen, Lesley Manville, Ol...   \n",
       "8   Javier Bardem, Maricel Alvarez, Eduard Fernand...   \n",
       "10  Ryan Gosling, Michelle Williams, Faith Wladyka...   \n",
       "\n",
       "                                                 plot  \n",
       "6   A married couple who have managed to remain bl...  \n",
       "8   This is the story of Uxbal, a man living in th...  \n",
       "10  Dean Pereira and Cindy Heller Pereira are a yo...  "
      ]
     },
     "execution_count": 55,
     "metadata": {},
     "output_type": "execute_result"
    }
   ],
   "source": [
    "latest_movies = movies[movies['theatrical_release']=='2010-12-29']\n",
    "latest_movies"
   ]
  },
  {
   "cell_type": "markdown",
   "metadata": {},
   "source": [
    "The latest release date is December 29, 2010, and the movies released on that date are \"Another Year\", \"Biutiful\", and \"Blue Valentine\"."
   ]
  },
  {
   "cell_type": "markdown",
   "metadata": {},
   "source": [
    "**6) What is the range of runtimes in our dataset? For which films do they correspond to?**"
   ]
  },
  {
   "cell_type": "code",
   "execution_count": 56,
   "metadata": {},
   "outputs": [
    {
     "name": "stdout",
     "output_type": "stream",
     "text": [
      "The runtime range is 55 - 333 minutes.\n"
     ]
    }
   ],
   "source": [
    "# Your code here\n",
    "\n",
    "min_run = movies['runtime'].min()\n",
    "max_run = movies['runtime'].max()\n",
    "\n",
    "print('The runtime range is', min_run,'-',max_run,'minutes.')"
   ]
  },
  {
   "cell_type": "code",
   "execution_count": 57,
   "metadata": {},
   "outputs": [
    {
     "data": {
      "text/html": [
       "<div>\n",
       "<style scoped>\n",
       "    .dataframe tbody tr th:only-of-type {\n",
       "        vertical-align: middle;\n",
       "    }\n",
       "\n",
       "    .dataframe tbody tr th {\n",
       "        vertical-align: top;\n",
       "    }\n",
       "\n",
       "    .dataframe thead th {\n",
       "        text-align: right;\n",
       "    }\n",
       "</style>\n",
       "<table border=\"1\" class=\"dataframe\">\n",
       "  <thead>\n",
       "    <tr style=\"text-align: right;\">\n",
       "      <th></th>\n",
       "      <th>title</th>\n",
       "      <th>runtime</th>\n",
       "      <th>mpaa_rating</th>\n",
       "      <th>theatrical_release</th>\n",
       "      <th>director</th>\n",
       "      <th>actor</th>\n",
       "      <th>plot</th>\n",
       "    </tr>\n",
       "  </thead>\n",
       "  <tbody>\n",
       "    <tr>\n",
       "      <td>473</td>\n",
       "      <td>Flyboys</td>\n",
       "      <td>55</td>\n",
       "      <td>PG-13</td>\n",
       "      <td>2006-09-22</td>\n",
       "      <td>Tony Bill</td>\n",
       "      <td>James Franco, Martin Henderson, David Ellison,...</td>\n",
       "      <td>Before the United States enters World War I, s...</td>\n",
       "    </tr>\n",
       "  </tbody>\n",
       "</table>\n",
       "</div>"
      ],
      "text/plain": [
       "       title  runtime mpaa_rating theatrical_release   director  \\\n",
       "473  Flyboys       55       PG-13         2006-09-22  Tony Bill   \n",
       "\n",
       "                                                 actor  \\\n",
       "473  James Franco, Martin Henderson, David Ellison,...   \n",
       "\n",
       "                                                  plot  \n",
       "473  Before the United States enters World War I, s...  "
      ]
     },
     "execution_count": 57,
     "metadata": {},
     "output_type": "execute_result"
    }
   ],
   "source": [
    "movies[movies['runtime']== 55]"
   ]
  },
  {
   "cell_type": "code",
   "execution_count": 58,
   "metadata": {},
   "outputs": [
    {
     "data": {
      "text/html": [
       "<div>\n",
       "<style scoped>\n",
       "    .dataframe tbody tr th:only-of-type {\n",
       "        vertical-align: middle;\n",
       "    }\n",
       "\n",
       "    .dataframe tbody tr th {\n",
       "        vertical-align: top;\n",
       "    }\n",
       "\n",
       "    .dataframe thead th {\n",
       "        text-align: right;\n",
       "    }\n",
       "</style>\n",
       "<table border=\"1\" class=\"dataframe\">\n",
       "  <thead>\n",
       "    <tr style=\"text-align: right;\">\n",
       "      <th></th>\n",
       "      <th>title</th>\n",
       "      <th>runtime</th>\n",
       "      <th>mpaa_rating</th>\n",
       "      <th>theatrical_release</th>\n",
       "      <th>director</th>\n",
       "      <th>actor</th>\n",
       "      <th>plot</th>\n",
       "    </tr>\n",
       "  </thead>\n",
       "  <tbody>\n",
       "    <tr>\n",
       "      <td>15</td>\n",
       "      <td>Carlos</td>\n",
       "      <td>333</td>\n",
       "      <td>Unrated</td>\n",
       "      <td>2010-10-15</td>\n",
       "      <td>Olivier Assayas</td>\n",
       "      <td>Edgar Ramirez, Alexander Scheer, Nora von Wald...</td>\n",
       "      <td>Ilich Ramirez Sanchez, aka 'Carlos,' is a Vene...</td>\n",
       "    </tr>\n",
       "  </tbody>\n",
       "</table>\n",
       "</div>"
      ],
      "text/plain": [
       "     title  runtime mpaa_rating theatrical_release         director  \\\n",
       "15  Carlos      333     Unrated         2010-10-15  Olivier Assayas   \n",
       "\n",
       "                                                actor  \\\n",
       "15  Edgar Ramirez, Alexander Scheer, Nora von Wald...   \n",
       "\n",
       "                                                 plot  \n",
       "15  Ilich Ramirez Sanchez, aka 'Carlos,' is a Vene...  "
      ]
     },
     "execution_count": 58,
     "metadata": {},
     "output_type": "execute_result"
    }
   ],
   "source": [
    "movies[movies['runtime']== 333]"
   ]
  },
  {
   "cell_type": "markdown",
   "metadata": {},
   "source": [
    "The movie with the shortest runtime is \"Flyboys\" and the one with the longest runtime is \"Carlos\"."
   ]
  },
  {
   "cell_type": "markdown",
   "metadata": {},
   "source": [
    "**7) Optional challenge: Who was the most prolific director(s)? The most prolific actor(s)?**  \n",
    "\n",
    "Hint: How efficiently can you solve this problem? Because our director and actor columns are merged strings of individuals, you'll need to use something like `pd.DataFrame.apply` to create new columns that separate the names. You may also want to rely on the `Counter` datatype or something like `itertools.chain.from_iterable` in your code. Each question is doable in one line of code.  \n",
    "\n",
    "Note: If you can't solve this problem, feel free to skip it! No points will be deducted. You might have to do something like this in the real world at some point though..."
   ]
  },
  {
   "cell_type": "code",
   "execution_count": 59,
   "metadata": {},
   "outputs": [
    {
     "name": "stdout",
     "output_type": "stream",
     "text": [
      "The most prolific director is Tyler Perry with 9 movies.\n",
      "The most prolific actor is Nicolas Cage with 13 movies.\n"
     ]
    }
   ],
   "source": [
    "# Your code here\n",
    "\n",
    "# First split the stings separated by comma at the director column. \n",
    "# Credit to: https://pandas.pydata.org/pandas-docs/stable/generated/pandas.Series.str.split.html\n",
    "split_dir = movies['director'].str.split(',', expand = True).stack()\n",
    "# Create a new index equal to the length of the new column starting at 0.\n",
    "# Credit to: https://pandas.pydata.org/pandas-docs/stable/generated/pandas.Index.get_level_values.html\n",
    "index = split_dir.index.get_level_values(0)\n",
    "# Create a copy of the movies dataset with the new index.   \n",
    "movies2 = movies.loc[index].copy()\n",
    "# Add the values of the new column to the new dataset.\n",
    "movies2['director'] = split_dir.values\n",
    "\n",
    "pro_dir = movies2['director'].value_counts().idxmax()\n",
    "movies_dir = movies2['director'].value_counts().max() \n",
    "\n",
    "# Repeat procedure for the actor column.\n",
    "split_act = movies2['actor'].str.split(',', expand = True).stack()\n",
    "# Create a new index for the starting at 0 for the new column.\n",
    "index2 = split_act.index.get_level_values(0)\n",
    "# Create a copy of the movies dataset with the new index.   \n",
    "movies3 = movies.loc[index2].copy()\n",
    "# Add the values of the new column to the new dataset.\n",
    "movies3['actor'] = split_act.values\n",
    "\n",
    "pro_act = movies3['actor'].value_counts().idxmax()\n",
    "movies_act = movies3['actor'].value_counts().max()          \n",
    "\n",
    "print('The most prolific director is', pro_dir, 'with', movies_dir, 'movies.')\n",
    "print('The most prolific actor is', pro_act, 'with', movies_act, 'movies.')"
   ]
  },
  {
   "cell_type": "code",
   "execution_count": null,
   "metadata": {},
   "outputs": [],
   "source": []
  }
 ],
 "metadata": {
  "anaconda-cloud": {},
  "kernelspec": {
   "display_name": "Python 3",
   "language": "python",
   "name": "python3"
  },
  "language_info": {
   "codemirror_mode": {
    "name": "ipython",
    "version": 3
   },
   "file_extension": ".py",
   "mimetype": "text/x-python",
   "name": "python",
   "nbconvert_exporter": "python",
   "pygments_lexer": "ipython3",
   "version": "3.7.4"
  }
 },
 "nbformat": 4,
 "nbformat_minor": 1
}
